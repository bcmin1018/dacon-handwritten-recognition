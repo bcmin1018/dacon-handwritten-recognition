{
  "cells": [
    {
      "cell_type": "markdown",
      "metadata": {
        "id": "xx3cAX_wUwSJ"
      },
      "source": [
        "**! 사용시 주의 사항.**\n",
        "\n",
        "훈련시 train, valid가 모두 필요하므로 사전에 데이터를 train, valid 폴더에 수동으로 파일을 나눠서 저장 필요. ex) train: 66255개, valid: 10639개"
      ]
    },
    {
      "cell_type": "markdown",
      "metadata": {
        "id": "qUWyk43H_jaa"
      },
      "source": [
        "## 1. 작업 환경  \n",
        "Ubuntu 18.04.6 LTS  \n",
        "Cuda 11.2, V11.2.152"
      ]
    },
    {
      "cell_type": "markdown",
      "metadata": {
        "id": "pS9GWdbvQJbP"
      },
      "source": [
        "## 2. 라이브러리 설정"
      ]
    },
    {
      "cell_type": "code",
      "execution_count": 6,
      "metadata": {
        "colab": {
          "base_uri": "https://localhost:8080/"
        },
        "id": "k8X8GOWQTrZQ",
        "outputId": "d55d7571-25fd-4045-e1c8-789d342a9b02"
      },
      "outputs": [
        {
          "output_type": "stream",
          "name": "stdout",
          "text": [
            "Looking in indexes: https://pypi.org/simple, https://us-python.pkg.dev/colab-wheels/public/simple/, https://download.pytorch.org/whl/cu110\n",
            "Requirement already satisfied: torch==1.7.1+cu110 in /usr/local/lib/python3.8/dist-packages (1.7.1+cu110)\n",
            "Requirement already satisfied: torchvision==0.8.2+cu110 in /usr/local/lib/python3.8/dist-packages (0.8.2+cu110)\n",
            "Requirement already satisfied: numpy in /usr/local/lib/python3.8/dist-packages (from torch==1.7.1+cu110) (1.22.4)\n",
            "Requirement already satisfied: typing-extensions in /usr/local/lib/python3.8/dist-packages (from torch==1.7.1+cu110) (4.4.0)\n",
            "Requirement already satisfied: pillow>=4.1.1 in /usr/local/lib/python3.8/dist-packages (from torchvision==0.8.2+cu110) (9.3.0)\n"
          ]
        }
      ],
      "source": [
        "!pip install torch==1.7.1+cu110 torchvision==0.8.2+cu110 --extra-index-url https://download.pytorch.org/whl/cu110"
      ]
    },
    {
      "cell_type": "markdown",
      "metadata": {
        "id": "mqk0NvAZRVEy"
      },
      "source": [
        "## 3. 필요한 파일 다운로드"
      ]
    },
    {
      "cell_type": "code",
      "execution_count": 7,
      "metadata": {
        "colab": {
          "base_uri": "https://localhost:8080/"
        },
        "id": "PBRmMYaUgF54",
        "outputId": "144578de-c525-4e8b-d636-78fa0e06b160"
      },
      "outputs": [
        {
          "output_type": "stream",
          "name": "stdout",
          "text": [
            "Cloning into 'dacon-handwritten-recognition'...\n",
            "remote: Enumerating objects: 60, done.\u001b[K\n",
            "remote: Counting objects: 100% (60/60), done.\u001b[K\n",
            "remote: Compressing objects: 100% (53/53), done.\u001b[K\n",
            "remote: Total 60 (delta 10), reused 34 (delta 1), pack-reused 0\u001b[K\n",
            "Unpacking objects: 100% (60/60), 3.26 MiB | 11.44 MiB/s, done.\n"
          ]
        }
      ],
      "source": [
        "!git clone https://github.com/bcmin1018/dacon-handwritten-recognition.git"
      ]
    },
    {
      "cell_type": "code",
      "execution_count": 8,
      "metadata": {
        "colab": {
          "base_uri": "https://localhost:8080/"
        },
        "id": "9aj--ViNM2QX",
        "outputId": "fa35323f-0078-4225-ee50-2363477dbbe5"
      },
      "outputs": [
        {
          "output_type": "stream",
          "name": "stdout",
          "text": [
            "/content/dacon-handwritten-recognition\n"
          ]
        }
      ],
      "source": [
        "%cd '/content/dacon-handwritten-recognition/'"
      ]
    },
    {
      "cell_type": "code",
      "execution_count": 9,
      "metadata": {
        "colab": {
          "base_uri": "https://localhost:8080/"
        },
        "id": "XdrQ7TJ1Mszr",
        "outputId": "dc2df446-3b2a-4bb6-b953-d33e4162d22e"
      },
      "outputs": [
        {
          "output_type": "stream",
          "name": "stdout",
          "text": [
            "Looking in indexes: https://pypi.org/simple, https://us-python.pkg.dev/colab-wheels/public/simple/\n",
            "Requirement already satisfied: brotlipy==0.7.0 in /usr/local/lib/python3.8/dist-packages (from -r requirements.txt (line 1)) (0.7.0)\n",
            "Requirement already satisfied: click==8.1.3 in /usr/local/lib/python3.8/dist-packages (from -r requirements.txt (line 2)) (8.1.3)\n",
            "Requirement already satisfied: easyocr==1.6.2 in /usr/local/lib/python3.8/dist-packages (from -r requirements.txt (line 3)) (1.6.2)\n",
            "Requirement already satisfied: fire==0.5.0 in /usr/local/lib/python3.8/dist-packages (from -r requirements.txt (line 4)) (0.5.0)\n",
            "Requirement already satisfied: fonttools==4.25.0 in /usr/local/lib/python3.8/dist-packages (from -r requirements.txt (line 5)) (4.25.0)\n",
            "Requirement already satisfied: future==0.18.2 in /usr/local/lib/python3.8/dist-packages (from -r requirements.txt (line 6)) (0.18.2)\n",
            "Requirement already satisfied: imageio==2.23.0 in /usr/local/lib/python3.8/dist-packages (from -r requirements.txt (line 7)) (2.23.0)\n",
            "Requirement already satisfied: importlib-metadata==5.2.0 in /usr/local/lib/python3.8/dist-packages (from -r requirements.txt (line 8)) (5.2.0)\n",
            "Requirement already satisfied: joblib==1.2.0 in /usr/local/lib/python3.8/dist-packages (from -r requirements.txt (line 9)) (1.2.0)\n",
            "Requirement already satisfied: lmdb==1.4.0 in /usr/local/lib/python3.8/dist-packages (from -r requirements.txt (line 10)) (1.4.0)\n",
            "Requirement already satisfied: mkl-fft==1.3.1 in /usr/local/lib/python3.8/dist-packages (from -r requirements.txt (line 11)) (1.3.1)\n",
            "Requirement already satisfied: mkl-service==2.4.0 in /usr/local/lib/python3.8/dist-packages (from -r requirements.txt (line 12)) (2.4.0)\n",
            "Requirement already satisfied: munkres==1.1.4 in /usr/local/lib/python3.8/dist-packages (from -r requirements.txt (line 13)) (1.1.4)\n",
            "Requirement already satisfied: networkx==2.6.3 in /usr/local/lib/python3.8/dist-packages (from -r requirements.txt (line 14)) (2.6.3)\n",
            "Requirement already satisfied: ninja==1.11.1 in /usr/local/lib/python3.8/dist-packages (from -r requirements.txt (line 15)) (1.11.1)\n",
            "Requirement already satisfied: nltk==3.8 in /usr/local/lib/python3.8/dist-packages (from -r requirements.txt (line 16)) (3.8)\n",
            "Requirement already satisfied: opencv-python==4.6.0.66 in /usr/local/lib/python3.8/dist-packages (from -r requirements.txt (line 17)) (4.6.0.66)\n",
            "Requirement already satisfied: opencv-python-headless==4.5.4.60 in /usr/local/lib/python3.8/dist-packages (from -r requirements.txt (line 18)) (4.5.4.60)\n",
            "Requirement already satisfied: pandas==1.3.5 in /usr/local/lib/python3.8/dist-packages (from -r requirements.txt (line 19)) (1.3.5)\n",
            "Requirement already satisfied: Pillow==9.3.0 in /usr/local/lib/python3.8/dist-packages (from -r requirements.txt (line 20)) (9.3.0)\n",
            "Requirement already satisfied: ply==3.11 in /usr/local/lib/python3.8/dist-packages (from -r requirements.txt (line 21)) (3.11)\n",
            "Requirement already satisfied: pyclipper==1.3.0.post4 in /usr/local/lib/python3.8/dist-packages (from -r requirements.txt (line 22)) (1.3.0.post4)\n",
            "Requirement already satisfied: PyQt5-sip==12.11.0 in /usr/local/lib/python3.8/dist-packages (from -r requirements.txt (line 23)) (12.11.0)\n",
            "Requirement already satisfied: python-bidi==0.4.2 in /usr/local/lib/python3.8/dist-packages (from -r requirements.txt (line 24)) (0.4.2)\n",
            "Requirement already satisfied: PyWavelets==1.3.0 in /usr/local/lib/python3.8/dist-packages (from -r requirements.txt (line 25)) (1.3.0)\n",
            "Requirement already satisfied: scikit-image==0.19.3 in /usr/local/lib/python3.8/dist-packages (from -r requirements.txt (line 26)) (0.19.3)\n",
            "Requirement already satisfied: scipy==1.7.3 in /usr/local/lib/python3.8/dist-packages (from -r requirements.txt (line 27)) (1.7.3)\n",
            "Requirement already satisfied: shapely==2.0.0 in /usr/local/lib/python3.8/dist-packages (from -r requirements.txt (line 28)) (2.0.0)\n",
            "Requirement already satisfied: termcolor==2.1.1 in /usr/local/lib/python3.8/dist-packages (from -r requirements.txt (line 29)) (2.1.1)\n",
            "Requirement already satisfied: torch==1.7.1+cu110 in /usr/local/lib/python3.8/dist-packages (from -r requirements.txt (line 30)) (1.7.1+cu110)\n",
            "Requirement already satisfied: torchvision==0.8.2+cu110 in /usr/local/lib/python3.8/dist-packages (from -r requirements.txt (line 31)) (0.8.2+cu110)\n",
            "Requirement already satisfied: tqdm==4.64.1 in /usr/local/lib/python3.8/dist-packages (from -r requirements.txt (line 32)) (4.64.1)\n",
            "Requirement already satisfied: zipp==3.11.0 in /usr/local/lib/python3.8/dist-packages (from -r requirements.txt (line 33)) (3.11.0)\n",
            "Requirement already satisfied: cffi>=1.0.0 in /usr/local/lib/python3.8/dist-packages (from brotlipy==0.7.0->-r requirements.txt (line 1)) (1.15.1)\n",
            "Requirement already satisfied: PyYAML in /usr/local/lib/python3.8/dist-packages (from easyocr==1.6.2->-r requirements.txt (line 3)) (6.0)\n",
            "Requirement already satisfied: numpy in /usr/local/lib/python3.8/dist-packages (from easyocr==1.6.2->-r requirements.txt (line 3)) (1.22.4)\n",
            "Requirement already satisfied: six in /usr/local/lib/python3.8/dist-packages (from fire==0.5.0->-r requirements.txt (line 4)) (1.15.0)\n",
            "Requirement already satisfied: mkl in /usr/local/lib/python3.8/dist-packages (from mkl-fft==1.3.1->-r requirements.txt (line 11)) (2019.0)\n",
            "Requirement already satisfied: dpcpp_cpp_rt in /usr/local/lib/python3.8/dist-packages (from mkl-fft==1.3.1->-r requirements.txt (line 11)) (2023.0.0)\n",
            "Requirement already satisfied: regex>=2021.8.3 in /usr/local/lib/python3.8/dist-packages (from nltk==3.8->-r requirements.txt (line 16)) (2022.6.2)\n",
            "Requirement already satisfied: pytz>=2017.3 in /usr/local/lib/python3.8/dist-packages (from pandas==1.3.5->-r requirements.txt (line 19)) (2022.7)\n",
            "Requirement already satisfied: python-dateutil>=2.7.3 in /usr/local/lib/python3.8/dist-packages (from pandas==1.3.5->-r requirements.txt (line 19)) (2.8.2)\n",
            "Requirement already satisfied: tifffile>=2019.7.26 in /usr/local/lib/python3.8/dist-packages (from scikit-image==0.19.3->-r requirements.txt (line 26)) (2022.10.10)\n",
            "Requirement already satisfied: packaging>=20.0 in /usr/local/lib/python3.8/dist-packages (from scikit-image==0.19.3->-r requirements.txt (line 26)) (21.3)\n",
            "Requirement already satisfied: typing-extensions in /usr/local/lib/python3.8/dist-packages (from torch==1.7.1+cu110->-r requirements.txt (line 30)) (4.4.0)\n",
            "Requirement already satisfied: pycparser in /usr/local/lib/python3.8/dist-packages (from cffi>=1.0.0->brotlipy==0.7.0->-r requirements.txt (line 1)) (2.21)\n",
            "Requirement already satisfied: pyparsing!=3.0.5,>=2.0.2 in /usr/local/lib/python3.8/dist-packages (from packaging>=20.0->scikit-image==0.19.3->-r requirements.txt (line 26)) (3.0.9)\n",
            "Requirement already satisfied: intel-cmplr-lic-rt==2023.0.0 in /usr/local/lib/python3.8/dist-packages (from dpcpp_cpp_rt->mkl-fft==1.3.1->-r requirements.txt (line 11)) (2023.0.0)\n",
            "Requirement already satisfied: intel-openmp==2023.0.0 in /usr/local/lib/python3.8/dist-packages (from dpcpp_cpp_rt->mkl-fft==1.3.1->-r requirements.txt (line 11)) (2023.0.0)\n",
            "Requirement already satisfied: intel-cmplr-lib-rt==2023.0.0 in /usr/local/lib/python3.8/dist-packages (from dpcpp_cpp_rt->mkl-fft==1.3.1->-r requirements.txt (line 11)) (2023.0.0)\n",
            "Requirement already satisfied: intel-opencl-rt==2023.0.0 in /usr/local/lib/python3.8/dist-packages (from dpcpp_cpp_rt->mkl-fft==1.3.1->-r requirements.txt (line 11)) (2023.0.0)\n",
            "Requirement already satisfied: tbb==2021.* in /usr/local/lib/python3.8/dist-packages (from intel-opencl-rt==2023.0.0->dpcpp_cpp_rt->mkl-fft==1.3.1->-r requirements.txt (line 11)) (2021.8.0)\n"
          ]
        }
      ],
      "source": [
        "!pip install -r requirements.txt"
      ]
    },
    {
      "cell_type": "code",
      "execution_count": 10,
      "metadata": {
        "colab": {
          "base_uri": "https://localhost:8080/"
        },
        "id": "CE4j6IWGhlyS",
        "outputId": "ce0f1bf9-fd9a-49f0-c2cd-d5f223373cc4"
      },
      "outputs": [
        {
          "output_type": "stream",
          "name": "stdout",
          "text": [
            "Drive already mounted at /content/drive; to attempt to forcibly remount, call drive.mount(\"/content/drive\", force_remount=True).\n"
          ]
        }
      ],
      "source": [
        "from google.colab import drive\n",
        "drive.mount('/content/drive')"
      ]
    },
    {
      "cell_type": "markdown",
      "metadata": {
        "id": "1WE3C5esRbF-"
      },
      "source": [
        "## 4. 훈련 데이터 생성"
      ]
    },
    {
      "cell_type": "code",
      "execution_count": 11,
      "metadata": {
        "colab": {
          "base_uri": "https://localhost:8080/"
        },
        "id": "kls1i2WJNlFA",
        "outputId": "5d8d545a-c69f-476f-83f5-8b1b254e6605"
      },
      "outputs": [
        {
          "output_type": "stream",
          "name": "stdout",
          "text": [
            "/content/dacon-handwritten-recognition/TRDG2DTRB\n"
          ]
        }
      ],
      "source": [
        "%cd '/content/dacon-handwritten-recognition/TRDG2DTRB'"
      ]
    },
    {
      "cell_type": "code",
      "execution_count": 12,
      "metadata": {
        "id": "5vmil2Mahsbb"
      },
      "outputs": [],
      "source": [
        "ORG_DATA_DIR = '/content/drive/MyDrive/project/Kyowon/data'  # 데이터 경로\n",
        "ORG_TRAIN_DATA = ORG_DATA_DIR + '/train' # 훈련 데이터 경로\n",
        "ORG_VALID_DATA = ORG_DATA_DIR + '/valid' # 검증 데이터 경로\n",
        "\n",
        "CONVERT_DATA_DIR = '/content/dacon-handwritten-recognition/data/convert' # 변환된 데이터 저장 경로\n",
        "CONVERT_TRAIN_DATA = CONVERT_DATA_DIR + '/train' # 변환된 훈련 데이터 저장 경로\n",
        "CONVERT_VALID_DATA = CONVERT_DATA_DIR + '/valid' # 변환된 검증 데이터 저장 경로"
      ]
    },
    {
      "cell_type": "code",
      "execution_count": 13,
      "metadata": {
        "id": "SRAqZU51J1_G"
      },
      "outputs": [],
      "source": [
        "import convert"
      ]
    },
    {
      "cell_type": "markdown",
      "metadata": {
        "id": "ULyzAwVrC6nJ"
      },
      "source": [
        "이미지 데이터를 모델 input에 맞도록 convert 전에 train, valid 폴더에 수동으로 파일을 나눠서 저장합니다."
      ]
    },
    {
      "cell_type": "code",
      "execution_count": null,
      "metadata": {
        "colab": {
          "base_uri": "https://localhost:8080/"
        },
        "id": "tGxdGendtSJ2",
        "outputId": "c4db08cf-8fba-4abd-a1a5-6d7cbd7b0f79"
      },
      "outputs": [
        {
          "output_type": "stream",
          "name": "stdout",
          "text": [
            "input path:  /content/drive/MyDrive/project/Kyowon/data/train\n",
            "output path:  /content/dacon-handwritten-recognition/data/convert/train\n",
            "\n",
            "Output folder already exists.\n",
            "\n",
            "So, delete all data of output folder [/content/dacon-handwritten-recognition/data/convert/train]\n",
            "\n",
            "Total file count:  10000\n",
            " 6800 / 10000 Processing !!"
          ]
        }
      ],
      "source": [
        "# 아미지 파일이 많은 경우 코랩에서는 시간초과로 input/output 에러가 자주 발생. (여러번 반복하면 성공)\n",
        "# 코랩에서는 속도가 느림.\n",
        "convert.run(ORG_TRAIN_DATA, CONVERT_TRAIN_DATA)"
      ]
    },
    {
      "cell_type": "code",
      "execution_count": 14,
      "metadata": {
        "id": "K7vu3ETWstdh",
        "colab": {
          "base_uri": "https://localhost:8080/"
        },
        "outputId": "b4445350-724f-414b-9e16-2bc29b909395"
      },
      "outputs": [
        {
          "output_type": "stream",
          "name": "stdout",
          "text": [
            "input path:  /content/drive/MyDrive/project/Kyowon/data/valid\n",
            "output path:  /content/dacon-handwritten-recognition/data/convert/valid\n",
            "Total file count:  10000\n",
            "10000 / 10000 Processing !!\n",
            "Conversion complete!\n",
            "\n"
          ]
        }
      ],
      "source": [
        "convert.run(ORG_VALID_DATA, CONVERT_VALID_DATA)"
      ]
    },
    {
      "cell_type": "code",
      "execution_count": null,
      "metadata": {
        "colab": {
          "background_save": true
        },
        "id": "2DUrUonBNSA1"
      },
      "outputs": [],
      "source": [
        "%cd '/content/dacon-handwritten-recognition/deep-text-recognition-benchmark'"
      ]
    },
    {
      "cell_type": "code",
      "execution_count": null,
      "metadata": {
        "colab": {
          "background_save": true
        },
        "id": "lpcnSz98N7m5"
      },
      "outputs": [],
      "source": [
        "lmdb_path = './result' # lmdb 저장 경로"
      ]
    },
    {
      "cell_type": "code",
      "execution_count": null,
      "metadata": {
        "colab": {
          "background_save": true
        },
        "id": "c6rL1bmhtMOG"
      },
      "outputs": [],
      "source": [
        "import create_lmdb_dataset"
      ]
    },
    {
      "cell_type": "code",
      "execution_count": null,
      "metadata": {
        "colab": {
          "background_save": true
        },
        "id": "86mU4DWHQTxl"
      },
      "outputs": [],
      "source": [
        "create_lmdb_dataset.createDataset(CONVERT_TRAIN_DATA, CONVERT_TRAIN_DATA+'/gt.txt',lmdb_path+'/train' )"
      ]
    },
    {
      "cell_type": "code",
      "execution_count": null,
      "metadata": {
        "colab": {
          "background_save": true
        },
        "id": "Wz367-miOKHZ"
      },
      "outputs": [],
      "source": [
        "create_lmdb_dataset.createDataset(CONVERT_VALID_DATA, CONVERT_VALID_DATA+'/gt.txt',lmdb_path+'/valid' )"
      ]
    },
    {
      "cell_type": "markdown",
      "metadata": {
        "id": "cV9Xevh8QqUq"
      },
      "source": [
        "## 4. 손글씨 인식 사전학습 모델 다운로드\n",
        "다운로드 링크: https://drive.google.com/file/d/12gyTwu5tM_9MthsXI9Ja2yCOXpvDEIao/view  \n",
        "사전학습 모델 논문 링크: https://scienceon.kisti.re.kr/srch/selectPORSrchArticle.do?cn=NPAP13451726&dbt=NPAP  \n",
        "깃헙 링크: https://github.com/parksunwoo/ocr_kor"
      ]
    },
    {
      "cell_type": "code",
      "execution_count": null,
      "metadata": {
        "colab": {
          "background_save": true
        },
        "id": "PQ6tRi0kJFEA"
      },
      "outputs": [],
      "source": [
        "!gdown --id 12gyTwu5tM_9MthsXI9Ja2yCOXpvDEIao --output best_accuracy.pth"
      ]
    },
    {
      "cell_type": "code",
      "execution_count": null,
      "metadata": {
        "id": "Vfg9zRKDkaP6"
      },
      "outputs": [],
      "source": [
        "%cd '/content/dacon-handwritten-recognition/deep-text-recognition-benchmark'\n",
        "\n",
        "\n",
        "# 환경에 맞게 배치사이즈 조정 필요\n",
        "# 테스크에서 성능이 가장 높게 나온 파라미터\n",
        "!python3 train.py \\\n",
        "\t--train_data ./result/train \\\n",
        "\t--valid_data ./result/valid \\\n",
        "\t--select_data / \\\n",
        "\t--batch_ratio 1 \\\n",
        "\t--batch_size 70 \\\n",
        "\t--Transformation TPS \\\n",
        "\t--FeatureExtraction ResNet \\\n",
        "\t--SequenceModeling BiLSTM \\\n",
        "\t--Prediction Attn \\\n",
        "\t--imgH 64 \\\n",
        "\t--imgW 224 \\\n",
        "\t--data_filtering_off \\\n",
        "\t--workers 0 \\\n",
        "\t--batch_max_length 50 \\\n",
        "\t--saved_model ./best_accuracy.pth \\\n",
        "\t--PAD \\\n",
        "\t--FT"
      ]
    },
    {
      "cell_type": "markdown",
      "metadata": {
        "id": "oMtbzHcGfTcG"
      },
      "source": [
        "## 6. test 파일 예측"
      ]
    },
    {
      "cell_type": "code",
      "execution_count": null,
      "metadata": {
        "id": "o0M9NLrqfgr-"
      },
      "outputs": [],
      "source": [
        "# test 파일의 경로를 입력\n",
        "ORG_TEST_DATA = ORG_DATA_DIR + '/test'"
      ]
    },
    {
      "cell_type": "code",
      "execution_count": null,
      "metadata": {
        "id": "M-1u_aoKujn7"
      },
      "outputs": [],
      "source": [
        "import pandas as pd\n",
        "submit = pd.read_csv('../sample_submission.csv')"
      ]
    },
    {
      "cell_type": "code",
      "execution_count": null,
      "metadata": {
        "colab": {
          "base_uri": "https://localhost:8080/"
        },
        "id": "Y47IUAIYuuFf",
        "outputId": "93a354ac-c702-4dbe-9ca8-d13c2cc860aa"
      },
      "outputs": [
        {
          "data": {
            "text/plain": [
              "0        가\n",
              "1        가\n",
              "2        가\n",
              "3        가\n",
              "4        가\n",
              "        ..\n",
              "74116    가\n",
              "74117    가\n",
              "74118    가\n",
              "74119    가\n",
              "74120    가\n",
              "Name: label, Length: 74121, dtype: object"
            ]
          },
          "execution_count": 16,
          "metadata": {},
          "output_type": "execute_result"
        }
      ],
      "source": [
        "submit['label']"
      ]
    },
    {
      "cell_type": "code",
      "execution_count": null,
      "metadata": {
        "colab": {
          "base_uri": "https://localhost:8080/"
        },
        "id": "e4c3cKY6f8pA",
        "outputId": "696113f5-83d9-4a05-c2c4-21b9c60f900c"
      },
      "outputs": [
        {
          "name": "stdout",
          "output_type": "stream",
          "text": [
            "/content/dacon-handwritten-recognition/deep-text-recognition-benchmark\n",
            "model input parameters 64 224 20 1 512 256 974 25 TPS ResNet BiLSTM Attn\n",
            "loading pretrained model from ./saved_models/TPS-ResNet-BiLSTM-Attn-Seed1111/best_accuracy.pth\n",
            "123123123\n",
            "--------------------------------------------------------------------------------\n",
            "image_path               \tpredicted_labels         \tconfidence score\n",
            "--------------------------------------------------------------------------------\n",
            "/content/drive/MyDrive/project/Kyowon/data/test/TEST_00000.png\t[GO][GO][GO][GO][GO][GO][GO][GO][GO][GO][GO][GO][GO][GO][GO][GO][GO][GO][GO][GO][GO][GO][GO][GO][GO][GO\n",
            "/content/drive/MyDrive/project/Kyowon/data/test/TEST_00001.png\t[GO][GO][GO][GO][GO][GO][GO][GO][GO][GO][GO][GO][GO][GO][GO][GO][GO][GO][GO][GO][GO][GO][GO][GO][GO][GO\n",
            "/content/drive/MyDrive/project/Kyowon/data/test/TEST_00002.png\t[GO][GO][GO][GO][GO][GO][GO][GO][GO][GO][GO][GO][GO][GO][GO][GO][GO][GO][GO][GO][GO][GO][GO][GO][GO][GO\n",
            "/content/drive/MyDrive/project/Kyowon/data/test/TEST_00003.png\t[GO][GO][GO][GO][GO][GO][GO][GO][GO][GO][GO][GO][GO][GO][GO][GO][GO][GO][GO][GO][GO][GO][GO][GO][GO][GO\n",
            "/content/drive/MyDrive/project/Kyowon/data/test/TEST_00004.png\t[GO][GO][GO][GO][GO][GO][GO][GO][GO][GO][GO][GO][GO][GO][GO][GO][GO][GO][GO][GO][GO][GO][GO][GO][GO][GO\n",
            "/content/drive/MyDrive/project/Kyowon/data/test/TEST_00005.png\t[GO][GO][GO][GO][GO][GO][GO][GO][GO][GO][GO][GO][GO][GO][GO][GO][GO][GO][GO][GO][GO][GO][GO][GO][GO][GO\n",
            "/content/drive/MyDrive/project/Kyowon/data/test/TEST_00006.png\t[GO][GO][GO][GO][GO][GO][GO][GO][GO][GO][GO][GO][GO][GO][GO][GO][GO][GO][GO][GO][GO][GO][GO][GO][GO][GO\n",
            "/content/drive/MyDrive/project/Kyowon/data/test/TEST_00007.png\t[GO][GO][GO][GO][GO][GO][GO][GO][GO][GO][GO][GO][GO][GO][GO][GO][GO][GO][GO][GO][GO][GO][GO][GO][GO][GO\n",
            "/content/drive/MyDrive/project/Kyowon/data/test/TEST_00008.png\t[GO][GO][GO][GO][GO][GO][GO][GO][GO][GO][GO][GO][GO][GO][GO][GO][GO][GO][GO][GO][GO][GO][GO][GO][GO][GO\n",
            "/content/drive/MyDrive/project/Kyowon/data/test/TEST_00009.png\t[GO][GO][GO][GO][GO][GO][GO][GO][GO][GO][GO][GO][GO][GO][GO][GO][GO][GO][GO][GO][GO][GO][GO][GO][GO][GO\n",
            "/content/drive/MyDrive/project/Kyowon/data/test/TEST_00010.png\t[GO][GO][GO][GO][GO][GO][GO][GO][GO][GO][GO][GO][GO][GO][GO][GO][GO][GO][GO][GO][GO][GO][GO][GO][GO][GO\n",
            "/content/drive/MyDrive/project/Kyowon/data/test/TEST_00011.png\t[GO][GO][GO][GO][GO][GO][GO][GO][GO][GO][GO][GO][GO][GO][GO][GO][GO][GO][GO][GO][GO][GO][GO][GO][GO][GO\n",
            "/content/drive/MyDrive/project/Kyowon/data/test/TEST_00012.png\t[GO][GO][GO][GO][GO][GO][GO][GO][GO][GO][GO][GO][GO][GO][GO][GO][GO][GO][GO][GO][GO][GO][GO][GO][GO][GO\n",
            "/content/drive/MyDrive/project/Kyowon/data/test/TEST_00013.png\t[GO][GO][GO][GO][GO][GO][GO][GO][GO][GO][GO][GO][GO][GO][GO][GO][GO][GO][GO][GO][GO][GO][GO][GO][GO][GO\n",
            "/content/drive/MyDrive/project/Kyowon/data/test/TEST_00014.png\t[GO][GO][GO][GO][GO][GO][GO][GO][GO][GO][GO][GO][GO][GO][GO][GO][GO][GO][GO][GO][GO][GO][GO][GO][GO][GO\n",
            "/content/drive/MyDrive/project/Kyowon/data/test/TEST_00015.png\t[GO][GO][GO][GO][GO][GO][GO][GO][GO][GO][GO][GO][GO][GO][GO][GO][GO][GO][GO][GO][GO][GO][GO][GO][GO][GO\n",
            "/content/drive/MyDrive/project/Kyowon/data/test/TEST_00016.png\t[GO][GO][GO][GO][GO][GO][GO][GO][GO][GO][GO][GO][GO][GO][GO][GO][GO][GO][GO][GO][GO][GO][GO][GO][GO][GO\n",
            "/content/drive/MyDrive/project/Kyowon/data/test/TEST_00017.png\t[GO][GO][GO][GO][GO][GO][GO][GO][GO][GO][GO][GO][GO][GO][GO][GO][GO][GO][GO][GO][GO][GO][GO][GO][GO][GO\n",
            "/content/drive/MyDrive/project/Kyowon/data/test/TEST_00018.png\t[GO][GO][GO][GO][GO][GO][GO][GO][GO][GO][GO][GO][GO][GO][GO][GO][GO][GO][GO][GO][GO][GO][GO][GO][GO][GO\n",
            "/content/drive/MyDrive/project/Kyowon/data/test/TEST_00019.png\t[GO][GO][GO][GO][GO][GO][GO][GO][GO][GO][GO][GO][GO][GO][GO][GO][GO][GO][GO][GO][GO][GO][GO][GO][GO][GO\n",
            "/content/drive/MyDrive/project/Kyowon/data/test/TEST_00020.png\t[GO][GO][GO][GO][GO][GO][GO][GO][GO][GO][GO][GO][GO][GO][GO][GO][GO][GO][GO][GO][GO][GO][GO][GO][GO][GO\n",
            "/content/drive/MyDrive/project/Kyowon/data/test/TEST_00021.png\t[GO][GO][GO][GO][GO][GO][GO][GO][GO][GO][GO][GO][GO][GO][GO][GO][GO][GO][GO][GO][GO][GO][GO][GO][GO][GO\n",
            "/content/drive/MyDrive/project/Kyowon/data/test/TEST_00022.png\t[GO][GO][GO][GO][GO][GO][GO][GO][GO][GO][GO][GO][GO][GO][GO][GO][GO][GO][GO][GO][GO][GO][GO][GO][GO][GO\n",
            "/content/drive/MyDrive/project/Kyowon/data/test/TEST_00023.png\t[GO][GO][GO][GO][GO][GO][GO][GO][GO][GO][GO][GO][GO][GO][GO][GO][GO][GO][GO][GO][GO][GO][GO][GO][GO][GO\n",
            "/content/drive/MyDrive/project/Kyowon/data/test/TEST_00024.png\t[GO][GO][GO][GO][GO][GO][GO][GO][GO][GO][GO][GO][GO][GO][GO][GO][GO][GO][GO][GO][GO][GO][GO][GO][GO][GO\n",
            "/content/drive/MyDrive/project/Kyowon/data/test/TEST_00025.png\t[GO][GO][GO][GO][GO][GO][GO][GO][GO][GO][GO][GO][GO][GO][GO][GO][GO][GO][GO][GO][GO][GO][GO][GO][GO][GO\n",
            "/content/drive/MyDrive/project/Kyowon/data/test/TEST_00026.png\t[GO][GO][GO][GO][GO][GO][GO][GO][GO][GO][GO][GO][GO][GO][GO][GO][GO][GO][GO][GO][GO][GO][GO][GO][GO][GO\n",
            "/content/drive/MyDrive/project/Kyowon/data/test/TEST_00027.png\t[GO][GO][GO][GO][GO][GO][GO][GO][GO][GO][GO][GO][GO][GO][GO][GO][GO][GO][GO][GO][GO][GO][GO][GO][GO][GO\n",
            "/content/drive/MyDrive/project/Kyowon/data/test/TEST_00028.png\t[GO][GO][GO][GO][GO][GO][GO][GO][GO][GO][GO][GO][GO][GO][GO][GO][GO][GO][GO][GO][GO][GO][GO][GO][GO][GO\n",
            "/content/drive/MyDrive/project/Kyowon/data/test/TEST_00029.png\t[GO][GO][GO][GO][GO][GO][GO][GO][GO][GO][GO][GO][GO][GO][GO][GO][GO][GO][GO][GO][GO][GO][GO][GO][GO][GO\n",
            "/content/drive/MyDrive/project/Kyowon/data/test/TEST_00030.png\t[GO][GO][GO][GO][GO][GO][GO][GO][GO][GO][GO][GO][GO][GO][GO][GO][GO][GO][GO][GO][GO][GO][GO][GO][GO][GO\n",
            "/content/drive/MyDrive/project/Kyowon/data/test/TEST_00031.png\t[GO][GO][GO][GO][GO][GO][GO][GO][GO][GO][GO][GO][GO][GO][GO][GO][GO][GO][GO][GO][GO][GO][GO][GO][GO][GO\n",
            "/content/drive/MyDrive/project/Kyowon/data/test/TEST_00032.png\t[GO][GO][GO][GO][GO][GO][GO][GO][GO][GO][GO][GO][GO][GO][GO][GO][GO][GO][GO][GO][GO][GO][GO][GO][GO][GO\n",
            "/content/drive/MyDrive/project/Kyowon/data/test/TEST_00033.png\t[GO][GO][GO][GO][GO][GO][GO][GO][GO][GO][GO][GO][GO][GO][GO][GO][GO][GO][GO][GO][GO][GO][GO][GO][GO][GO\n",
            "/content/drive/MyDrive/project/Kyowon/data/test/TEST_00034.png\t[GO][GO][GO][GO][GO][GO][GO][GO][GO][GO][GO][GO][GO][GO][GO][GO][GO][GO][GO][GO][GO][GO][GO][GO][GO][GO\n",
            "/content/drive/MyDrive/project/Kyowon/data/test/TEST_00035.png\t[GO][GO][GO][GO][GO][GO][GO][GO][GO][GO][GO][GO][GO][GO][GO][GO][GO][GO][GO][GO][GO][GO][GO][GO][GO][GO\n",
            "/content/drive/MyDrive/project/Kyowon/data/test/TEST_00036.png\t[GO][GO][GO][GO][GO][GO][GO][GO][GO][GO][GO][GO][GO][GO][GO][GO][GO][GO][GO][GO][GO][GO][GO][GO][GO][GO\n",
            "/content/drive/MyDrive/project/Kyowon/data/test/TEST_00037.png\t[GO][GO][GO][GO][GO][GO][GO][GO][GO][GO][GO][GO][GO][GO][GO][GO][GO][GO][GO][GO][GO][GO][GO][GO][GO][GO\n",
            "/content/drive/MyDrive/project/Kyowon/data/test/TEST_00038.png\t[GO][GO][GO][GO][GO][GO][GO][GO][GO][GO][GO][GO][GO][GO][GO][GO][GO][GO][GO][GO][GO][GO][GO][GO][GO][GO\n",
            "/content/drive/MyDrive/project/Kyowon/data/test/TEST_00039.png\t[GO][GO][GO][GO][GO][GO][GO][GO][GO][GO][GO][GO][GO][GO][GO][GO][GO][GO][GO][GO][GO][GO][GO][GO][GO][GO\n",
            "/content/drive/MyDrive/project/Kyowon/data/test/TEST_00040.png\t[GO][GO][GO][GO][GO][GO][GO][GO][GO][GO][GO][GO][GO][GO][GO][GO][GO][GO][GO][GO][GO][GO][GO][GO][GO][GO\n",
            "/content/drive/MyDrive/project/Kyowon/data/test/TEST_00041.png\t[GO][GO][GO][GO][GO][GO][GO][GO][GO][GO][GO][GO][GO][GO][GO][GO][GO][GO][GO][GO][GO][GO][GO][GO][GO][GO\n",
            "/content/drive/MyDrive/project/Kyowon/data/test/TEST_00042.png\t[GO][GO][GO][GO][GO][GO][GO][GO][GO][GO][GO][GO][GO][GO][GO][GO][GO][GO][GO][GO][GO][GO][GO][GO][GO][GO\n",
            "/content/drive/MyDrive/project/Kyowon/data/test/TEST_00043.png\t[GO][GO][GO][GO][GO][GO][GO][GO][GO][GO][GO][GO][GO][GO][GO][GO][GO][GO][GO][GO][GO][GO][GO][GO][GO][GO\n",
            "/content/drive/MyDrive/project/Kyowon/data/test/TEST_00044.png\t[GO][GO][GO][GO][GO][GO][GO][GO][GO][GO][GO][GO][GO][GO][GO][GO][GO][GO][GO][GO][GO][GO][GO][GO][GO][GO\n",
            "/content/drive/MyDrive/project/Kyowon/data/test/TEST_00045.png\t[GO][GO][GO][GO][GO][GO][GO][GO][GO][GO][GO][GO][GO][GO][GO][GO][GO][GO][GO][GO][GO][GO][GO][GO][GO][GO\n",
            "/content/drive/MyDrive/project/Kyowon/data/test/TEST_00046.png\t[GO][GO][GO][GO][GO][GO][GO][GO][GO][GO][GO][GO][GO][GO][GO][GO][GO][GO][GO][GO][GO][GO][GO][GO][GO][GO\n",
            "/content/drive/MyDrive/project/Kyowon/data/test/TEST_00047.png\t[GO][GO][GO][GO][GO][GO][GO][GO][GO][GO][GO][GO][GO][GO][GO][GO][GO][GO][GO][GO][GO][GO][GO][GO][GO][GO\n",
            "/content/drive/MyDrive/project/Kyowon/data/test/TEST_00048.png\t[GO][GO][GO][GO][GO][GO][GO][GO][GO][GO][GO][GO][GO][GO][GO][GO][GO][GO][GO][GO][GO][GO][GO][GO][GO][GO\n",
            "/content/drive/MyDrive/project/Kyowon/data/test/TEST_00049.png\t[GO][GO][GO][GO][GO][GO][GO][GO][GO][GO][GO][GO][GO][GO][GO][GO][GO][GO][GO][GO][GO][GO][GO][GO][GO][GO\n",
            "/content/drive/MyDrive/project/Kyowon/data/test/TEST_00050.png\t[GO][GO][GO][GO][GO][GO][GO][GO][GO][GO][GO][GO][GO][GO][GO][GO][GO][GO][GO][GO][GO][GO][GO][GO][GO][GO\n",
            "/content/drive/MyDrive/project/Kyowon/data/test/TEST_00051.png\t[GO][GO][GO][GO][GO][GO][GO][GO][GO][GO][GO][GO][GO][GO][GO][GO][GO][GO][GO][GO][GO][GO][GO][GO][GO][GO\n",
            "/content/drive/MyDrive/project/Kyowon/data/test/TEST_00052.png\t[GO][GO][GO][GO][GO][GO][GO][GO][GO][GO][GO][GO][GO][GO][GO][GO][GO][GO][GO][GO][GO][GO][GO][GO][GO][GO\n",
            "/content/drive/MyDrive/project/Kyowon/data/test/TEST_00053.png\t[GO][GO][GO][GO][GO][GO][GO][GO][GO][GO][GO][GO][GO][GO][GO][GO][GO][GO][GO][GO][GO][GO][GO][GO][GO][GO\n",
            "/content/drive/MyDrive/project/Kyowon/data/test/TEST_00054.png\t[GO][GO][GO][GO][GO][GO][GO][GO][GO][GO][GO][GO][GO][GO][GO][GO][GO][GO][GO][GO][GO][GO][GO][GO][GO][GO\n",
            "/content/drive/MyDrive/project/Kyowon/data/test/TEST_00055.png\t[GO][GO][GO][GO][GO][GO][GO][GO][GO][GO][GO][GO][GO][GO][GO][GO][GO][GO][GO][GO][GO][GO][GO][GO][GO][GO\n",
            "/content/drive/MyDrive/project/Kyowon/data/test/TEST_00056.png\t[GO][GO][GO][GO][GO][GO][GO][GO][GO][GO][GO][GO][GO][GO][GO][GO][GO][GO][GO][GO][GO][GO][GO][GO][GO][GO\n",
            "/content/drive/MyDrive/project/Kyowon/data/test/TEST_00057.png\t[GO][GO][GO][GO][GO][GO][GO][GO][GO][GO][GO][GO][GO][GO][GO][GO][GO][GO][GO][GO][GO][GO][GO][GO][GO][GO\n",
            "/content/drive/MyDrive/project/Kyowon/data/test/TEST_00058.png\t[GO][GO][GO][GO][GO][GO][GO][GO][GO][GO][GO][GO][GO][GO][GO][GO][GO][GO][GO][GO][GO][GO][GO][GO][GO][GO\n",
            "/content/drive/MyDrive/project/Kyowon/data/test/TEST_00059.png\t[GO][GO][GO][GO][GO][GO][GO][GO][GO][GO][GO][GO][GO][GO][GO][GO][GO][GO][GO][GO][GO][GO][GO][GO][GO][GO\n",
            "/content/drive/MyDrive/project/Kyowon/data/test/TEST_00060.png\t[GO][GO][GO][GO][GO][GO][GO][GO][GO][GO][GO][GO][GO][GO][GO][GO][GO][GO][GO][GO][GO][GO][GO][GO][GO][GO\n",
            "/content/drive/MyDrive/project/Kyowon/data/test/TEST_00061.png\t[GO][GO][GO][GO][GO][GO][GO][GO][GO][GO][GO][GO][GO][GO][GO][GO][GO][GO][GO][GO][GO][GO][GO][GO][GO][GO\n",
            "/content/drive/MyDrive/project/Kyowon/data/test/TEST_00062.png\t[GO][GO][GO][GO][GO][GO][GO][GO][GO][GO][GO][GO][GO][GO][GO][GO][GO][GO][GO][GO][GO][GO][GO][GO][GO][GO\n",
            "/content/drive/MyDrive/project/Kyowon/data/test/TEST_00063.png\t[GO][GO][GO][GO][GO][GO][GO][GO][GO][GO][GO][GO][GO][GO][GO][GO][GO][GO][GO][GO][GO][GO][GO][GO][GO][GO\n",
            "/content/drive/MyDrive/project/Kyowon/data/test/TEST_00064.png\t[GO][GO][GO][GO][GO][GO][GO][GO][GO][GO][GO][GO][GO][GO][GO][GO][GO][GO][GO][GO][GO][GO][GO][GO][GO][GO\n",
            "/content/drive/MyDrive/project/Kyowon/data/test/TEST_00065.png\t[GO][GO][GO][GO][GO][GO][GO][GO][GO][GO][GO][GO][GO][GO][GO][GO][GO][GO][GO][GO][GO][GO][GO][GO][GO][GO\n",
            "/content/drive/MyDrive/project/Kyowon/data/test/TEST_00066.png\t[GO][GO][GO][GO][GO][GO][GO][GO][GO][GO][GO][GO][GO][GO][GO][GO][GO][GO][GO][GO][GO][GO][GO][GO][GO][GO\n",
            "/content/drive/MyDrive/project/Kyowon/data/test/TEST_00067.png\t[GO][GO][GO][GO][GO][GO][GO][GO][GO][GO][GO][GO][GO][GO][GO][GO][GO][GO][GO][GO][GO][GO][GO][GO][GO][GO\n",
            "/content/drive/MyDrive/project/Kyowon/data/test/TEST_00068.png\t[GO][GO][GO][GO][GO][GO][GO][GO][GO][GO][GO][GO][GO][GO][GO][GO][GO][GO][GO][GO][GO][GO][GO][GO][GO][GO\n",
            "/content/drive/MyDrive/project/Kyowon/data/test/TEST_00069.png\t[GO][GO][GO][GO][GO][GO][GO][GO][GO][GO][GO][GO][GO][GO][GO][GO][GO][GO][GO][GO][GO][GO][GO][GO][GO][GO\n",
            "/content/drive/MyDrive/project/Kyowon/data/test/TEST_00070.png\t[GO][GO][GO][GO][GO][GO][GO][GO][GO][GO][GO][GO][GO][GO][GO][GO][GO][GO][GO][GO][GO][GO][GO][GO][GO][GO\n",
            "/content/drive/MyDrive/project/Kyowon/data/test/TEST_00071.png\t[GO][GO][GO][GO][GO][GO][GO][GO][GO][GO][GO][GO][GO][GO][GO][GO][GO][GO][GO][GO][GO][GO][GO][GO][GO][GO\n",
            "/content/drive/MyDrive/project/Kyowon/data/test/TEST_00072.png\t[GO][GO][GO][GO][GO][GO][GO][GO][GO][GO][GO][GO][GO][GO][GO][GO][GO][GO][GO][GO][GO][GO][GO][GO][GO][GO\n",
            "/content/drive/MyDrive/project/Kyowon/data/test/TEST_00073.png\t[GO][GO][GO][GO][GO][GO][GO][GO][GO][GO][GO][GO][GO][GO][GO][GO][GO][GO][GO][GO][GO][GO][GO][GO][GO][GO\n",
            "/content/drive/MyDrive/project/Kyowon/data/test/TEST_00074.png\t[GO][GO][GO][GO][GO][GO][GO][GO][GO][GO][GO][GO][GO][GO][GO][GO][GO][GO][GO][GO][GO][GO][GO][GO][GO][GO\n",
            "/content/drive/MyDrive/project/Kyowon/data/test/TEST_00075.png\t[GO][GO][GO][GO][GO][GO][GO][GO][GO][GO][GO][GO][GO][GO][GO][GO][GO][GO][GO][GO][GO][GO][GO][GO][GO][GO\n",
            "/content/drive/MyDrive/project/Kyowon/data/test/TEST_00076.png\t[GO][GO][GO][GO][GO][GO][GO][GO][GO][GO][GO][GO][GO][GO][GO][GO][GO][GO][GO][GO][GO][GO][GO][GO][GO][GO\n",
            "/content/drive/MyDrive/project/Kyowon/data/test/TEST_00077.png\t[GO][GO][GO][GO][GO][GO][GO][GO][GO][GO][GO][GO][GO][GO][GO][GO][GO][GO][GO][GO][GO][GO][GO][GO][GO][GO\n",
            "/content/drive/MyDrive/project/Kyowon/data/test/TEST_00078.png\t[GO][GO][GO][GO][GO][GO][GO][GO][GO][GO][GO][GO][GO][GO][GO][GO][GO][GO][GO][GO][GO][GO][GO][GO][GO][GO\n",
            "/content/drive/MyDrive/project/Kyowon/data/test/TEST_00079.png\t[GO][GO][GO][GO][GO][GO][GO][GO][GO][GO][GO][GO][GO][GO][GO][GO][GO][GO][GO][GO][GO][GO][GO][GO][GO][GO\n",
            "/content/drive/MyDrive/project/Kyowon/data/test/TEST_00080.png\t[GO][GO][GO][GO][GO][GO][GO][GO][GO][GO][GO][GO][GO][GO][GO][GO][GO][GO][GO][GO][GO][GO][GO][GO][GO][GO\n",
            "/content/drive/MyDrive/project/Kyowon/data/test/TEST_00081.png\t[GO][GO][GO][GO][GO][GO][GO][GO][GO][GO][GO][GO][GO][GO][GO][GO][GO][GO][GO][GO][GO][GO][GO][GO][GO][GO\n",
            "/content/drive/MyDrive/project/Kyowon/data/test/TEST_00082.png\t[GO][GO][GO][GO][GO][GO][GO][GO][GO][GO][GO][GO][GO][GO][GO][GO][GO][GO][GO][GO][GO][GO][GO][GO][GO][GO\n",
            "/content/drive/MyDrive/project/Kyowon/data/test/TEST_00083.png\t[GO][GO][GO][GO][GO][GO][GO][GO][GO][GO][GO][GO][GO][GO][GO][GO][GO][GO][GO][GO][GO][GO][GO][GO][GO][GO\n",
            "/content/drive/MyDrive/project/Kyowon/data/test/TEST_00084.png\t[GO][GO][GO][GO][GO][GO][GO][GO][GO][GO][GO][GO][GO][GO][GO][GO][GO][GO][GO][GO][GO][GO][GO][GO][GO][GO\n",
            "/content/drive/MyDrive/project/Kyowon/data/test/TEST_00085.png\t[GO][GO][GO][GO][GO][GO][GO][GO][GO][GO][GO][GO][GO][GO][GO][GO][GO][GO][GO][GO][GO][GO][GO][GO][GO][GO\n",
            "/content/drive/MyDrive/project/Kyowon/data/test/TEST_00086.png\t[GO][GO][GO][GO][GO][GO][GO][GO][GO][GO][GO][GO][GO][GO][GO][GO][GO][GO][GO][GO][GO][GO][GO][GO][GO][GO\n",
            "/content/drive/MyDrive/project/Kyowon/data/test/TEST_00087.png\t[GO][GO][GO][GO][GO][GO][GO][GO][GO][GO][GO][GO][GO][GO][GO][GO][GO][GO][GO][GO][GO][GO][GO][GO][GO][GO\n",
            "/content/drive/MyDrive/project/Kyowon/data/test/TEST_00088.png\t[GO][GO][GO][GO][GO][GO][GO][GO][GO][GO][GO][GO][GO][GO][GO][GO][GO][GO][GO][GO][GO][GO][GO][GO][GO][GO\n",
            "/content/drive/MyDrive/project/Kyowon/data/test/TEST_00089.png\t[GO][GO][GO][GO][GO][GO][GO][GO][GO][GO][GO][GO][GO][GO][GO][GO][GO][GO][GO][GO][GO][GO][GO][GO][GO][GO\n",
            "/content/drive/MyDrive/project/Kyowon/data/test/TEST_00090.png\t[GO][GO][GO][GO][GO][GO][GO][GO][GO][GO][GO][GO][GO][GO][GO][GO][GO][GO][GO][GO][GO][GO][GO][GO][GO][GO\n",
            "/content/drive/MyDrive/project/Kyowon/data/test/TEST_00091.png\t[GO][GO][GO][GO][GO][GO][GO][GO][GO][GO][GO][GO][GO][GO][GO][GO][GO][GO][GO][GO][GO][GO][GO][GO][GO][GO\n",
            "/content/drive/MyDrive/project/Kyowon/data/test/TEST_00092.png\t[GO][GO][GO][GO][GO][GO][GO][GO][GO][GO][GO][GO][GO][GO][GO][GO][GO][GO][GO][GO][GO][GO][GO][GO][GO][GO\n",
            "/content/drive/MyDrive/project/Kyowon/data/test/TEST_00093.png\t[GO][GO][GO][GO][GO][GO][GO][GO][GO][GO][GO][GO][GO][GO][GO][GO][GO][GO][GO][GO][GO][GO][GO][GO][GO][GO\n",
            "/content/drive/MyDrive/project/Kyowon/data/test/TEST_00094.png\t[GO][GO][GO][GO][GO][GO][GO][GO][GO][GO][GO][GO][GO][GO][GO][GO][GO][GO][GO][GO][GO][GO][GO][GO][GO][GO\n",
            "/content/drive/MyDrive/project/Kyowon/data/test/TEST_00095.png\t[GO][GO][GO][GO][GO][GO][GO][GO][GO][GO][GO][GO][GO][GO][GO][GO][GO][GO][GO][GO][GO][GO][GO][GO][GO][GO\n",
            "/content/drive/MyDrive/project/Kyowon/data/test/TEST_00096.png\t[GO][GO][GO][GO][GO][GO][GO][GO][GO][GO][GO][GO][GO][GO][GO][GO][GO][GO][GO][GO][GO][GO][GO][GO][GO][GO\n",
            "/content/drive/MyDrive/project/Kyowon/data/test/TEST_00097.png\t[GO][GO][GO][GO][GO][GO][GO][GO][GO][GO][GO][GO][GO][GO][GO][GO][GO][GO][GO][GO][GO][GO][GO][GO][GO][GO\n",
            "/content/drive/MyDrive/project/Kyowon/data/test/TEST_00098.png\t[GO][GO][GO][GO][GO][GO][GO][GO][GO][GO][GO][GO][GO][GO][GO][GO][GO][GO][GO][GO][GO][GO][GO][GO][GO][GO\n",
            "/content/drive/MyDrive/project/Kyowon/data/test/TEST_00099.png\t[GO][GO][GO][GO][GO][GO][GO][GO][GO][GO][GO][GO][GO][GO][GO][GO][GO][GO][GO][GO][GO][GO][GO][GO][GO][GO\n",
            "/content/drive/MyDrive/project/Kyowon/data/test/TEST_00100.png\t[GO][GO][GO][GO][GO][GO][GO][GO][GO][GO][GO][GO][GO][GO][GO][GO][GO][GO][GO][GO][GO][GO][GO][GO][GO][GO\n",
            "/content/drive/MyDrive/project/Kyowon/data/test/TEST_00101.png\t[GO][GO][GO][GO][GO][GO][GO][GO][GO][GO][GO][GO][GO][GO][GO][GO][GO][GO][GO][GO][GO][GO][GO][GO][GO][GO\n",
            "/content/drive/MyDrive/project/Kyowon/data/test/TEST_00102.png\t[GO][GO][GO][GO][GO][GO][GO][GO][GO][GO][GO][GO][GO][GO][GO][GO][GO][GO][GO][GO][GO][GO][GO][GO][GO][GO\n",
            "/content/drive/MyDrive/project/Kyowon/data/test/TEST_00103.png\t[GO][GO][GO][GO][GO][GO][GO][GO][GO][GO][GO][GO][GO][GO][GO][GO][GO][GO][GO][GO][GO][GO][GO][GO][GO][GO\n",
            "/content/drive/MyDrive/project/Kyowon/data/test/TEST_00104.png\t[GO][GO][GO][GO][GO][GO][GO][GO][GO][GO][GO][GO][GO][GO][GO][GO][GO][GO][GO][GO][GO][GO][GO][GO][GO][GO\n",
            "/content/drive/MyDrive/project/Kyowon/data/test/TEST_00105.png\t[GO][GO][GO][GO][GO][GO][GO][GO][GO][GO][GO][GO][GO][GO][GO][GO][GO][GO][GO][GO][GO][GO][GO][GO][GO][GO\n",
            "/content/drive/MyDrive/project/Kyowon/data/test/TEST_00106.png\t[GO][GO][GO][GO][GO][GO][GO][GO][GO][GO][GO][GO][GO][GO][GO][GO][GO][GO][GO][GO][GO][GO][GO][GO][GO][GO\n",
            "/content/drive/MyDrive/project/Kyowon/data/test/TEST_00107.png\t[GO][GO][GO][GO][GO][GO][GO][GO][GO][GO][GO][GO][GO][GO][GO][GO][GO][GO][GO][GO][GO][GO][GO][GO][GO][GO\n",
            "/content/drive/MyDrive/project/Kyowon/data/test/TEST_00108.png\t[GO][GO][GO][GO][GO][GO][GO][GO][GO][GO][GO][GO][GO][GO][GO][GO][GO][GO][GO][GO][GO][GO][GO][GO][GO][GO\n",
            "/content/drive/MyDrive/project/Kyowon/data/test/TEST_00109.png\t[GO][GO][GO][GO][GO][GO][GO][GO][GO][GO][GO][GO][GO][GO][GO][GO][GO][GO][GO][GO][GO][GO][GO][GO][GO][GO\n",
            "/content/drive/MyDrive/project/Kyowon/data/test/TEST_00110.png\t[GO][GO][GO][GO][GO][GO][GO][GO][GO][GO][GO][GO][GO][GO][GO][GO][GO][GO][GO][GO][GO][GO][GO][GO][GO][GO\n",
            "/content/drive/MyDrive/project/Kyowon/data/test/TEST_00111.png\t[GO][GO][GO][GO][GO][GO][GO][GO][GO][GO][GO][GO][GO][GO][GO][GO][GO][GO][GO][GO][GO][GO][GO][GO][GO][GO\n",
            "/content/drive/MyDrive/project/Kyowon/data/test/TEST_00112.png\t[GO][GO][GO][GO][GO][GO][GO][GO][GO][GO][GO][GO][GO][GO][GO][GO][GO][GO][GO][GO][GO][GO][GO][GO][GO][GO\n",
            "/content/drive/MyDrive/project/Kyowon/data/test/TEST_00113.png\t[GO][GO][GO][GO][GO][GO][GO][GO][GO][GO][GO][GO][GO][GO][GO][GO][GO][GO][GO][GO][GO][GO][GO][GO][GO][GO\n",
            "/content/drive/MyDrive/project/Kyowon/data/test/TEST_00114.png\t[GO][GO][GO][GO][GO][GO][GO][GO][GO][GO][GO][GO][GO][GO][GO][GO][GO][GO][GO][GO][GO][GO][GO][GO][GO][GO\n",
            "/content/drive/MyDrive/project/Kyowon/data/test/TEST_00115.png\t[GO][GO][GO][GO][GO][GO][GO][GO][GO][GO][GO][GO][GO][GO][GO][GO][GO][GO][GO][GO][GO][GO][GO][GO][GO][GO\n",
            "/content/drive/MyDrive/project/Kyowon/data/test/TEST_00116.png\t[GO][GO][GO][GO][GO][GO][GO][GO][GO][GO][GO][GO][GO][GO][GO][GO][GO][GO][GO][GO][GO][GO][GO][GO][GO][GO\n",
            "/content/drive/MyDrive/project/Kyowon/data/test/TEST_00117.png\t[GO][GO][GO][GO][GO][GO][GO][GO][GO][GO][GO][GO][GO][GO][GO][GO][GO][GO][GO][GO][GO][GO][GO][GO][GO][GO\n",
            "/content/drive/MyDrive/project/Kyowon/data/test/TEST_00118.png\t[GO][GO][GO][GO][GO][GO][GO][GO][GO][GO][GO][GO][GO][GO][GO][GO][GO][GO][GO][GO][GO][GO][GO][GO][GO][GO\n",
            "/content/drive/MyDrive/project/Kyowon/data/test/TEST_00119.png\t[GO][GO][GO][GO][GO][GO][GO][GO][GO][GO][GO][GO][GO][GO][GO][GO][GO][GO][GO][GO][GO][GO][GO][GO][GO][GO\n",
            "/content/drive/MyDrive/project/Kyowon/data/test/TEST_00120.png\t[GO][GO][GO][GO][GO][GO][GO][GO][GO][GO][GO][GO][GO][GO][GO][GO][GO][GO][GO][GO][GO][GO][GO][GO][GO][GO\n",
            "/content/drive/MyDrive/project/Kyowon/data/test/TEST_00121.png\t[GO][GO][GO][GO][GO][GO][GO][GO][GO][GO][GO][GO][GO][GO][GO][GO][GO][GO][GO][GO][GO][GO][GO][GO][GO][GO\n",
            "/content/drive/MyDrive/project/Kyowon/data/test/TEST_00122.png\t[GO][GO][GO][GO][GO][GO][GO][GO][GO][GO][GO][GO][GO][GO][GO][GO][GO][GO][GO][GO][GO][GO][GO][GO][GO][GO\n",
            "/content/drive/MyDrive/project/Kyowon/data/test/TEST_00123.png\t[GO][GO][GO][GO][GO][GO][GO][GO][GO][GO][GO][GO][GO][GO][GO][GO][GO][GO][GO][GO][GO][GO][GO][GO][GO][GO\n",
            "/content/drive/MyDrive/project/Kyowon/data/test/TEST_00124.png\t[GO][GO][GO][GO][GO][GO][GO][GO][GO][GO][GO][GO][GO][GO][GO][GO][GO][GO][GO][GO][GO][GO][GO][GO][GO][GO\n",
            "/content/drive/MyDrive/project/Kyowon/data/test/TEST_00125.png\t[GO][GO][GO][GO][GO][GO][GO][GO][GO][GO][GO][GO][GO][GO][GO][GO][GO][GO][GO][GO][GO][GO][GO][GO][GO][GO\n",
            "/content/drive/MyDrive/project/Kyowon/data/test/TEST_00126.png\t[GO][GO][GO][GO][GO][GO][GO][GO][GO][GO][GO][GO][GO][GO][GO][GO][GO][GO][GO][GO][GO][GO][GO][GO][GO][GO\n",
            "/content/drive/MyDrive/project/Kyowon/data/test/TEST_00127.png\t[GO][GO][GO][GO][GO][GO][GO][GO][GO][GO][GO][GO][GO][GO][GO][GO][GO][GO][GO][GO][GO][GO][GO][GO][GO][GO\n",
            "/content/drive/MyDrive/project/Kyowon/data/test/TEST_00128.png\t[GO][GO][GO][GO][GO][GO][GO][GO][GO][GO][GO][GO][GO][GO][GO][GO][GO][GO][GO][GO][GO][GO][GO][GO][GO][GO\n",
            "/content/drive/MyDrive/project/Kyowon/data/test/TEST_00129.png\t[GO][GO][GO][GO][GO][GO][GO][GO][GO][GO][GO][GO][GO][GO][GO][GO][GO][GO][GO][GO][GO][GO][GO][GO][GO][GO\n",
            "/content/drive/MyDrive/project/Kyowon/data/test/TEST_00130.png\t[GO][GO][GO][GO][GO][GO][GO][GO][GO][GO][GO][GO][GO][GO][GO][GO][GO][GO][GO][GO][GO][GO][GO][GO][GO][GO\n",
            "/content/drive/MyDrive/project/Kyowon/data/test/TEST_00131.png\t[GO][GO][GO][GO][GO][GO][GO][GO][GO][GO][GO][GO][GO][GO][GO][GO][GO][GO][GO][GO][GO][GO][GO][GO][GO][GO\n",
            "/content/drive/MyDrive/project/Kyowon/data/test/TEST_00132.png\t[GO][GO][GO][GO][GO][GO][GO][GO][GO][GO][GO][GO][GO][GO][GO][GO][GO][GO][GO][GO][GO][GO][GO][GO][GO][GO\n",
            "/content/drive/MyDrive/project/Kyowon/data/test/TEST_00133.png\t[GO][GO][GO][GO][GO][GO][GO][GO][GO][GO][GO][GO][GO][GO][GO][GO][GO][GO][GO][GO][GO][GO][GO][GO][GO][GO\n",
            "/content/drive/MyDrive/project/Kyowon/data/test/TEST_00134.png\t[GO][GO][GO][GO][GO][GO][GO][GO][GO][GO][GO][GO][GO][GO][GO][GO][GO][GO][GO][GO][GO][GO][GO][GO][GO][GO\n",
            "/content/drive/MyDrive/project/Kyowon/data/test/TEST_00135.png\t[GO][GO][GO][GO][GO][GO][GO][GO][GO][GO][GO][GO][GO][GO][GO][GO][GO][GO][GO][GO][GO][GO][GO][GO][GO][GO\n",
            "/content/drive/MyDrive/project/Kyowon/data/test/TEST_00136.png\t[GO][GO][GO][GO][GO][GO][GO][GO][GO][GO][GO][GO][GO][GO][GO][GO][GO][GO][GO][GO][GO][GO][GO][GO][GO][GO\n",
            "/content/drive/MyDrive/project/Kyowon/data/test/TEST_00137.png\t[GO][GO][GO][GO][GO][GO][GO][GO][GO][GO][GO][GO][GO][GO][GO][GO][GO][GO][GO][GO][GO][GO][GO][GO][GO][GO\n",
            "/content/drive/MyDrive/project/Kyowon/data/test/TEST_00138.png\t[GO][GO][GO][GO][GO][GO][GO][GO][GO][GO][GO][GO][GO][GO][GO][GO][GO][GO][GO][GO][GO][GO][GO][GO][GO][GO\n",
            "/content/drive/MyDrive/project/Kyowon/data/test/TEST_00139.png\t[GO][GO][GO][GO][GO][GO][GO][GO][GO][GO][GO][GO][GO][GO][GO][GO][GO][GO][GO][GO][GO][GO][GO][GO][GO][GO\n",
            "/content/drive/MyDrive/project/Kyowon/data/test/TEST_00140.png\t[GO][GO][GO][GO][GO][GO][GO][GO][GO][GO][GO][GO][GO][GO][GO][GO][GO][GO][GO][GO][GO][GO][GO][GO][GO][GO\n",
            "/content/drive/MyDrive/project/Kyowon/data/test/TEST_00141.png\t[GO][GO][GO][GO][GO][GO][GO][GO][GO][GO][GO][GO][GO][GO][GO][GO][GO][GO][GO][GO][GO][GO][GO][GO][GO][GO\n",
            "/content/drive/MyDrive/project/Kyowon/data/test/TEST_00142.png\t[GO][GO][GO][GO][GO][GO][GO][GO][GO][GO][GO][GO][GO][GO][GO][GO][GO][GO][GO][GO][GO][GO][GO][GO][GO][GO\n",
            "/content/drive/MyDrive/project/Kyowon/data/test/TEST_00143.png\t[GO][GO][GO][GO][GO][GO][GO][GO][GO][GO][GO][GO][GO][GO][GO][GO][GO][GO][GO][GO][GO][GO][GO][GO][GO][GO\n",
            "/content/drive/MyDrive/project/Kyowon/data/test/TEST_00144.png\t[GO][GO][GO][GO][GO][GO][GO][GO][GO][GO][GO][GO][GO][GO][GO][GO][GO][GO][GO][GO][GO][GO][GO][GO][GO][GO\n",
            "/content/drive/MyDrive/project/Kyowon/data/test/TEST_00145.png\t[GO][GO][GO][GO][GO][GO][GO][GO][GO][GO][GO][GO][GO][GO][GO][GO][GO][GO][GO][GO][GO][GO][GO][GO][GO][GO\n",
            "/content/drive/MyDrive/project/Kyowon/data/test/TEST_00146.png\t[GO][GO][GO][GO][GO][GO][GO][GO][GO][GO][GO][GO][GO][GO][GO][GO][GO][GO][GO][GO][GO][GO][GO][GO][GO][GO\n",
            "/content/drive/MyDrive/project/Kyowon/data/test/TEST_00147.png\t[GO][GO][GO][GO][GO][GO][GO][GO][GO][GO][GO][GO][GO][GO][GO][GO][GO][GO][GO][GO][GO][GO][GO][GO][GO][GO\n",
            "/content/drive/MyDrive/project/Kyowon/data/test/TEST_00148.png\t[GO][GO][GO][GO][GO][GO][GO][GO][GO][GO][GO][GO][GO][GO][GO][GO][GO][GO][GO][GO][GO][GO][GO][GO][GO][GO\n",
            "/content/drive/MyDrive/project/Kyowon/data/test/TEST_00149.png\t[GO][GO][GO][GO][GO][GO][GO][GO][GO][GO][GO][GO][GO][GO][GO][GO][GO][GO][GO][GO][GO][GO][GO][GO][GO][GO\n",
            "/content/drive/MyDrive/project/Kyowon/data/test/TEST_00150.png\t[GO][GO][GO][GO][GO][GO][GO][GO][GO][GO][GO][GO][GO][GO][GO][GO][GO][GO][GO][GO][GO][GO][GO][GO][GO][GO\n",
            "/content/drive/MyDrive/project/Kyowon/data/test/TEST_00151.png\t[GO][GO][GO][GO][GO][GO][GO][GO][GO][GO][GO][GO][GO][GO][GO][GO][GO][GO][GO][GO][GO][GO][GO][GO][GO][GO\n",
            "/content/drive/MyDrive/project/Kyowon/data/test/TEST_00152.png\t[GO][GO][GO][GO][GO][GO][GO][GO][GO][GO][GO][GO][GO][GO][GO][GO][GO][GO][GO][GO][GO][GO][GO][GO][GO][GO\n",
            "/content/drive/MyDrive/project/Kyowon/data/test/TEST_00153.png\t[GO][GO][GO][GO][GO][GO][GO][GO][GO][GO][GO][GO][GO][GO][GO][GO][GO][GO][GO][GO][GO][GO][GO][GO][GO][GO\n",
            "/content/drive/MyDrive/project/Kyowon/data/test/TEST_00154.png\t[GO][GO][GO][GO][GO][GO][GO][GO][GO][GO][GO][GO][GO][GO][GO][GO][GO][GO][GO][GO][GO][GO][GO][GO][GO][GO\n",
            "/content/drive/MyDrive/project/Kyowon/data/test/TEST_00155.png\t[GO][GO][GO][GO][GO][GO][GO][GO][GO][GO][GO][GO][GO][GO][GO][GO][GO][GO][GO][GO][GO][GO][GO][GO][GO][GO\n",
            "/content/drive/MyDrive/project/Kyowon/data/test/TEST_00156.png\t[GO][GO][GO][GO][GO][GO][GO][GO][GO][GO][GO][GO][GO][GO][GO][GO][GO][GO][GO][GO][GO][GO][GO][GO][GO][GO\n",
            "/content/drive/MyDrive/project/Kyowon/data/test/TEST_00157.png\t[GO][GO][GO][GO][GO][GO][GO][GO][GO][GO][GO][GO][GO][GO][GO][GO][GO][GO][GO][GO][GO][GO][GO][GO][GO][GO\n",
            "/content/drive/MyDrive/project/Kyowon/data/test/TEST_00158.png\t[GO][GO][GO][GO][GO][GO][GO][GO][GO][GO][GO][GO][GO][GO][GO][GO][GO][GO][GO][GO][GO][GO][GO][GO][GO][GO\n",
            "/content/drive/MyDrive/project/Kyowon/data/test/TEST_00159.png\t[GO][GO][GO][GO][GO][GO][GO][GO][GO][GO][GO][GO][GO][GO][GO][GO][GO][GO][GO][GO][GO][GO][GO][GO][GO][GO\n",
            "/content/drive/MyDrive/project/Kyowon/data/test/TEST_00160.png\t[GO][GO][GO][GO][GO][GO][GO][GO][GO][GO][GO][GO][GO][GO][GO][GO][GO][GO][GO][GO][GO][GO][GO][GO][GO][GO\n",
            "/content/drive/MyDrive/project/Kyowon/data/test/TEST_00161.png\t[GO][GO][GO][GO][GO][GO][GO][GO][GO][GO][GO][GO][GO][GO][GO][GO][GO][GO][GO][GO][GO][GO][GO][GO][GO][GO\n",
            "/content/drive/MyDrive/project/Kyowon/data/test/TEST_00162.png\t[GO][GO][GO][GO][GO][GO][GO][GO][GO][GO][GO][GO][GO][GO][GO][GO][GO][GO][GO][GO][GO][GO][GO][GO][GO][GO\n",
            "/content/drive/MyDrive/project/Kyowon/data/test/TEST_00163.png\t[GO][GO][GO][GO][GO][GO][GO][GO][GO][GO][GO][GO][GO][GO][GO][GO][GO][GO][GO][GO][GO][GO][GO][GO][GO][GO\n",
            "/content/drive/MyDrive/project/Kyowon/data/test/TEST_00164.png\t[GO][GO][GO][GO][GO][GO][GO][GO][GO][GO][GO][GO][GO][GO][GO][GO][GO][GO][GO][GO][GO][GO][GO][GO][GO][GO\n",
            "/content/drive/MyDrive/project/Kyowon/data/test/TEST_00165.png\t[GO][GO][GO][GO][GO][GO][GO][GO][GO][GO][GO][GO][GO][GO][GO][GO][GO][GO][GO][GO][GO][GO][GO][GO][GO][GO\n",
            "/content/drive/MyDrive/project/Kyowon/data/test/TEST_00166.png\t[GO][GO][GO][GO][GO][GO][GO][GO][GO][GO][GO][GO][GO][GO][GO][GO][GO][GO][GO][GO][GO][GO][GO][GO][GO][GO\n",
            "/content/drive/MyDrive/project/Kyowon/data/test/TEST_00167.png\t[GO][GO][GO][GO][GO][GO][GO][GO][GO][GO][GO][GO][GO][GO][GO][GO][GO][GO][GO][GO][GO][GO][GO][GO][GO][GO\n",
            "/content/drive/MyDrive/project/Kyowon/data/test/TEST_00168.png\t[GO][GO][GO][GO][GO][GO][GO][GO][GO][GO][GO][GO][GO][GO][GO][GO][GO][GO][GO][GO][GO][GO][GO][GO][GO][GO\n",
            "/content/drive/MyDrive/project/Kyowon/data/test/TEST_00169.png\t[GO][GO][GO][GO][GO][GO][GO][GO][GO][GO][GO][GO][GO][GO][GO][GO][GO][GO][GO][GO][GO][GO][GO][GO][GO][GO\n",
            "/content/drive/MyDrive/project/Kyowon/data/test/TEST_00170.png\t[GO][GO][GO][GO][GO][GO][GO][GO][GO][GO][GO][GO][GO][GO][GO][GO][GO][GO][GO][GO][GO][GO][GO][GO][GO][GO\n",
            "/content/drive/MyDrive/project/Kyowon/data/test/TEST_00171.png\t[GO][GO][GO][GO][GO][GO][GO][GO][GO][GO][GO][GO][GO][GO][GO][GO][GO][GO][GO][GO][GO][GO][GO][GO][GO][GO\n",
            "/content/drive/MyDrive/project/Kyowon/data/test/TEST_00172.png\t[GO][GO][GO][GO][GO][GO][GO][GO][GO][GO][GO][GO][GO][GO][GO][GO][GO][GO][GO][GO][GO][GO][GO][GO][GO][GO\n",
            "/content/drive/MyDrive/project/Kyowon/data/test/TEST_00173.png\t[GO][GO][GO][GO][GO][GO][GO][GO][GO][GO][GO][GO][GO][GO][GO][GO][GO][GO][GO][GO][GO][GO][GO][GO][GO][GO\n",
            "/content/drive/MyDrive/project/Kyowon/data/test/TEST_00174.png\t[GO][GO][GO][GO][GO][GO][GO][GO][GO][GO][GO][GO][GO][GO][GO][GO][GO][GO][GO][GO][GO][GO][GO][GO][GO][GO\n",
            "/content/drive/MyDrive/project/Kyowon/data/test/TEST_00175.png\t[GO][GO][GO][GO][GO][GO][GO][GO][GO][GO][GO][GO][GO][GO][GO][GO][GO][GO][GO][GO][GO][GO][GO][GO][GO][GO\n",
            "/content/drive/MyDrive/project/Kyowon/data/test/TEST_00176.png\t[GO][GO][GO][GO][GO][GO][GO][GO][GO][GO][GO][GO][GO][GO][GO][GO][GO][GO][GO][GO][GO][GO][GO][GO][GO][GO\n",
            "/content/drive/MyDrive/project/Kyowon/data/test/TEST_00177.png\t[GO][GO][GO][GO][GO][GO][GO][GO][GO][GO][GO][GO][GO][GO][GO][GO][GO][GO][GO][GO][GO][GO][GO][GO][GO][GO\n",
            "/content/drive/MyDrive/project/Kyowon/data/test/TEST_00178.png\t[GO][GO][GO][GO][GO][GO][GO][GO][GO][GO][GO][GO][GO][GO][GO][GO][GO][GO][GO][GO][GO][GO][GO][GO][GO][GO\n",
            "/content/drive/MyDrive/project/Kyowon/data/test/TEST_00179.png\t[GO][GO][GO][GO][GO][GO][GO][GO][GO][GO][GO][GO][GO][GO][GO][GO][GO][GO][GO][GO][GO][GO][GO][GO][GO][GO\n",
            "/content/drive/MyDrive/project/Kyowon/data/test/TEST_00180.png\t[GO][GO][GO][GO][GO][GO][GO][GO][GO][GO][GO][GO][GO][GO][GO][GO][GO][GO][GO][GO][GO][GO][GO][GO][GO][GO\n",
            "/content/drive/MyDrive/project/Kyowon/data/test/TEST_00181.png\t[GO][GO][GO][GO][GO][GO][GO][GO][GO][GO][GO][GO][GO][GO][GO][GO][GO][GO][GO][GO][GO][GO][GO][GO][GO][GO\n",
            "/content/drive/MyDrive/project/Kyowon/data/test/TEST_00182.png\t[GO][GO][GO][GO][GO][GO][GO][GO][GO][GO][GO][GO][GO][GO][GO][GO][GO][GO][GO][GO][GO][GO][GO][GO][GO][GO\n",
            "/content/drive/MyDrive/project/Kyowon/data/test/TEST_00183.png\t[GO][GO][GO][GO][GO][GO][GO][GO][GO][GO][GO][GO][GO][GO][GO][GO][GO][GO][GO][GO][GO][GO][GO][GO][GO][GO\n",
            "/content/drive/MyDrive/project/Kyowon/data/test/TEST_00184.png\t[GO][GO][GO][GO][GO][GO][GO][GO][GO][GO][GO][GO][GO][GO][GO][GO][GO][GO][GO][GO][GO][GO][GO][GO][GO][GO\n",
            "/content/drive/MyDrive/project/Kyowon/data/test/TEST_00185.png\t[GO][GO][GO][GO][GO][GO][GO][GO][GO][GO][GO][GO][GO][GO][GO][GO][GO][GO][GO][GO][GO][GO][GO][GO][GO][GO\n",
            "/content/drive/MyDrive/project/Kyowon/data/test/TEST_00186.png\t[GO][GO][GO][GO][GO][GO][GO][GO][GO][GO][GO][GO][GO][GO][GO][GO][GO][GO][GO][GO][GO][GO][GO][GO][GO][GO\n",
            "/content/drive/MyDrive/project/Kyowon/data/test/TEST_00187.png\t[GO][GO][GO][GO][GO][GO][GO][GO][GO][GO][GO][GO][GO][GO][GO][GO][GO][GO][GO][GO][GO][GO][GO][GO][GO][GO\n",
            "/content/drive/MyDrive/project/Kyowon/data/test/TEST_00188.png\t[GO][GO][GO][GO][GO][GO][GO][GO][GO][GO][GO][GO][GO][GO][GO][GO][GO][GO][GO][GO][GO][GO][GO][GO][GO][GO\n",
            "/content/drive/MyDrive/project/Kyowon/data/test/TEST_00189.png\t[GO][GO][GO][GO][GO][GO][GO][GO][GO][GO][GO][GO][GO][GO][GO][GO][GO][GO][GO][GO][GO][GO][GO][GO][GO][GO\n",
            "/content/drive/MyDrive/project/Kyowon/data/test/TEST_00190.png\t[GO][GO][GO][GO][GO][GO][GO][GO][GO][GO][GO][GO][GO][GO][GO][GO][GO][GO][GO][GO][GO][GO][GO][GO][GO][GO\n",
            "/content/drive/MyDrive/project/Kyowon/data/test/TEST_00191.png\t[GO][GO][GO][GO][GO][GO][GO][GO][GO][GO][GO][GO][GO][GO][GO][GO][GO][GO][GO][GO][GO][GO][GO][GO][GO][GO\n",
            "123123123\n",
            "--------------------------------------------------------------------------------\n",
            "image_path               \tpredicted_labels         \tconfidence score\n",
            "--------------------------------------------------------------------------------\n",
            "/content/drive/MyDrive/project/Kyowon/data/test/TEST_00192.png\t[GO][GO][GO][GO][GO][GO][GO][GO][GO][GO][GO][GO][GO][GO][GO][GO][GO][GO][GO][GO][GO][GO][GO][GO][GO][GO\n",
            "/content/drive/MyDrive/project/Kyowon/data/test/TEST_00193.png\t[GO][GO][GO][GO][GO][GO][GO][GO][GO][GO][GO][GO][GO][GO][GO][GO][GO][GO][GO][GO][GO][GO][GO][GO][GO][GO\n",
            "/content/drive/MyDrive/project/Kyowon/data/test/TEST_00194.png\t[GO][GO][GO][GO][GO][GO][GO][GO][GO][GO][GO][GO][GO][GO][GO][GO][GO][GO][GO][GO][GO][GO][GO][GO][GO][GO\n",
            "/content/drive/MyDrive/project/Kyowon/data/test/TEST_00195.png\t[GO][GO][GO][GO][GO][GO][GO][GO][GO][GO][GO][GO][GO][GO][GO][GO][GO][GO][GO][GO][GO][GO][GO][GO][GO][GO\n",
            "/content/drive/MyDrive/project/Kyowon/data/test/TEST_00196.png\t[GO][GO][GO][GO][GO][GO][GO][GO][GO][GO][GO][GO][GO][GO][GO][GO][GO][GO][GO][GO][GO][GO][GO][GO][GO][GO\n",
            "/content/drive/MyDrive/project/Kyowon/data/test/TEST_00197.png\t[GO][GO][GO][GO][GO][GO][GO][GO][GO][GO][GO][GO][GO][GO][GO][GO][GO][GO][GO][GO][GO][GO][GO][GO][GO][GO\n",
            "/content/drive/MyDrive/project/Kyowon/data/test/TEST_00198.png\t[GO][GO][GO][GO][GO][GO][GO][GO][GO][GO][GO][GO][GO][GO][GO][GO][GO][GO][GO][GO][GO][GO][GO][GO][GO][GO\n",
            "/content/drive/MyDrive/project/Kyowon/data/test/TEST_00199.png\t[GO][GO][GO][GO][GO][GO][GO][GO][GO][GO][GO][GO][GO][GO][GO][GO][GO][GO][GO][GO][GO][GO][GO][GO][GO][GO\n",
            "/content/drive/MyDrive/project/Kyowon/data/test/TEST_00200.png\t[GO][GO][GO][GO][GO][GO][GO][GO][GO][GO][GO][GO][GO][GO][GO][GO][GO][GO][GO][GO][GO][GO][GO][GO][GO][GO\n",
            "/content/drive/MyDrive/project/Kyowon/data/test/TEST_00201.png\t[GO][GO][GO][GO][GO][GO][GO][GO][GO][GO][GO][GO][GO][GO][GO][GO][GO][GO][GO][GO][GO][GO][GO][GO][GO][GO\n",
            "/content/drive/MyDrive/project/Kyowon/data/test/TEST_00202.png\t[GO][GO][GO][GO][GO][GO][GO][GO][GO][GO][GO][GO][GO][GO][GO][GO][GO][GO][GO][GO][GO][GO][GO][GO][GO][GO\n",
            "/content/drive/MyDrive/project/Kyowon/data/test/TEST_00203.png\t[GO][GO][GO][GO][GO][GO][GO][GO][GO][GO][GO][GO][GO][GO][GO][GO][GO][GO][GO][GO][GO][GO][GO][GO][GO][GO\n",
            "/content/drive/MyDrive/project/Kyowon/data/test/TEST_00204.png\t[GO][GO][GO][GO][GO][GO][GO][GO][GO][GO][GO][GO][GO][GO][GO][GO][GO][GO][GO][GO][GO][GO][GO][GO][GO][GO\n",
            "/content/drive/MyDrive/project/Kyowon/data/test/TEST_00205.png\t[GO][GO][GO][GO][GO][GO][GO][GO][GO][GO][GO][GO][GO][GO][GO][GO][GO][GO][GO][GO][GO][GO][GO][GO][GO][GO\n",
            "/content/drive/MyDrive/project/Kyowon/data/test/TEST_00206.png\t[GO][GO][GO][GO][GO][GO][GO][GO][GO][GO][GO][GO][GO][GO][GO][GO][GO][GO][GO][GO][GO][GO][GO][GO][GO][GO\n",
            "/content/drive/MyDrive/project/Kyowon/data/test/TEST_00207.png\t[GO][GO][GO][GO][GO][GO][GO][GO][GO][GO][GO][GO][GO][GO][GO][GO][GO][GO][GO][GO][GO][GO][GO][GO][GO][GO\n",
            "/content/drive/MyDrive/project/Kyowon/data/test/TEST_00208.png\t[GO][GO][GO][GO][GO][GO][GO][GO][GO][GO][GO][GO][GO][GO][GO][GO][GO][GO][GO][GO][GO][GO][GO][GO][GO][GO\n",
            "/content/drive/MyDrive/project/Kyowon/data/test/TEST_00209.png\t[GO][GO][GO][GO][GO][GO][GO][GO][GO][GO][GO][GO][GO][GO][GO][GO][GO][GO][GO][GO][GO][GO][GO][GO][GO][GO\n",
            "/content/drive/MyDrive/project/Kyowon/data/test/TEST_00210.png\t[GO][GO][GO][GO][GO][GO][GO][GO][GO][GO][GO][GO][GO][GO][GO][GO][GO][GO][GO][GO][GO][GO][GO][GO][GO][GO\n",
            "/content/drive/MyDrive/project/Kyowon/data/test/TEST_00211.png\t[GO][GO][GO][GO][GO][GO][GO][GO][GO][GO][GO][GO][GO][GO][GO][GO][GO][GO][GO][GO][GO][GO][GO][GO][GO][GO\n",
            "/content/drive/MyDrive/project/Kyowon/data/test/TEST_00212.png\t[GO][GO][GO][GO][GO][GO][GO][GO][GO][GO][GO][GO][GO][GO][GO][GO][GO][GO][GO][GO][GO][GO][GO][GO][GO][GO\n",
            "/content/drive/MyDrive/project/Kyowon/data/test/TEST_00213.png\t[GO][GO][GO][GO][GO][GO][GO][GO][GO][GO][GO][GO][GO][GO][GO][GO][GO][GO][GO][GO][GO][GO][GO][GO][GO][GO\n",
            "/content/drive/MyDrive/project/Kyowon/data/test/TEST_00214.png\t[GO][GO][GO][GO][GO][GO][GO][GO][GO][GO][GO][GO][GO][GO][GO][GO][GO][GO][GO][GO][GO][GO][GO][GO][GO][GO\n",
            "/content/drive/MyDrive/project/Kyowon/data/test/TEST_00215.png\t[GO][GO][GO][GO][GO][GO][GO][GO][GO][GO][GO][GO][GO][GO][GO][GO][GO][GO][GO][GO][GO][GO][GO][GO][GO][GO\n",
            "/content/drive/MyDrive/project/Kyowon/data/test/TEST_00216.png\t[GO][GO][GO][GO][GO][GO][GO][GO][GO][GO][GO][GO][GO][GO][GO][GO][GO][GO][GO][GO][GO][GO][GO][GO][GO][GO\n",
            "/content/drive/MyDrive/project/Kyowon/data/test/TEST_00217.png\t[GO][GO][GO][GO][GO][GO][GO][GO][GO][GO][GO][GO][GO][GO][GO][GO][GO][GO][GO][GO][GO][GO][GO][GO][GO][GO\n",
            "/content/drive/MyDrive/project/Kyowon/data/test/TEST_00218.png\t[GO][GO][GO][GO][GO][GO][GO][GO][GO][GO][GO][GO][GO][GO][GO][GO][GO][GO][GO][GO][GO][GO][GO][GO][GO][GO\n",
            "/content/drive/MyDrive/project/Kyowon/data/test/TEST_00219.png\t[GO][GO][GO][GO][GO][GO][GO][GO][GO][GO][GO][GO][GO][GO][GO][GO][GO][GO][GO][GO][GO][GO][GO][GO][GO][GO\n",
            "/content/drive/MyDrive/project/Kyowon/data/test/TEST_00220.png\t[GO][GO][GO][GO][GO][GO][GO][GO][GO][GO][GO][GO][GO][GO][GO][GO][GO][GO][GO][GO][GO][GO][GO][GO][GO][GO\n",
            "/content/drive/MyDrive/project/Kyowon/data/test/TEST_00221.png\t[GO][GO][GO][GO][GO][GO][GO][GO][GO][GO][GO][GO][GO][GO][GO][GO][GO][GO][GO][GO][GO][GO][GO][GO][GO][GO\n",
            "/content/drive/MyDrive/project/Kyowon/data/test/TEST_00222.png\t[GO][GO][GO][GO][GO][GO][GO][GO][GO][GO][GO][GO][GO][GO][GO][GO][GO][GO][GO][GO][GO][GO][GO][GO][GO][GO\n",
            "/content/drive/MyDrive/project/Kyowon/data/test/TEST_00223.png\t[GO][GO][GO][GO][GO][GO][GO][GO][GO][GO][GO][GO][GO][GO][GO][GO][GO][GO][GO][GO][GO][GO][GO][GO][GO][GO\n",
            "/content/drive/MyDrive/project/Kyowon/data/test/TEST_00224.png\t[GO][GO][GO][GO][GO][GO][GO][GO][GO][GO][GO][GO][GO][GO][GO][GO][GO][GO][GO][GO][GO][GO][GO][GO][GO][GO\n",
            "/content/drive/MyDrive/project/Kyowon/data/test/TEST_00225.png\t[GO][GO][GO][GO][GO][GO][GO][GO][GO][GO][GO][GO][GO][GO][GO][GO][GO][GO][GO][GO][GO][GO][GO][GO][GO][GO\n",
            "/content/drive/MyDrive/project/Kyowon/data/test/TEST_00226.png\t[GO][GO][GO][GO][GO][GO][GO][GO][GO][GO][GO][GO][GO][GO][GO][GO][GO][GO][GO][GO][GO][GO][GO][GO][GO][GO\n",
            "/content/drive/MyDrive/project/Kyowon/data/test/TEST_00227.png\t[GO][GO][GO][GO][GO][GO][GO][GO][GO][GO][GO][GO][GO][GO][GO][GO][GO][GO][GO][GO][GO][GO][GO][GO][GO][GO\n",
            "/content/drive/MyDrive/project/Kyowon/data/test/TEST_00228.png\t[GO][GO][GO][GO][GO][GO][GO][GO][GO][GO][GO][GO][GO][GO][GO][GO][GO][GO][GO][GO][GO][GO][GO][GO][GO][GO\n",
            "/content/drive/MyDrive/project/Kyowon/data/test/TEST_00229.png\t[GO][GO][GO][GO][GO][GO][GO][GO][GO][GO][GO][GO][GO][GO][GO][GO][GO][GO][GO][GO][GO][GO][GO][GO][GO][GO\n",
            "/content/drive/MyDrive/project/Kyowon/data/test/TEST_00230.png\t[GO][GO][GO][GO][GO][GO][GO][GO][GO][GO][GO][GO][GO][GO][GO][GO][GO][GO][GO][GO][GO][GO][GO][GO][GO][GO\n",
            "/content/drive/MyDrive/project/Kyowon/data/test/TEST_00231.png\t[GO][GO][GO][GO][GO][GO][GO][GO][GO][GO][GO][GO][GO][GO][GO][GO][GO][GO][GO][GO][GO][GO][GO][GO][GO][GO\n",
            "/content/drive/MyDrive/project/Kyowon/data/test/TEST_00232.png\t[GO][GO][GO][GO][GO][GO][GO][GO][GO][GO][GO][GO][GO][GO][GO][GO][GO][GO][GO][GO][GO][GO][GO][GO][GO][GO\n",
            "/content/drive/MyDrive/project/Kyowon/data/test/TEST_00233.png\t[GO][GO][GO][GO][GO][GO][GO][GO][GO][GO][GO][GO][GO][GO][GO][GO][GO][GO][GO][GO][GO][GO][GO][GO][GO][GO\n",
            "/content/drive/MyDrive/project/Kyowon/data/test/TEST_00234.png\t[GO][GO][GO][GO][GO][GO][GO][GO][GO][GO][GO][GO][GO][GO][GO][GO][GO][GO][GO][GO][GO][GO][GO][GO][GO][GO\n",
            "/content/drive/MyDrive/project/Kyowon/data/test/TEST_00235.png\t[GO][GO][GO][GO][GO][GO][GO][GO][GO][GO][GO][GO][GO][GO][GO][GO][GO][GO][GO][GO][GO][GO][GO][GO][GO][GO\n",
            "/content/drive/MyDrive/project/Kyowon/data/test/TEST_00236.png\t[GO][GO][GO][GO][GO][GO][GO][GO][GO][GO][GO][GO][GO][GO][GO][GO][GO][GO][GO][GO][GO][GO][GO][GO][GO][GO\n",
            "/content/drive/MyDrive/project/Kyowon/data/test/TEST_00237.png\t[GO][GO][GO][GO][GO][GO][GO][GO][GO][GO][GO][GO][GO][GO][GO][GO][GO][GO][GO][GO][GO][GO][GO][GO][GO][GO\n",
            "/content/drive/MyDrive/project/Kyowon/data/test/TEST_00238.png\t[GO][GO][GO][GO][GO][GO][GO][GO][GO][GO][GO][GO][GO][GO][GO][GO][GO][GO][GO][GO][GO][GO][GO][GO][GO][GO\n",
            "/content/drive/MyDrive/project/Kyowon/data/test/TEST_00239.png\t[GO][GO][GO][GO][GO][GO][GO][GO][GO][GO][GO][GO][GO][GO][GO][GO][GO][GO][GO][GO][GO][GO][GO][GO][GO][GO\n",
            "/content/drive/MyDrive/project/Kyowon/data/test/TEST_00240.png\t[GO][GO][GO][GO][GO][GO][GO][GO][GO][GO][GO][GO][GO][GO][GO][GO][GO][GO][GO][GO][GO][GO][GO][GO][GO][GO\n",
            "/content/drive/MyDrive/project/Kyowon/data/test/TEST_00241.png\t[GO][GO][GO][GO][GO][GO][GO][GO][GO][GO][GO][GO][GO][GO][GO][GO][GO][GO][GO][GO][GO][GO][GO][GO][GO][GO\n",
            "/content/drive/MyDrive/project/Kyowon/data/test/TEST_00242.png\t[GO][GO][GO][GO][GO][GO][GO][GO][GO][GO][GO][GO][GO][GO][GO][GO][GO][GO][GO][GO][GO][GO][GO][GO][GO][GO\n",
            "/content/drive/MyDrive/project/Kyowon/data/test/TEST_00243.png\t[GO][GO][GO][GO][GO][GO][GO][GO][GO][GO][GO][GO][GO][GO][GO][GO][GO][GO][GO][GO][GO][GO][GO][GO][GO][GO\n",
            "/content/drive/MyDrive/project/Kyowon/data/test/TEST_00244.png\t[GO][GO][GO][GO][GO][GO][GO][GO][GO][GO][GO][GO][GO][GO][GO][GO][GO][GO][GO][GO][GO][GO][GO][GO][GO][GO\n",
            "/content/drive/MyDrive/project/Kyowon/data/test/TEST_00245.png\t[GO][GO][GO][GO][GO][GO][GO][GO][GO][GO][GO][GO][GO][GO][GO][GO][GO][GO][GO][GO][GO][GO][GO][GO][GO][GO\n",
            "/content/drive/MyDrive/project/Kyowon/data/test/TEST_00246.png\t[GO][GO][GO][GO][GO][GO][GO][GO][GO][GO][GO][GO][GO][GO][GO][GO][GO][GO][GO][GO][GO][GO][GO][GO][GO][GO\n",
            "/content/drive/MyDrive/project/Kyowon/data/test/TEST_00247.png\t[GO][GO][GO][GO][GO][GO][GO][GO][GO][GO][GO][GO][GO][GO][GO][GO][GO][GO][GO][GO][GO][GO][GO][GO][GO][GO\n",
            "/content/drive/MyDrive/project/Kyowon/data/test/TEST_00248.png\t[GO][GO][GO][GO][GO][GO][GO][GO][GO][GO][GO][GO][GO][GO][GO][GO][GO][GO][GO][GO][GO][GO][GO][GO][GO][GO\n",
            "/content/drive/MyDrive/project/Kyowon/data/test/TEST_00249.png\t[GO][GO][GO][GO][GO][GO][GO][GO][GO][GO][GO][GO][GO][GO][GO][GO][GO][GO][GO][GO][GO][GO][GO][GO][GO][GO\n",
            "/content/drive/MyDrive/project/Kyowon/data/test/TEST_00250.png\t[GO][GO][GO][GO][GO][GO][GO][GO][GO][GO][GO][GO][GO][GO][GO][GO][GO][GO][GO][GO][GO][GO][GO][GO][GO][GO\n",
            "/content/drive/MyDrive/project/Kyowon/data/test/TEST_00251.png\t[GO][GO][GO][GO][GO][GO][GO][GO][GO][GO][GO][GO][GO][GO][GO][GO][GO][GO][GO][GO][GO][GO][GO][GO][GO][GO\n",
            "/content/drive/MyDrive/project/Kyowon/data/test/TEST_00252.png\t[GO][GO][GO][GO][GO][GO][GO][GO][GO][GO][GO][GO][GO][GO][GO][GO][GO][GO][GO][GO][GO][GO][GO][GO][GO][GO\n",
            "/content/drive/MyDrive/project/Kyowon/data/test/TEST_00253.png\t[GO][GO][GO][GO][GO][GO][GO][GO][GO][GO][GO][GO][GO][GO][GO][GO][GO][GO][GO][GO][GO][GO][GO][GO][GO][GO\n",
            "/content/drive/MyDrive/project/Kyowon/data/test/TEST_00254.png\t[GO][GO][GO][GO][GO][GO][GO][GO][GO][GO][GO][GO][GO][GO][GO][GO][GO][GO][GO][GO][GO][GO][GO][GO][GO][GO\n",
            "/content/drive/MyDrive/project/Kyowon/data/test/TEST_00255.png\t[GO][GO][GO][GO][GO][GO][GO][GO][GO][GO][GO][GO][GO][GO][GO][GO][GO][GO][GO][GO][GO][GO][GO][GO][GO][GO\n",
            "/content/drive/MyDrive/project/Kyowon/data/test/TEST_00256.png\t[GO][GO][GO][GO][GO][GO][GO][GO][GO][GO][GO][GO][GO][GO][GO][GO][GO][GO][GO][GO][GO][GO][GO][GO][GO][GO\n",
            "/content/drive/MyDrive/project/Kyowon/data/test/TEST_00257.png\t[GO][GO][GO][GO][GO][GO][GO][GO][GO][GO][GO][GO][GO][GO][GO][GO][GO][GO][GO][GO][GO][GO][GO][GO][GO][GO\n",
            "/content/drive/MyDrive/project/Kyowon/data/test/TEST_00258.png\t[GO][GO][GO][GO][GO][GO][GO][GO][GO][GO][GO][GO][GO][GO][GO][GO][GO][GO][GO][GO][GO][GO][GO][GO][GO][GO\n",
            "/content/drive/MyDrive/project/Kyowon/data/test/TEST_00259.png\t[GO][GO][GO][GO][GO][GO][GO][GO][GO][GO][GO][GO][GO][GO][GO][GO][GO][GO][GO][GO][GO][GO][GO][GO][GO][GO\n",
            "/content/drive/MyDrive/project/Kyowon/data/test/TEST_00260.png\t[GO][GO][GO][GO][GO][GO][GO][GO][GO][GO][GO][GO][GO][GO][GO][GO][GO][GO][GO][GO][GO][GO][GO][GO][GO][GO\n",
            "/content/drive/MyDrive/project/Kyowon/data/test/TEST_00261.png\t[GO][GO][GO][GO][GO][GO][GO][GO][GO][GO][GO][GO][GO][GO][GO][GO][GO][GO][GO][GO][GO][GO][GO][GO][GO][GO\n",
            "/content/drive/MyDrive/project/Kyowon/data/test/TEST_00262.png\t[GO][GO][GO][GO][GO][GO][GO][GO][GO][GO][GO][GO][GO][GO][GO][GO][GO][GO][GO][GO][GO][GO][GO][GO][GO][GO\n",
            "/content/drive/MyDrive/project/Kyowon/data/test/TEST_00263.png\t[GO][GO][GO][GO][GO][GO][GO][GO][GO][GO][GO][GO][GO][GO][GO][GO][GO][GO][GO][GO][GO][GO][GO][GO][GO][GO\n",
            "/content/drive/MyDrive/project/Kyowon/data/test/TEST_00264.png\t[GO][GO][GO][GO][GO][GO][GO][GO][GO][GO][GO][GO][GO][GO][GO][GO][GO][GO][GO][GO][GO][GO][GO][GO][GO][GO\n",
            "/content/drive/MyDrive/project/Kyowon/data/test/TEST_00265.png\t[GO][GO][GO][GO][GO][GO][GO][GO][GO][GO][GO][GO][GO][GO][GO][GO][GO][GO][GO][GO][GO][GO][GO][GO][GO][GO\n",
            "/content/drive/MyDrive/project/Kyowon/data/test/TEST_00266.png\t[GO][GO][GO][GO][GO][GO][GO][GO][GO][GO][GO][GO][GO][GO][GO][GO][GO][GO][GO][GO][GO][GO][GO][GO][GO][GO\n",
            "/content/drive/MyDrive/project/Kyowon/data/test/TEST_00267.png\t[GO][GO][GO][GO][GO][GO][GO][GO][GO][GO][GO][GO][GO][GO][GO][GO][GO][GO][GO][GO][GO][GO][GO][GO][GO][GO\n",
            "/content/drive/MyDrive/project/Kyowon/data/test/TEST_00268.png\t[GO][GO][GO][GO][GO][GO][GO][GO][GO][GO][GO][GO][GO][GO][GO][GO][GO][GO][GO][GO][GO][GO][GO][GO][GO][GO\n",
            "/content/drive/MyDrive/project/Kyowon/data/test/TEST_00269.png\t[GO][GO][GO][GO][GO][GO][GO][GO][GO][GO][GO][GO][GO][GO][GO][GO][GO][GO][GO][GO][GO][GO][GO][GO][GO][GO\n",
            "/content/drive/MyDrive/project/Kyowon/data/test/TEST_00270.png\t[GO][GO][GO][GO][GO][GO][GO][GO][GO][GO][GO][GO][GO][GO][GO][GO][GO][GO][GO][GO][GO][GO][GO][GO][GO][GO\n",
            "/content/drive/MyDrive/project/Kyowon/data/test/TEST_00271.png\t[GO][GO][GO][GO][GO][GO][GO][GO][GO][GO][GO][GO][GO][GO][GO][GO][GO][GO][GO][GO][GO][GO][GO][GO][GO][GO\n",
            "/content/drive/MyDrive/project/Kyowon/data/test/TEST_00272.png\t[GO][GO][GO][GO][GO][GO][GO][GO][GO][GO][GO][GO][GO][GO][GO][GO][GO][GO][GO][GO][GO][GO][GO][GO][GO][GO\n",
            "/content/drive/MyDrive/project/Kyowon/data/test/TEST_00273.png\t[GO][GO][GO][GO][GO][GO][GO][GO][GO][GO][GO][GO][GO][GO][GO][GO][GO][GO][GO][GO][GO][GO][GO][GO][GO][GO\n",
            "/content/drive/MyDrive/project/Kyowon/data/test/TEST_00274.png\t[GO][GO][GO][GO][GO][GO][GO][GO][GO][GO][GO][GO][GO][GO][GO][GO][GO][GO][GO][GO][GO][GO][GO][GO][GO][GO\n",
            "/content/drive/MyDrive/project/Kyowon/data/test/TEST_00275.png\t[GO][GO][GO][GO][GO][GO][GO][GO][GO][GO][GO][GO][GO][GO][GO][GO][GO][GO][GO][GO][GO][GO][GO][GO][GO][GO\n",
            "/content/drive/MyDrive/project/Kyowon/data/test/TEST_00276.png\t[GO][GO][GO][GO][GO][GO][GO][GO][GO][GO][GO][GO][GO][GO][GO][GO][GO][GO][GO][GO][GO][GO][GO][GO][GO][GO\n",
            "/content/drive/MyDrive/project/Kyowon/data/test/TEST_00277.png\t[GO][GO][GO][GO][GO][GO][GO][GO][GO][GO][GO][GO][GO][GO][GO][GO][GO][GO][GO][GO][GO][GO][GO][GO][GO][GO\n",
            "/content/drive/MyDrive/project/Kyowon/data/test/TEST_00278.png\t[GO][GO][GO][GO][GO][GO][GO][GO][GO][GO][GO][GO][GO][GO][GO][GO][GO][GO][GO][GO][GO][GO][GO][GO][GO][GO\n",
            "/content/drive/MyDrive/project/Kyowon/data/test/TEST_00279.png\t[GO][GO][GO][GO][GO][GO][GO][GO][GO][GO][GO][GO][GO][GO][GO][GO][GO][GO][GO][GO][GO][GO][GO][GO][GO][GO\n",
            "/content/drive/MyDrive/project/Kyowon/data/test/TEST_00280.png\t[GO][GO][GO][GO][GO][GO][GO][GO][GO][GO][GO][GO][GO][GO][GO][GO][GO][GO][GO][GO][GO][GO][GO][GO][GO][GO\n",
            "/content/drive/MyDrive/project/Kyowon/data/test/TEST_00281.png\t[GO][GO][GO][GO][GO][GO][GO][GO][GO][GO][GO][GO][GO][GO][GO][GO][GO][GO][GO][GO][GO][GO][GO][GO][GO][GO\n",
            "/content/drive/MyDrive/project/Kyowon/data/test/TEST_00282.png\t[GO][GO][GO][GO][GO][GO][GO][GO][GO][GO][GO][GO][GO][GO][GO][GO][GO][GO][GO][GO][GO][GO][GO][GO][GO][GO\n",
            "/content/drive/MyDrive/project/Kyowon/data/test/TEST_00283.png\t[GO][GO][GO][GO][GO][GO][GO][GO][GO][GO][GO][GO][GO][GO][GO][GO][GO][GO][GO][GO][GO][GO][GO][GO][GO][GO\n",
            "/content/drive/MyDrive/project/Kyowon/data/test/TEST_00284.png\t[GO][GO][GO][GO][GO][GO][GO][GO][GO][GO][GO][GO][GO][GO][GO][GO][GO][GO][GO][GO][GO][GO][GO][GO][GO][GO\n",
            "/content/drive/MyDrive/project/Kyowon/data/test/TEST_00285.png\t[GO][GO][GO][GO][GO][GO][GO][GO][GO][GO][GO][GO][GO][GO][GO][GO][GO][GO][GO][GO][GO][GO][GO][GO][GO][GO\n",
            "/content/drive/MyDrive/project/Kyowon/data/test/TEST_00286.png\t[GO][GO][GO][GO][GO][GO][GO][GO][GO][GO][GO][GO][GO][GO][GO][GO][GO][GO][GO][GO][GO][GO][GO][GO][GO][GO\n",
            "/content/drive/MyDrive/project/Kyowon/data/test/TEST_00287.png\t[GO][GO][GO][GO][GO][GO][GO][GO][GO][GO][GO][GO][GO][GO][GO][GO][GO][GO][GO][GO][GO][GO][GO][GO][GO][GO\n",
            "/content/drive/MyDrive/project/Kyowon/data/test/TEST_00288.png\t[GO][GO][GO][GO][GO][GO][GO][GO][GO][GO][GO][GO][GO][GO][GO][GO][GO][GO][GO][GO][GO][GO][GO][GO][GO][GO\n",
            "/content/drive/MyDrive/project/Kyowon/data/test/TEST_00289.png\t[GO][GO][GO][GO][GO][GO][GO][GO][GO][GO][GO][GO][GO][GO][GO][GO][GO][GO][GO][GO][GO][GO][GO][GO][GO][GO\n",
            "/content/drive/MyDrive/project/Kyowon/data/test/TEST_00290.png\t[GO][GO][GO][GO][GO][GO][GO][GO][GO][GO][GO][GO][GO][GO][GO][GO][GO][GO][GO][GO][GO][GO][GO][GO][GO][GO\n",
            "/content/drive/MyDrive/project/Kyowon/data/test/TEST_00291.png\t[GO][GO][GO][GO][GO][GO][GO][GO][GO][GO][GO][GO][GO][GO][GO][GO][GO][GO][GO][GO][GO][GO][GO][GO][GO][GO\n",
            "/content/drive/MyDrive/project/Kyowon/data/test/TEST_00292.png\t[GO][GO][GO][GO][GO][GO][GO][GO][GO][GO][GO][GO][GO][GO][GO][GO][GO][GO][GO][GO][GO][GO][GO][GO][GO][GO\n",
            "/content/drive/MyDrive/project/Kyowon/data/test/TEST_00293.png\t[GO][GO][GO][GO][GO][GO][GO][GO][GO][GO][GO][GO][GO][GO][GO][GO][GO][GO][GO][GO][GO][GO][GO][GO][GO][GO\n",
            "/content/drive/MyDrive/project/Kyowon/data/test/TEST_00294.png\t[GO][GO][GO][GO][GO][GO][GO][GO][GO][GO][GO][GO][GO][GO][GO][GO][GO][GO][GO][GO][GO][GO][GO][GO][GO][GO\n",
            "/content/drive/MyDrive/project/Kyowon/data/test/TEST_00295.png\t[GO][GO][GO][GO][GO][GO][GO][GO][GO][GO][GO][GO][GO][GO][GO][GO][GO][GO][GO][GO][GO][GO][GO][GO][GO][GO\n",
            "/content/drive/MyDrive/project/Kyowon/data/test/TEST_00296.png\t[GO][GO][GO][GO][GO][GO][GO][GO][GO][GO][GO][GO][GO][GO][GO][GO][GO][GO][GO][GO][GO][GO][GO][GO][GO][GO\n",
            "/content/drive/MyDrive/project/Kyowon/data/test/TEST_00297.png\t[GO][GO][GO][GO][GO][GO][GO][GO][GO][GO][GO][GO][GO][GO][GO][GO][GO][GO][GO][GO][GO][GO][GO][GO][GO][GO\n",
            "/content/drive/MyDrive/project/Kyowon/data/test/TEST_00298.png\t[GO][GO][GO][GO][GO][GO][GO][GO][GO][GO][GO][GO][GO][GO][GO][GO][GO][GO][GO][GO][GO][GO][GO][GO][GO][GO\n",
            "/content/drive/MyDrive/project/Kyowon/data/test/TEST_00299.png\t[GO][GO][GO][GO][GO][GO][GO][GO][GO][GO][GO][GO][GO][GO][GO][GO][GO][GO][GO][GO][GO][GO][GO][GO][GO][GO\n",
            "/content/drive/MyDrive/project/Kyowon/data/test/TEST_00300.png\t[GO][GO][GO][GO][GO][GO][GO][GO][GO][GO][GO][GO][GO][GO][GO][GO][GO][GO][GO][GO][GO][GO][GO][GO][GO][GO\n",
            "/content/drive/MyDrive/project/Kyowon/data/test/TEST_00301.png\t[GO][GO][GO][GO][GO][GO][GO][GO][GO][GO][GO][GO][GO][GO][GO][GO][GO][GO][GO][GO][GO][GO][GO][GO][GO][GO\n",
            "/content/drive/MyDrive/project/Kyowon/data/test/TEST_00302.png\t[GO][GO][GO][GO][GO][GO][GO][GO][GO][GO][GO][GO][GO][GO][GO][GO][GO][GO][GO][GO][GO][GO][GO][GO][GO][GO\n",
            "/content/drive/MyDrive/project/Kyowon/data/test/TEST_00303.png\t[GO][GO][GO][GO][GO][GO][GO][GO][GO][GO][GO][GO][GO][GO][GO][GO][GO][GO][GO][GO][GO][GO][GO][GO][GO][GO\n",
            "/content/drive/MyDrive/project/Kyowon/data/test/TEST_00304.png\t[GO][GO][GO][GO][GO][GO][GO][GO][GO][GO][GO][GO][GO][GO][GO][GO][GO][GO][GO][GO][GO][GO][GO][GO][GO][GO\n",
            "/content/drive/MyDrive/project/Kyowon/data/test/TEST_00305.png\t[GO][GO][GO][GO][GO][GO][GO][GO][GO][GO][GO][GO][GO][GO][GO][GO][GO][GO][GO][GO][GO][GO][GO][GO][GO][GO\n",
            "/content/drive/MyDrive/project/Kyowon/data/test/TEST_00306.png\t[GO][GO][GO][GO][GO][GO][GO][GO][GO][GO][GO][GO][GO][GO][GO][GO][GO][GO][GO][GO][GO][GO][GO][GO][GO][GO\n",
            "/content/drive/MyDrive/project/Kyowon/data/test/TEST_00307.png\t[GO][GO][GO][GO][GO][GO][GO][GO][GO][GO][GO][GO][GO][GO][GO][GO][GO][GO][GO][GO][GO][GO][GO][GO][GO][GO\n",
            "/content/drive/MyDrive/project/Kyowon/data/test/TEST_00308.png\t[GO][GO][GO][GO][GO][GO][GO][GO][GO][GO][GO][GO][GO][GO][GO][GO][GO][GO][GO][GO][GO][GO][GO][GO][GO][GO\n",
            "/content/drive/MyDrive/project/Kyowon/data/test/TEST_00309.png\t[GO][GO][GO][GO][GO][GO][GO][GO][GO][GO][GO][GO][GO][GO][GO][GO][GO][GO][GO][GO][GO][GO][GO][GO][GO][GO\n",
            "/content/drive/MyDrive/project/Kyowon/data/test/TEST_00310.png\t[GO][GO][GO][GO][GO][GO][GO][GO][GO][GO][GO][GO][GO][GO][GO][GO][GO][GO][GO][GO][GO][GO][GO][GO][GO][GO\n",
            "/content/drive/MyDrive/project/Kyowon/data/test/TEST_00311.png\t[GO][GO][GO][GO][GO][GO][GO][GO][GO][GO][GO][GO][GO][GO][GO][GO][GO][GO][GO][GO][GO][GO][GO][GO][GO][GO\n",
            "/content/drive/MyDrive/project/Kyowon/data/test/TEST_00312.png\t[GO][GO][GO][GO][GO][GO][GO][GO][GO][GO][GO][GO][GO][GO][GO][GO][GO][GO][GO][GO][GO][GO][GO][GO][GO][GO\n",
            "/content/drive/MyDrive/project/Kyowon/data/test/TEST_00313.png\t[GO][GO][GO][GO][GO][GO][GO][GO][GO][GO][GO][GO][GO][GO][GO][GO][GO][GO][GO][GO][GO][GO][GO][GO][GO][GO\n",
            "/content/drive/MyDrive/project/Kyowon/data/test/TEST_00314.png\t[GO][GO][GO][GO][GO][GO][GO][GO][GO][GO][GO][GO][GO][GO][GO][GO][GO][GO][GO][GO][GO][GO][GO][GO][GO][GO\n",
            "/content/drive/MyDrive/project/Kyowon/data/test/TEST_00315.png\t[GO][GO][GO][GO][GO][GO][GO][GO][GO][GO][GO][GO][GO][GO][GO][GO][GO][GO][GO][GO][GO][GO][GO][GO][GO][GO\n",
            "/content/drive/MyDrive/project/Kyowon/data/test/TEST_00316.png\t[GO][GO][GO][GO][GO][GO][GO][GO][GO][GO][GO][GO][GO][GO][GO][GO][GO][GO][GO][GO][GO][GO][GO][GO][GO][GO\n",
            "/content/drive/MyDrive/project/Kyowon/data/test/TEST_00317.png\t[GO][GO][GO][GO][GO][GO][GO][GO][GO][GO][GO][GO][GO][GO][GO][GO][GO][GO][GO][GO][GO][GO][GO][GO][GO][GO\n",
            "/content/drive/MyDrive/project/Kyowon/data/test/TEST_00318.png\t[GO][GO][GO][GO][GO][GO][GO][GO][GO][GO][GO][GO][GO][GO][GO][GO][GO][GO][GO][GO][GO][GO][GO][GO][GO][GO\n",
            "/content/drive/MyDrive/project/Kyowon/data/test/TEST_00319.png\t[GO][GO][GO][GO][GO][GO][GO][GO][GO][GO][GO][GO][GO][GO][GO][GO][GO][GO][GO][GO][GO][GO][GO][GO][GO][GO\n",
            "/content/drive/MyDrive/project/Kyowon/data/test/TEST_00320.png\t[GO][GO][GO][GO][GO][GO][GO][GO][GO][GO][GO][GO][GO][GO][GO][GO][GO][GO][GO][GO][GO][GO][GO][GO][GO][GO\n",
            "/content/drive/MyDrive/project/Kyowon/data/test/TEST_00321.png\t[GO][GO][GO][GO][GO][GO][GO][GO][GO][GO][GO][GO][GO][GO][GO][GO][GO][GO][GO][GO][GO][GO][GO][GO][GO][GO\n",
            "/content/drive/MyDrive/project/Kyowon/data/test/TEST_00322.png\t[GO][GO][GO][GO][GO][GO][GO][GO][GO][GO][GO][GO][GO][GO][GO][GO][GO][GO][GO][GO][GO][GO][GO][GO][GO][GO\n",
            "/content/drive/MyDrive/project/Kyowon/data/test/TEST_00323.png\t[GO][GO][GO][GO][GO][GO][GO][GO][GO][GO][GO][GO][GO][GO][GO][GO][GO][GO][GO][GO][GO][GO][GO][GO][GO][GO\n",
            "/content/drive/MyDrive/project/Kyowon/data/test/TEST_00324.png\t[GO][GO][GO][GO][GO][GO][GO][GO][GO][GO][GO][GO][GO][GO][GO][GO][GO][GO][GO][GO][GO][GO][GO][GO][GO][GO\n",
            "/content/drive/MyDrive/project/Kyowon/data/test/TEST_00325.png\t[GO][GO][GO][GO][GO][GO][GO][GO][GO][GO][GO][GO][GO][GO][GO][GO][GO][GO][GO][GO][GO][GO][GO][GO][GO][GO\n",
            "/content/drive/MyDrive/project/Kyowon/data/test/TEST_00326.png\t[GO][GO][GO][GO][GO][GO][GO][GO][GO][GO][GO][GO][GO][GO][GO][GO][GO][GO][GO][GO][GO][GO][GO][GO][GO][GO\n",
            "/content/drive/MyDrive/project/Kyowon/data/test/TEST_00327.png\t[GO][GO][GO][GO][GO][GO][GO][GO][GO][GO][GO][GO][GO][GO][GO][GO][GO][GO][GO][GO][GO][GO][GO][GO][GO][GO\n",
            "/content/drive/MyDrive/project/Kyowon/data/test/TEST_00328.png\t[GO][GO][GO][GO][GO][GO][GO][GO][GO][GO][GO][GO][GO][GO][GO][GO][GO][GO][GO][GO][GO][GO][GO][GO][GO][GO\n",
            "/content/drive/MyDrive/project/Kyowon/data/test/TEST_00329.png\t[GO][GO][GO][GO][GO][GO][GO][GO][GO][GO][GO][GO][GO][GO][GO][GO][GO][GO][GO][GO][GO][GO][GO][GO][GO][GO\n",
            "/content/drive/MyDrive/project/Kyowon/data/test/TEST_00330.png\t[GO][GO][GO][GO][GO][GO][GO][GO][GO][GO][GO][GO][GO][GO][GO][GO][GO][GO][GO][GO][GO][GO][GO][GO][GO][GO\n",
            "/content/drive/MyDrive/project/Kyowon/data/test/TEST_00331.png\t[GO][GO][GO][GO][GO][GO][GO][GO][GO][GO][GO][GO][GO][GO][GO][GO][GO][GO][GO][GO][GO][GO][GO][GO][GO][GO\n",
            "/content/drive/MyDrive/project/Kyowon/data/test/TEST_00332.png\t[GO][GO][GO][GO][GO][GO][GO][GO][GO][GO][GO][GO][GO][GO][GO][GO][GO][GO][GO][GO][GO][GO][GO][GO][GO][GO\n",
            "/content/drive/MyDrive/project/Kyowon/data/test/TEST_00333.png\t[GO][GO][GO][GO][GO][GO][GO][GO][GO][GO][GO][GO][GO][GO][GO][GO][GO][GO][GO][GO][GO][GO][GO][GO][GO][GO\n",
            "/content/drive/MyDrive/project/Kyowon/data/test/TEST_00334.png\t[GO][GO][GO][GO][GO][GO][GO][GO][GO][GO][GO][GO][GO][GO][GO][GO][GO][GO][GO][GO][GO][GO][GO][GO][GO][GO\n",
            "/content/drive/MyDrive/project/Kyowon/data/test/TEST_00335.png\t[GO][GO][GO][GO][GO][GO][GO][GO][GO][GO][GO][GO][GO][GO][GO][GO][GO][GO][GO][GO][GO][GO][GO][GO][GO][GO\n",
            "/content/drive/MyDrive/project/Kyowon/data/test/TEST_00336.png\t[GO][GO][GO][GO][GO][GO][GO][GO][GO][GO][GO][GO][GO][GO][GO][GO][GO][GO][GO][GO][GO][GO][GO][GO][GO][GO\n",
            "/content/drive/MyDrive/project/Kyowon/data/test/TEST_00337.png\t[GO][GO][GO][GO][GO][GO][GO][GO][GO][GO][GO][GO][GO][GO][GO][GO][GO][GO][GO][GO][GO][GO][GO][GO][GO][GO\n",
            "/content/drive/MyDrive/project/Kyowon/data/test/TEST_00338.png\t[GO][GO][GO][GO][GO][GO][GO][GO][GO][GO][GO][GO][GO][GO][GO][GO][GO][GO][GO][GO][GO][GO][GO][GO][GO][GO\n",
            "/content/drive/MyDrive/project/Kyowon/data/test/TEST_00339.png\t[GO][GO][GO][GO][GO][GO][GO][GO][GO][GO][GO][GO][GO][GO][GO][GO][GO][GO][GO][GO][GO][GO][GO][GO][GO][GO\n",
            "/content/drive/MyDrive/project/Kyowon/data/test/TEST_00340.png\t[GO][GO][GO][GO][GO][GO][GO][GO][GO][GO][GO][GO][GO][GO][GO][GO][GO][GO][GO][GO][GO][GO][GO][GO][GO][GO\n",
            "/content/drive/MyDrive/project/Kyowon/data/test/TEST_00341.png\t[GO][GO][GO][GO][GO][GO][GO][GO][GO][GO][GO][GO][GO][GO][GO][GO][GO][GO][GO][GO][GO][GO][GO][GO][GO][GO\n",
            "/content/drive/MyDrive/project/Kyowon/data/test/TEST_00342.png\t[GO][GO][GO][GO][GO][GO][GO][GO][GO][GO][GO][GO][GO][GO][GO][GO][GO][GO][GO][GO][GO][GO][GO][GO][GO][GO\n",
            "/content/drive/MyDrive/project/Kyowon/data/test/TEST_00343.png\t[GO][GO][GO][GO][GO][GO][GO][GO][GO][GO][GO][GO][GO][GO][GO][GO][GO][GO][GO][GO][GO][GO][GO][GO][GO][GO\n",
            "/content/drive/MyDrive/project/Kyowon/data/test/TEST_00344.png\t[GO][GO][GO][GO][GO][GO][GO][GO][GO][GO][GO][GO][GO][GO][GO][GO][GO][GO][GO][GO][GO][GO][GO][GO][GO][GO\n",
            "/content/drive/MyDrive/project/Kyowon/data/test/TEST_00345.png\t[GO][GO][GO][GO][GO][GO][GO][GO][GO][GO][GO][GO][GO][GO][GO][GO][GO][GO][GO][GO][GO][GO][GO][GO][GO][GO\n",
            "/content/drive/MyDrive/project/Kyowon/data/test/TEST_00346.png\t[GO][GO][GO][GO][GO][GO][GO][GO][GO][GO][GO][GO][GO][GO][GO][GO][GO][GO][GO][GO][GO][GO][GO][GO][GO][GO\n",
            "/content/drive/MyDrive/project/Kyowon/data/test/TEST_00347.png\t[GO][GO][GO][GO][GO][GO][GO][GO][GO][GO][GO][GO][GO][GO][GO][GO][GO][GO][GO][GO][GO][GO][GO][GO][GO][GO\n",
            "/content/drive/MyDrive/project/Kyowon/data/test/TEST_00348.png\t[GO][GO][GO][GO][GO][GO][GO][GO][GO][GO][GO][GO][GO][GO][GO][GO][GO][GO][GO][GO][GO][GO][GO][GO][GO][GO\n",
            "/content/drive/MyDrive/project/Kyowon/data/test/TEST_00349.png\t[GO][GO][GO][GO][GO][GO][GO][GO][GO][GO][GO][GO][GO][GO][GO][GO][GO][GO][GO][GO][GO][GO][GO][GO][GO][GO\n",
            "/content/drive/MyDrive/project/Kyowon/data/test/TEST_00350.png\t[GO][GO][GO][GO][GO][GO][GO][GO][GO][GO][GO][GO][GO][GO][GO][GO][GO][GO][GO][GO][GO][GO][GO][GO][GO][GO\n",
            "/content/drive/MyDrive/project/Kyowon/data/test/TEST_00351.png\t[GO][GO][GO][GO][GO][GO][GO][GO][GO][GO][GO][GO][GO][GO][GO][GO][GO][GO][GO][GO][GO][GO][GO][GO][GO][GO\n",
            "/content/drive/MyDrive/project/Kyowon/data/test/TEST_00352.png\t[GO][GO][GO][GO][GO][GO][GO][GO][GO][GO][GO][GO][GO][GO][GO][GO][GO][GO][GO][GO][GO][GO][GO][GO][GO][GO\n",
            "/content/drive/MyDrive/project/Kyowon/data/test/TEST_00353.png\t[GO][GO][GO][GO][GO][GO][GO][GO][GO][GO][GO][GO][GO][GO][GO][GO][GO][GO][GO][GO][GO][GO][GO][GO][GO][GO\n",
            "/content/drive/MyDrive/project/Kyowon/data/test/TEST_00354.png\t[GO][GO][GO][GO][GO][GO][GO][GO][GO][GO][GO][GO][GO][GO][GO][GO][GO][GO][GO][GO][GO][GO][GO][GO][GO][GO\n",
            "/content/drive/MyDrive/project/Kyowon/data/test/TEST_00355.png\t[GO][GO][GO][GO][GO][GO][GO][GO][GO][GO][GO][GO][GO][GO][GO][GO][GO][GO][GO][GO][GO][GO][GO][GO][GO][GO\n",
            "/content/drive/MyDrive/project/Kyowon/data/test/TEST_00356.png\t[GO][GO][GO][GO][GO][GO][GO][GO][GO][GO][GO][GO][GO][GO][GO][GO][GO][GO][GO][GO][GO][GO][GO][GO][GO][GO\n",
            "/content/drive/MyDrive/project/Kyowon/data/test/TEST_00357.png\t[GO][GO][GO][GO][GO][GO][GO][GO][GO][GO][GO][GO][GO][GO][GO][GO][GO][GO][GO][GO][GO][GO][GO][GO][GO][GO\n",
            "/content/drive/MyDrive/project/Kyowon/data/test/TEST_00358.png\t[GO][GO][GO][GO][GO][GO][GO][GO][GO][GO][GO][GO][GO][GO][GO][GO][GO][GO][GO][GO][GO][GO][GO][GO][GO][GO\n",
            "/content/drive/MyDrive/project/Kyowon/data/test/TEST_00359.png\t[GO][GO][GO][GO][GO][GO][GO][GO][GO][GO][GO][GO][GO][GO][GO][GO][GO][GO][GO][GO][GO][GO][GO][GO][GO][GO\n",
            "/content/drive/MyDrive/project/Kyowon/data/test/TEST_00360.png\t[GO][GO][GO][GO][GO][GO][GO][GO][GO][GO][GO][GO][GO][GO][GO][GO][GO][GO][GO][GO][GO][GO][GO][GO][GO][GO\n",
            "/content/drive/MyDrive/project/Kyowon/data/test/TEST_00361.png\t[GO][GO][GO][GO][GO][GO][GO][GO][GO][GO][GO][GO][GO][GO][GO][GO][GO][GO][GO][GO][GO][GO][GO][GO][GO][GO\n",
            "/content/drive/MyDrive/project/Kyowon/data/test/TEST_00362.png\t[GO][GO][GO][GO][GO][GO][GO][GO][GO][GO][GO][GO][GO][GO][GO][GO][GO][GO][GO][GO][GO][GO][GO][GO][GO][GO\n",
            "/content/drive/MyDrive/project/Kyowon/data/test/TEST_00363.png\t[GO][GO][GO][GO][GO][GO][GO][GO][GO][GO][GO][GO][GO][GO][GO][GO][GO][GO][GO][GO][GO][GO][GO][GO][GO][GO\n",
            "/content/drive/MyDrive/project/Kyowon/data/test/TEST_00364.png\t[GO][GO][GO][GO][GO][GO][GO][GO][GO][GO][GO][GO][GO][GO][GO][GO][GO][GO][GO][GO][GO][GO][GO][GO][GO][GO\n",
            "/content/drive/MyDrive/project/Kyowon/data/test/TEST_00365.png\t[GO][GO][GO][GO][GO][GO][GO][GO][GO][GO][GO][GO][GO][GO][GO][GO][GO][GO][GO][GO][GO][GO][GO][GO][GO][GO\n",
            "/content/drive/MyDrive/project/Kyowon/data/test/TEST_00366.png\t[GO][GO][GO][GO][GO][GO][GO][GO][GO][GO][GO][GO][GO][GO][GO][GO][GO][GO][GO][GO][GO][GO][GO][GO][GO][GO\n",
            "/content/drive/MyDrive/project/Kyowon/data/test/TEST_00367.png\t[GO][GO][GO][GO][GO][GO][GO][GO][GO][GO][GO][GO][GO][GO][GO][GO][GO][GO][GO][GO][GO][GO][GO][GO][GO][GO\n",
            "/content/drive/MyDrive/project/Kyowon/data/test/TEST_00368.png\t[GO][GO][GO][GO][GO][GO][GO][GO][GO][GO][GO][GO][GO][GO][GO][GO][GO][GO][GO][GO][GO][GO][GO][GO][GO][GO\n",
            "/content/drive/MyDrive/project/Kyowon/data/test/TEST_00369.png\t[GO][GO][GO][GO][GO][GO][GO][GO][GO][GO][GO][GO][GO][GO][GO][GO][GO][GO][GO][GO][GO][GO][GO][GO][GO][GO\n",
            "/content/drive/MyDrive/project/Kyowon/data/test/TEST_00370.png\t[GO][GO][GO][GO][GO][GO][GO][GO][GO][GO][GO][GO][GO][GO][GO][GO][GO][GO][GO][GO][GO][GO][GO][GO][GO][GO\n",
            "/content/drive/MyDrive/project/Kyowon/data/test/TEST_00371.png\t[GO][GO][GO][GO][GO][GO][GO][GO][GO][GO][GO][GO][GO][GO][GO][GO][GO][GO][GO][GO][GO][GO][GO][GO][GO][GO\n",
            "/content/drive/MyDrive/project/Kyowon/data/test/TEST_00372.png\t[GO][GO][GO][GO][GO][GO][GO][GO][GO][GO][GO][GO][GO][GO][GO][GO][GO][GO][GO][GO][GO][GO][GO][GO][GO][GO\n",
            "/content/drive/MyDrive/project/Kyowon/data/test/TEST_00373.png\t[GO][GO][GO][GO][GO][GO][GO][GO][GO][GO][GO][GO][GO][GO][GO][GO][GO][GO][GO][GO][GO][GO][GO][GO][GO][GO\n",
            "/content/drive/MyDrive/project/Kyowon/data/test/TEST_00374.png\t[GO][GO][GO][GO][GO][GO][GO][GO][GO][GO][GO][GO][GO][GO][GO][GO][GO][GO][GO][GO][GO][GO][GO][GO][GO][GO\n",
            "/content/drive/MyDrive/project/Kyowon/data/test/TEST_00375.png\t[GO][GO][GO][GO][GO][GO][GO][GO][GO][GO][GO][GO][GO][GO][GO][GO][GO][GO][GO][GO][GO][GO][GO][GO][GO][GO\n",
            "/content/drive/MyDrive/project/Kyowon/data/test/TEST_00376.png\t[GO][GO][GO][GO][GO][GO][GO][GO][GO][GO][GO][GO][GO][GO][GO][GO][GO][GO][GO][GO][GO][GO][GO][GO][GO][GO\n",
            "/content/drive/MyDrive/project/Kyowon/data/test/TEST_00377.png\t[GO][GO][GO][GO][GO][GO][GO][GO][GO][GO][GO][GO][GO][GO][GO][GO][GO][GO][GO][GO][GO][GO][GO][GO][GO][GO\n",
            "/content/drive/MyDrive/project/Kyowon/data/test/TEST_00378.png\t[GO][GO][GO][GO][GO][GO][GO][GO][GO][GO][GO][GO][GO][GO][GO][GO][GO][GO][GO][GO][GO][GO][GO][GO][GO][GO\n",
            "/content/drive/MyDrive/project/Kyowon/data/test/TEST_00379.png\t[GO][GO][GO][GO][GO][GO][GO][GO][GO][GO][GO][GO][GO][GO][GO][GO][GO][GO][GO][GO][GO][GO][GO][GO][GO][GO\n",
            "/content/drive/MyDrive/project/Kyowon/data/test/TEST_00380.png\t[GO][GO][GO][GO][GO][GO][GO][GO][GO][GO][GO][GO][GO][GO][GO][GO][GO][GO][GO][GO][GO][GO][GO][GO][GO][GO\n",
            "/content/drive/MyDrive/project/Kyowon/data/test/TEST_00381.png\t[GO][GO][GO][GO][GO][GO][GO][GO][GO][GO][GO][GO][GO][GO][GO][GO][GO][GO][GO][GO][GO][GO][GO][GO][GO][GO\n",
            "/content/drive/MyDrive/project/Kyowon/data/test/TEST_00382.png\t[GO][GO][GO][GO][GO][GO][GO][GO][GO][GO][GO][GO][GO][GO][GO][GO][GO][GO][GO][GO][GO][GO][GO][GO][GO][GO\n",
            "/content/drive/MyDrive/project/Kyowon/data/test/TEST_00383.png\t[GO][GO][GO][GO][GO][GO][GO][GO][GO][GO][GO][GO][GO][GO][GO][GO][GO][GO][GO][GO][GO][GO][GO][GO][GO][GO\n",
            "123123123\n",
            "--------------------------------------------------------------------------------\n",
            "image_path               \tpredicted_labels         \tconfidence score\n",
            "--------------------------------------------------------------------------------\n",
            "/content/drive/MyDrive/project/Kyowon/data/test/TEST_00384.png\t[GO][GO][GO][GO][GO][GO][GO][GO][GO][GO][GO][GO][GO][GO][GO][GO][GO][GO][GO][GO][GO][GO][GO][GO][GO][GO\n",
            "/content/drive/MyDrive/project/Kyowon/data/test/TEST_00385.png\t[GO][GO][GO][GO][GO][GO][GO][GO][GO][GO][GO][GO][GO][GO][GO][GO][GO][GO][GO][GO][GO][GO][GO][GO][GO][GO\n",
            "/content/drive/MyDrive/project/Kyowon/data/test/TEST_00386.png\t[GO][GO][GO][GO][GO][GO][GO][GO][GO][GO][GO][GO][GO][GO][GO][GO][GO][GO][GO][GO][GO][GO][GO][GO][GO][GO\n",
            "/content/drive/MyDrive/project/Kyowon/data/test/TEST_00387.png\t[GO][GO][GO][GO][GO][GO][GO][GO][GO][GO][GO][GO][GO][GO][GO][GO][GO][GO][GO][GO][GO][GO][GO][GO][GO][GO\n",
            "/content/drive/MyDrive/project/Kyowon/data/test/TEST_00388.png\t[GO][GO][GO][GO][GO][GO][GO][GO][GO][GO][GO][GO][GO][GO][GO][GO][GO][GO][GO][GO][GO][GO][GO][GO][GO][GO\n",
            "/content/drive/MyDrive/project/Kyowon/data/test/TEST_00389.png\t[GO][GO][GO][GO][GO][GO][GO][GO][GO][GO][GO][GO][GO][GO][GO][GO][GO][GO][GO][GO][GO][GO][GO][GO][GO][GO\n",
            "/content/drive/MyDrive/project/Kyowon/data/test/TEST_00390.png\t[GO][GO][GO][GO][GO][GO][GO][GO][GO][GO][GO][GO][GO][GO][GO][GO][GO][GO][GO][GO][GO][GO][GO][GO][GO][GO\n",
            "/content/drive/MyDrive/project/Kyowon/data/test/TEST_00391.png\t[GO][GO][GO][GO][GO][GO][GO][GO][GO][GO][GO][GO][GO][GO][GO][GO][GO][GO][GO][GO][GO][GO][GO][GO][GO][GO\n",
            "/content/drive/MyDrive/project/Kyowon/data/test/TEST_00392.png\t[GO][GO][GO][GO][GO][GO][GO][GO][GO][GO][GO][GO][GO][GO][GO][GO][GO][GO][GO][GO][GO][GO][GO][GO][GO][GO\n",
            "/content/drive/MyDrive/project/Kyowon/data/test/TEST_00393.png\t[GO][GO][GO][GO][GO][GO][GO][GO][GO][GO][GO][GO][GO][GO][GO][GO][GO][GO][GO][GO][GO][GO][GO][GO][GO][GO\n",
            "/content/drive/MyDrive/project/Kyowon/data/test/TEST_00394.png\t[GO][GO][GO][GO][GO][GO][GO][GO][GO][GO][GO][GO][GO][GO][GO][GO][GO][GO][GO][GO][GO][GO][GO][GO][GO][GO\n",
            "/content/drive/MyDrive/project/Kyowon/data/test/TEST_00395.png\t[GO][GO][GO][GO][GO][GO][GO][GO][GO][GO][GO][GO][GO][GO][GO][GO][GO][GO][GO][GO][GO][GO][GO][GO][GO][GO\n",
            "/content/drive/MyDrive/project/Kyowon/data/test/TEST_00396.png\t[GO][GO][GO][GO][GO][GO][GO][GO][GO][GO][GO][GO][GO][GO][GO][GO][GO][GO][GO][GO][GO][GO][GO][GO][GO][GO\n",
            "/content/drive/MyDrive/project/Kyowon/data/test/TEST_00397.png\t[GO][GO][GO][GO][GO][GO][GO][GO][GO][GO][GO][GO][GO][GO][GO][GO][GO][GO][GO][GO][GO][GO][GO][GO][GO][GO\n",
            "/content/drive/MyDrive/project/Kyowon/data/test/TEST_00398.png\t[GO][GO][GO][GO][GO][GO][GO][GO][GO][GO][GO][GO][GO][GO][GO][GO][GO][GO][GO][GO][GO][GO][GO][GO][GO][GO\n",
            "/content/drive/MyDrive/project/Kyowon/data/test/TEST_00399.png\t[GO][GO][GO][GO][GO][GO][GO][GO][GO][GO][GO][GO][GO][GO][GO][GO][GO][GO][GO][GO][GO][GO][GO][GO][GO][GO\n",
            "/content/drive/MyDrive/project/Kyowon/data/test/TEST_00400.png\t[GO][GO][GO][GO][GO][GO][GO][GO][GO][GO][GO][GO][GO][GO][GO][GO][GO][GO][GO][GO][GO][GO][GO][GO][GO][GO\n",
            "/content/drive/MyDrive/project/Kyowon/data/test/TEST_00401.png\t[GO][GO][GO][GO][GO][GO][GO][GO][GO][GO][GO][GO][GO][GO][GO][GO][GO][GO][GO][GO][GO][GO][GO][GO][GO][GO\n",
            "/content/drive/MyDrive/project/Kyowon/data/test/TEST_00402.png\t[GO][GO][GO][GO][GO][GO][GO][GO][GO][GO][GO][GO][GO][GO][GO][GO][GO][GO][GO][GO][GO][GO][GO][GO][GO][GO\n",
            "/content/drive/MyDrive/project/Kyowon/data/test/TEST_00403.png\t[GO][GO][GO][GO][GO][GO][GO][GO][GO][GO][GO][GO][GO][GO][GO][GO][GO][GO][GO][GO][GO][GO][GO][GO][GO][GO\n",
            "/content/drive/MyDrive/project/Kyowon/data/test/TEST_00404.png\t[GO][GO][GO][GO][GO][GO][GO][GO][GO][GO][GO][GO][GO][GO][GO][GO][GO][GO][GO][GO][GO][GO][GO][GO][GO][GO\n",
            "/content/drive/MyDrive/project/Kyowon/data/test/TEST_00405.png\t[GO][GO][GO][GO][GO][GO][GO][GO][GO][GO][GO][GO][GO][GO][GO][GO][GO][GO][GO][GO][GO][GO][GO][GO][GO][GO\n",
            "/content/drive/MyDrive/project/Kyowon/data/test/TEST_00406.png\t[GO][GO][GO][GO][GO][GO][GO][GO][GO][GO][GO][GO][GO][GO][GO][GO][GO][GO][GO][GO][GO][GO][GO][GO][GO][GO\n",
            "/content/drive/MyDrive/project/Kyowon/data/test/TEST_00407.png\t[GO][GO][GO][GO][GO][GO][GO][GO][GO][GO][GO][GO][GO][GO][GO][GO][GO][GO][GO][GO][GO][GO][GO][GO][GO][GO\n",
            "/content/drive/MyDrive/project/Kyowon/data/test/TEST_00408.png\t[GO][GO][GO][GO][GO][GO][GO][GO][GO][GO][GO][GO][GO][GO][GO][GO][GO][GO][GO][GO][GO][GO][GO][GO][GO][GO\n",
            "/content/drive/MyDrive/project/Kyowon/data/test/TEST_00409.png\t[GO][GO][GO][GO][GO][GO][GO][GO][GO][GO][GO][GO][GO][GO][GO][GO][GO][GO][GO][GO][GO][GO][GO][GO][GO][GO\n",
            "/content/drive/MyDrive/project/Kyowon/data/test/TEST_00410.png\t[GO][GO][GO][GO][GO][GO][GO][GO][GO][GO][GO][GO][GO][GO][GO][GO][GO][GO][GO][GO][GO][GO][GO][GO][GO][GO\n",
            "/content/drive/MyDrive/project/Kyowon/data/test/TEST_00411.png\t[GO][GO][GO][GO][GO][GO][GO][GO][GO][GO][GO][GO][GO][GO][GO][GO][GO][GO][GO][GO][GO][GO][GO][GO][GO][GO\n",
            "/content/drive/MyDrive/project/Kyowon/data/test/TEST_00412.png\t[GO][GO][GO][GO][GO][GO][GO][GO][GO][GO][GO][GO][GO][GO][GO][GO][GO][GO][GO][GO][GO][GO][GO][GO][GO][GO\n",
            "/content/drive/MyDrive/project/Kyowon/data/test/TEST_00413.png\t[GO][GO][GO][GO][GO][GO][GO][GO][GO][GO][GO][GO][GO][GO][GO][GO][GO][GO][GO][GO][GO][GO][GO][GO][GO][GO\n",
            "/content/drive/MyDrive/project/Kyowon/data/test/TEST_00414.png\t[GO][GO][GO][GO][GO][GO][GO][GO][GO][GO][GO][GO][GO][GO][GO][GO][GO][GO][GO][GO][GO][GO][GO][GO][GO][GO\n",
            "/content/drive/MyDrive/project/Kyowon/data/test/TEST_00415.png\t[GO][GO][GO][GO][GO][GO][GO][GO][GO][GO][GO][GO][GO][GO][GO][GO][GO][GO][GO][GO][GO][GO][GO][GO][GO][GO\n",
            "/content/drive/MyDrive/project/Kyowon/data/test/TEST_00416.png\t[GO][GO][GO][GO][GO][GO][GO][GO][GO][GO][GO][GO][GO][GO][GO][GO][GO][GO][GO][GO][GO][GO][GO][GO][GO][GO\n",
            "/content/drive/MyDrive/project/Kyowon/data/test/TEST_00417.png\t[GO][GO][GO][GO][GO][GO][GO][GO][GO][GO][GO][GO][GO][GO][GO][GO][GO][GO][GO][GO][GO][GO][GO][GO][GO][GO\n",
            "/content/drive/MyDrive/project/Kyowon/data/test/TEST_00418.png\t[GO][GO][GO][GO][GO][GO][GO][GO][GO][GO][GO][GO][GO][GO][GO][GO][GO][GO][GO][GO][GO][GO][GO][GO][GO][GO\n",
            "/content/drive/MyDrive/project/Kyowon/data/test/TEST_00419.png\t[GO][GO][GO][GO][GO][GO][GO][GO][GO][GO][GO][GO][GO][GO][GO][GO][GO][GO][GO][GO][GO][GO][GO][GO][GO][GO\n",
            "/content/drive/MyDrive/project/Kyowon/data/test/TEST_00420.png\t[GO][GO][GO][GO][GO][GO][GO][GO][GO][GO][GO][GO][GO][GO][GO][GO][GO][GO][GO][GO][GO][GO][GO][GO][GO][GO\n",
            "/content/drive/MyDrive/project/Kyowon/data/test/TEST_00421.png\t[GO][GO][GO][GO][GO][GO][GO][GO][GO][GO][GO][GO][GO][GO][GO][GO][GO][GO][GO][GO][GO][GO][GO][GO][GO][GO\n",
            "/content/drive/MyDrive/project/Kyowon/data/test/TEST_00422.png\t[GO][GO][GO][GO][GO][GO][GO][GO][GO][GO][GO][GO][GO][GO][GO][GO][GO][GO][GO][GO][GO][GO][GO][GO][GO][GO\n",
            "/content/drive/MyDrive/project/Kyowon/data/test/TEST_00423.png\t[GO][GO][GO][GO][GO][GO][GO][GO][GO][GO][GO][GO][GO][GO][GO][GO][GO][GO][GO][GO][GO][GO][GO][GO][GO][GO\n",
            "/content/drive/MyDrive/project/Kyowon/data/test/TEST_00424.png\t[GO][GO][GO][GO][GO][GO][GO][GO][GO][GO][GO][GO][GO][GO][GO][GO][GO][GO][GO][GO][GO][GO][GO][GO][GO][GO\n",
            "/content/drive/MyDrive/project/Kyowon/data/test/TEST_00425.png\t[GO][GO][GO][GO][GO][GO][GO][GO][GO][GO][GO][GO][GO][GO][GO][GO][GO][GO][GO][GO][GO][GO][GO][GO][GO][GO\n",
            "/content/drive/MyDrive/project/Kyowon/data/test/TEST_00426.png\t[GO][GO][GO][GO][GO][GO][GO][GO][GO][GO][GO][GO][GO][GO][GO][GO][GO][GO][GO][GO][GO][GO][GO][GO][GO][GO\n",
            "/content/drive/MyDrive/project/Kyowon/data/test/TEST_00427.png\t[GO][GO][GO][GO][GO][GO][GO][GO][GO][GO][GO][GO][GO][GO][GO][GO][GO][GO][GO][GO][GO][GO][GO][GO][GO][GO\n",
            "/content/drive/MyDrive/project/Kyowon/data/test/TEST_00428.png\t[GO][GO][GO][GO][GO][GO][GO][GO][GO][GO][GO][GO][GO][GO][GO][GO][GO][GO][GO][GO][GO][GO][GO][GO][GO][GO\n",
            "/content/drive/MyDrive/project/Kyowon/data/test/TEST_00429.png\t[GO][GO][GO][GO][GO][GO][GO][GO][GO][GO][GO][GO][GO][GO][GO][GO][GO][GO][GO][GO][GO][GO][GO][GO][GO][GO\n",
            "/content/drive/MyDrive/project/Kyowon/data/test/TEST_00430.png\t[GO][GO][GO][GO][GO][GO][GO][GO][GO][GO][GO][GO][GO][GO][GO][GO][GO][GO][GO][GO][GO][GO][GO][GO][GO][GO\n",
            "/content/drive/MyDrive/project/Kyowon/data/test/TEST_00431.png\t[GO][GO][GO][GO][GO][GO][GO][GO][GO][GO][GO][GO][GO][GO][GO][GO][GO][GO][GO][GO][GO][GO][GO][GO][GO][GO\n",
            "/content/drive/MyDrive/project/Kyowon/data/test/TEST_00432.png\t[GO][GO][GO][GO][GO][GO][GO][GO][GO][GO][GO][GO][GO][GO][GO][GO][GO][GO][GO][GO][GO][GO][GO][GO][GO][GO\n",
            "/content/drive/MyDrive/project/Kyowon/data/test/TEST_00433.png\t[GO][GO][GO][GO][GO][GO][GO][GO][GO][GO][GO][GO][GO][GO][GO][GO][GO][GO][GO][GO][GO][GO][GO][GO][GO][GO\n",
            "/content/drive/MyDrive/project/Kyowon/data/test/TEST_00434.png\t[GO][GO][GO][GO][GO][GO][GO][GO][GO][GO][GO][GO][GO][GO][GO][GO][GO][GO][GO][GO][GO][GO][GO][GO][GO][GO\n",
            "/content/drive/MyDrive/project/Kyowon/data/test/TEST_00435.png\t[GO][GO][GO][GO][GO][GO][GO][GO][GO][GO][GO][GO][GO][GO][GO][GO][GO][GO][GO][GO][GO][GO][GO][GO][GO][GO\n",
            "/content/drive/MyDrive/project/Kyowon/data/test/TEST_00436.png\t[GO][GO][GO][GO][GO][GO][GO][GO][GO][GO][GO][GO][GO][GO][GO][GO][GO][GO][GO][GO][GO][GO][GO][GO][GO][GO\n",
            "/content/drive/MyDrive/project/Kyowon/data/test/TEST_00437.png\t[GO][GO][GO][GO][GO][GO][GO][GO][GO][GO][GO][GO][GO][GO][GO][GO][GO][GO][GO][GO][GO][GO][GO][GO][GO][GO\n",
            "/content/drive/MyDrive/project/Kyowon/data/test/TEST_00438.png\t[GO][GO][GO][GO][GO][GO][GO][GO][GO][GO][GO][GO][GO][GO][GO][GO][GO][GO][GO][GO][GO][GO][GO][GO][GO][GO\n",
            "/content/drive/MyDrive/project/Kyowon/data/test/TEST_00439.png\t[GO][GO][GO][GO][GO][GO][GO][GO][GO][GO][GO][GO][GO][GO][GO][GO][GO][GO][GO][GO][GO][GO][GO][GO][GO][GO\n",
            "/content/drive/MyDrive/project/Kyowon/data/test/TEST_00440.png\t[GO][GO][GO][GO][GO][GO][GO][GO][GO][GO][GO][GO][GO][GO][GO][GO][GO][GO][GO][GO][GO][GO][GO][GO][GO][GO\n",
            "/content/drive/MyDrive/project/Kyowon/data/test/TEST_00441.png\t[GO][GO][GO][GO][GO][GO][GO][GO][GO][GO][GO][GO][GO][GO][GO][GO][GO][GO][GO][GO][GO][GO][GO][GO][GO][GO\n",
            "/content/drive/MyDrive/project/Kyowon/data/test/TEST_00442.png\t[GO][GO][GO][GO][GO][GO][GO][GO][GO][GO][GO][GO][GO][GO][GO][GO][GO][GO][GO][GO][GO][GO][GO][GO][GO][GO\n",
            "/content/drive/MyDrive/project/Kyowon/data/test/TEST_00443.png\t[GO][GO][GO][GO][GO][GO][GO][GO][GO][GO][GO][GO][GO][GO][GO][GO][GO][GO][GO][GO][GO][GO][GO][GO][GO][GO\n",
            "/content/drive/MyDrive/project/Kyowon/data/test/TEST_00444.png\t[GO][GO][GO][GO][GO][GO][GO][GO][GO][GO][GO][GO][GO][GO][GO][GO][GO][GO][GO][GO][GO][GO][GO][GO][GO][GO\n",
            "/content/drive/MyDrive/project/Kyowon/data/test/TEST_00445.png\t[GO][GO][GO][GO][GO][GO][GO][GO][GO][GO][GO][GO][GO][GO][GO][GO][GO][GO][GO][GO][GO][GO][GO][GO][GO][GO\n",
            "/content/drive/MyDrive/project/Kyowon/data/test/TEST_00446.png\t[GO][GO][GO][GO][GO][GO][GO][GO][GO][GO][GO][GO][GO][GO][GO][GO][GO][GO][GO][GO][GO][GO][GO][GO][GO][GO\n",
            "/content/drive/MyDrive/project/Kyowon/data/test/TEST_00447.png\t[GO][GO][GO][GO][GO][GO][GO][GO][GO][GO][GO][GO][GO][GO][GO][GO][GO][GO][GO][GO][GO][GO][GO][GO][GO][GO\n",
            "/content/drive/MyDrive/project/Kyowon/data/test/TEST_00448.png\t[GO][GO][GO][GO][GO][GO][GO][GO][GO][GO][GO][GO][GO][GO][GO][GO][GO][GO][GO][GO][GO][GO][GO][GO][GO][GO\n",
            "/content/drive/MyDrive/project/Kyowon/data/test/TEST_00449.png\t[GO][GO][GO][GO][GO][GO][GO][GO][GO][GO][GO][GO][GO][GO][GO][GO][GO][GO][GO][GO][GO][GO][GO][GO][GO][GO\n",
            "/content/drive/MyDrive/project/Kyowon/data/test/TEST_00450.png\t[GO][GO][GO][GO][GO][GO][GO][GO][GO][GO][GO][GO][GO][GO][GO][GO][GO][GO][GO][GO][GO][GO][GO][GO][GO][GO\n",
            "/content/drive/MyDrive/project/Kyowon/data/test/TEST_00451.png\t[GO][GO][GO][GO][GO][GO][GO][GO][GO][GO][GO][GO][GO][GO][GO][GO][GO][GO][GO][GO][GO][GO][GO][GO][GO][GO\n",
            "/content/drive/MyDrive/project/Kyowon/data/test/TEST_00452.png\t[GO][GO][GO][GO][GO][GO][GO][GO][GO][GO][GO][GO][GO][GO][GO][GO][GO][GO][GO][GO][GO][GO][GO][GO][GO][GO\n",
            "/content/drive/MyDrive/project/Kyowon/data/test/TEST_00453.png\t[GO][GO][GO][GO][GO][GO][GO][GO][GO][GO][GO][GO][GO][GO][GO][GO][GO][GO][GO][GO][GO][GO][GO][GO][GO][GO\n",
            "/content/drive/MyDrive/project/Kyowon/data/test/TEST_00454.png\t[GO][GO][GO][GO][GO][GO][GO][GO][GO][GO][GO][GO][GO][GO][GO][GO][GO][GO][GO][GO][GO][GO][GO][GO][GO][GO\n",
            "/content/drive/MyDrive/project/Kyowon/data/test/TEST_00455.png\t[GO][GO][GO][GO][GO][GO][GO][GO][GO][GO][GO][GO][GO][GO][GO][GO][GO][GO][GO][GO][GO][GO][GO][GO][GO][GO\n",
            "/content/drive/MyDrive/project/Kyowon/data/test/TEST_00456.png\t[GO][GO][GO][GO][GO][GO][GO][GO][GO][GO][GO][GO][GO][GO][GO][GO][GO][GO][GO][GO][GO][GO][GO][GO][GO][GO\n",
            "/content/drive/MyDrive/project/Kyowon/data/test/TEST_00457.png\t[GO][GO][GO][GO][GO][GO][GO][GO][GO][GO][GO][GO][GO][GO][GO][GO][GO][GO][GO][GO][GO][GO][GO][GO][GO][GO\n",
            "/content/drive/MyDrive/project/Kyowon/data/test/TEST_00458.png\t[GO][GO][GO][GO][GO][GO][GO][GO][GO][GO][GO][GO][GO][GO][GO][GO][GO][GO][GO][GO][GO][GO][GO][GO][GO][GO\n",
            "/content/drive/MyDrive/project/Kyowon/data/test/TEST_00459.png\t[GO][GO][GO][GO][GO][GO][GO][GO][GO][GO][GO][GO][GO][GO][GO][GO][GO][GO][GO][GO][GO][GO][GO][GO][GO][GO\n",
            "/content/drive/MyDrive/project/Kyowon/data/test/TEST_00460.png\t[GO][GO][GO][GO][GO][GO][GO][GO][GO][GO][GO][GO][GO][GO][GO][GO][GO][GO][GO][GO][GO][GO][GO][GO][GO][GO\n",
            "/content/drive/MyDrive/project/Kyowon/data/test/TEST_00461.png\t[GO][GO][GO][GO][GO][GO][GO][GO][GO][GO][GO][GO][GO][GO][GO][GO][GO][GO][GO][GO][GO][GO][GO][GO][GO][GO\n",
            "/content/drive/MyDrive/project/Kyowon/data/test/TEST_00462.png\t[GO][GO][GO][GO][GO][GO][GO][GO][GO][GO][GO][GO][GO][GO][GO][GO][GO][GO][GO][GO][GO][GO][GO][GO][GO][GO\n",
            "/content/drive/MyDrive/project/Kyowon/data/test/TEST_00463.png\t[GO][GO][GO][GO][GO][GO][GO][GO][GO][GO][GO][GO][GO][GO][GO][GO][GO][GO][GO][GO][GO][GO][GO][GO][GO][GO\n",
            "/content/drive/MyDrive/project/Kyowon/data/test/TEST_00464.png\t[GO][GO][GO][GO][GO][GO][GO][GO][GO][GO][GO][GO][GO][GO][GO][GO][GO][GO][GO][GO][GO][GO][GO][GO][GO][GO\n",
            "/content/drive/MyDrive/project/Kyowon/data/test/TEST_00465.png\t[GO][GO][GO][GO][GO][GO][GO][GO][GO][GO][GO][GO][GO][GO][GO][GO][GO][GO][GO][GO][GO][GO][GO][GO][GO][GO\n",
            "/content/drive/MyDrive/project/Kyowon/data/test/TEST_00466.png\t[GO][GO][GO][GO][GO][GO][GO][GO][GO][GO][GO][GO][GO][GO][GO][GO][GO][GO][GO][GO][GO][GO][GO][GO][GO][GO\n",
            "/content/drive/MyDrive/project/Kyowon/data/test/TEST_00467.png\t[GO][GO][GO][GO][GO][GO][GO][GO][GO][GO][GO][GO][GO][GO][GO][GO][GO][GO][GO][GO][GO][GO][GO][GO][GO][GO\n",
            "/content/drive/MyDrive/project/Kyowon/data/test/TEST_00468.png\t[GO][GO][GO][GO][GO][GO][GO][GO][GO][GO][GO][GO][GO][GO][GO][GO][GO][GO][GO][GO][GO][GO][GO][GO][GO][GO\n",
            "/content/drive/MyDrive/project/Kyowon/data/test/TEST_00469.png\t[GO][GO][GO][GO][GO][GO][GO][GO][GO][GO][GO][GO][GO][GO][GO][GO][GO][GO][GO][GO][GO][GO][GO][GO][GO][GO\n",
            "/content/drive/MyDrive/project/Kyowon/data/test/TEST_00470.png\t[GO][GO][GO][GO][GO][GO][GO][GO][GO][GO][GO][GO][GO][GO][GO][GO][GO][GO][GO][GO][GO][GO][GO][GO][GO][GO\n",
            "/content/drive/MyDrive/project/Kyowon/data/test/TEST_00471.png\t[GO][GO][GO][GO][GO][GO][GO][GO][GO][GO][GO][GO][GO][GO][GO][GO][GO][GO][GO][GO][GO][GO][GO][GO][GO][GO\n",
            "/content/drive/MyDrive/project/Kyowon/data/test/TEST_00472.png\t[GO][GO][GO][GO][GO][GO][GO][GO][GO][GO][GO][GO][GO][GO][GO][GO][GO][GO][GO][GO][GO][GO][GO][GO][GO][GO\n",
            "/content/drive/MyDrive/project/Kyowon/data/test/TEST_00473.png\t[GO][GO][GO][GO][GO][GO][GO][GO][GO][GO][GO][GO][GO][GO][GO][GO][GO][GO][GO][GO][GO][GO][GO][GO][GO][GO\n",
            "/content/drive/MyDrive/project/Kyowon/data/test/TEST_00474.png\t[GO][GO][GO][GO][GO][GO][GO][GO][GO][GO][GO][GO][GO][GO][GO][GO][GO][GO][GO][GO][GO][GO][GO][GO][GO][GO\n",
            "/content/drive/MyDrive/project/Kyowon/data/test/TEST_00475.png\t[GO][GO][GO][GO][GO][GO][GO][GO][GO][GO][GO][GO][GO][GO][GO][GO][GO][GO][GO][GO][GO][GO][GO][GO][GO][GO\n",
            "/content/drive/MyDrive/project/Kyowon/data/test/TEST_00476.png\t[GO][GO][GO][GO][GO][GO][GO][GO][GO][GO][GO][GO][GO][GO][GO][GO][GO][GO][GO][GO][GO][GO][GO][GO][GO][GO\n",
            "/content/drive/MyDrive/project/Kyowon/data/test/TEST_00477.png\t[GO][GO][GO][GO][GO][GO][GO][GO][GO][GO][GO][GO][GO][GO][GO][GO][GO][GO][GO][GO][GO][GO][GO][GO][GO][GO\n",
            "/content/drive/MyDrive/project/Kyowon/data/test/TEST_00478.png\t[GO][GO][GO][GO][GO][GO][GO][GO][GO][GO][GO][GO][GO][GO][GO][GO][GO][GO][GO][GO][GO][GO][GO][GO][GO][GO\n",
            "/content/drive/MyDrive/project/Kyowon/data/test/TEST_00479.png\t[GO][GO][GO][GO][GO][GO][GO][GO][GO][GO][GO][GO][GO][GO][GO][GO][GO][GO][GO][GO][GO][GO][GO][GO][GO][GO\n",
            "/content/drive/MyDrive/project/Kyowon/data/test/TEST_00480.png\t[GO][GO][GO][GO][GO][GO][GO][GO][GO][GO][GO][GO][GO][GO][GO][GO][GO][GO][GO][GO][GO][GO][GO][GO][GO][GO\n",
            "/content/drive/MyDrive/project/Kyowon/data/test/TEST_00481.png\t[GO][GO][GO][GO][GO][GO][GO][GO][GO][GO][GO][GO][GO][GO][GO][GO][GO][GO][GO][GO][GO][GO][GO][GO][GO][GO\n",
            "/content/drive/MyDrive/project/Kyowon/data/test/TEST_00482.png\t[GO][GO][GO][GO][GO][GO][GO][GO][GO][GO][GO][GO][GO][GO][GO][GO][GO][GO][GO][GO][GO][GO][GO][GO][GO][GO\n",
            "/content/drive/MyDrive/project/Kyowon/data/test/TEST_00483.png\t[GO][GO][GO][GO][GO][GO][GO][GO][GO][GO][GO][GO][GO][GO][GO][GO][GO][GO][GO][GO][GO][GO][GO][GO][GO][GO\n",
            "/content/drive/MyDrive/project/Kyowon/data/test/TEST_00484.png\t[GO][GO][GO][GO][GO][GO][GO][GO][GO][GO][GO][GO][GO][GO][GO][GO][GO][GO][GO][GO][GO][GO][GO][GO][GO][GO\n",
            "/content/drive/MyDrive/project/Kyowon/data/test/TEST_00485.png\t[GO][GO][GO][GO][GO][GO][GO][GO][GO][GO][GO][GO][GO][GO][GO][GO][GO][GO][GO][GO][GO][GO][GO][GO][GO][GO\n",
            "/content/drive/MyDrive/project/Kyowon/data/test/TEST_00486.png\t[GO][GO][GO][GO][GO][GO][GO][GO][GO][GO][GO][GO][GO][GO][GO][GO][GO][GO][GO][GO][GO][GO][GO][GO][GO][GO\n",
            "/content/drive/MyDrive/project/Kyowon/data/test/TEST_00487.png\t[GO][GO][GO][GO][GO][GO][GO][GO][GO][GO][GO][GO][GO][GO][GO][GO][GO][GO][GO][GO][GO][GO][GO][GO][GO][GO\n",
            "/content/drive/MyDrive/project/Kyowon/data/test/TEST_00488.png\t[GO][GO][GO][GO][GO][GO][GO][GO][GO][GO][GO][GO][GO][GO][GO][GO][GO][GO][GO][GO][GO][GO][GO][GO][GO][GO\n",
            "/content/drive/MyDrive/project/Kyowon/data/test/TEST_00489.png\t[GO][GO][GO][GO][GO][GO][GO][GO][GO][GO][GO][GO][GO][GO][GO][GO][GO][GO][GO][GO][GO][GO][GO][GO][GO][GO\n",
            "/content/drive/MyDrive/project/Kyowon/data/test/TEST_00490.png\t[GO][GO][GO][GO][GO][GO][GO][GO][GO][GO][GO][GO][GO][GO][GO][GO][GO][GO][GO][GO][GO][GO][GO][GO][GO][GO\n",
            "/content/drive/MyDrive/project/Kyowon/data/test/TEST_00491.png\t[GO][GO][GO][GO][GO][GO][GO][GO][GO][GO][GO][GO][GO][GO][GO][GO][GO][GO][GO][GO][GO][GO][GO][GO][GO][GO\n",
            "/content/drive/MyDrive/project/Kyowon/data/test/TEST_00492.png\t[GO][GO][GO][GO][GO][GO][GO][GO][GO][GO][GO][GO][GO][GO][GO][GO][GO][GO][GO][GO][GO][GO][GO][GO][GO][GO\n",
            "/content/drive/MyDrive/project/Kyowon/data/test/TEST_00493.png\t[GO][GO][GO][GO][GO][GO][GO][GO][GO][GO][GO][GO][GO][GO][GO][GO][GO][GO][GO][GO][GO][GO][GO][GO][GO][GO\n",
            "/content/drive/MyDrive/project/Kyowon/data/test/TEST_00494.png\t[GO][GO][GO][GO][GO][GO][GO][GO][GO][GO][GO][GO][GO][GO][GO][GO][GO][GO][GO][GO][GO][GO][GO][GO][GO][GO\n",
            "/content/drive/MyDrive/project/Kyowon/data/test/TEST_00495.png\t[GO][GO][GO][GO][GO][GO][GO][GO][GO][GO][GO][GO][GO][GO][GO][GO][GO][GO][GO][GO][GO][GO][GO][GO][GO][GO\n",
            "/content/drive/MyDrive/project/Kyowon/data/test/TEST_00496.png\t[GO][GO][GO][GO][GO][GO][GO][GO][GO][GO][GO][GO][GO][GO][GO][GO][GO][GO][GO][GO][GO][GO][GO][GO][GO][GO\n",
            "/content/drive/MyDrive/project/Kyowon/data/test/TEST_00497.png\t[GO][GO][GO][GO][GO][GO][GO][GO][GO][GO][GO][GO][GO][GO][GO][GO][GO][GO][GO][GO][GO][GO][GO][GO][GO][GO\n",
            "/content/drive/MyDrive/project/Kyowon/data/test/TEST_00498.png\t[GO][GO][GO][GO][GO][GO][GO][GO][GO][GO][GO][GO][GO][GO][GO][GO][GO][GO][GO][GO][GO][GO][GO][GO][GO][GO\n",
            "/content/drive/MyDrive/project/Kyowon/data/test/TEST_00499.png\t[GO][GO][GO][GO][GO][GO][GO][GO][GO][GO][GO][GO][GO][GO][GO][GO][GO][GO][GO][GO][GO][GO][GO][GO][GO][GO\n",
            "/content/drive/MyDrive/project/Kyowon/data/test/TEST_00500.png\t[GO][GO][GO][GO][GO][GO][GO][GO][GO][GO][GO][GO][GO][GO][GO][GO][GO][GO][GO][GO][GO][GO][GO][GO][GO][GO\n",
            "/content/drive/MyDrive/project/Kyowon/data/test/TEST_00501.png\t[GO][GO][GO][GO][GO][GO][GO][GO][GO][GO][GO][GO][GO][GO][GO][GO][GO][GO][GO][GO][GO][GO][GO][GO][GO][GO\n",
            "/content/drive/MyDrive/project/Kyowon/data/test/TEST_00502.png\t[GO][GO][GO][GO][GO][GO][GO][GO][GO][GO][GO][GO][GO][GO][GO][GO][GO][GO][GO][GO][GO][GO][GO][GO][GO][GO\n",
            "/content/drive/MyDrive/project/Kyowon/data/test/TEST_00503.png\t[GO][GO][GO][GO][GO][GO][GO][GO][GO][GO][GO][GO][GO][GO][GO][GO][GO][GO][GO][GO][GO][GO][GO][GO][GO][GO\n",
            "/content/drive/MyDrive/project/Kyowon/data/test/TEST_00504.png\t[GO][GO][GO][GO][GO][GO][GO][GO][GO][GO][GO][GO][GO][GO][GO][GO][GO][GO][GO][GO][GO][GO][GO][GO][GO][GO\n",
            "/content/drive/MyDrive/project/Kyowon/data/test/TEST_00505.png\t[GO][GO][GO][GO][GO][GO][GO][GO][GO][GO][GO][GO][GO][GO][GO][GO][GO][GO][GO][GO][GO][GO][GO][GO][GO][GO\n",
            "/content/drive/MyDrive/project/Kyowon/data/test/TEST_00506.png\t[GO][GO][GO][GO][GO][GO][GO][GO][GO][GO][GO][GO][GO][GO][GO][GO][GO][GO][GO][GO][GO][GO][GO][GO][GO][GO\n",
            "/content/drive/MyDrive/project/Kyowon/data/test/TEST_00507.png\t[GO][GO][GO][GO][GO][GO][GO][GO][GO][GO][GO][GO][GO][GO][GO][GO][GO][GO][GO][GO][GO][GO][GO][GO][GO][GO\n",
            "/content/drive/MyDrive/project/Kyowon/data/test/TEST_00508.png\t[GO][GO][GO][GO][GO][GO][GO][GO][GO][GO][GO][GO][GO][GO][GO][GO][GO][GO][GO][GO][GO][GO][GO][GO][GO][GO\n",
            "/content/drive/MyDrive/project/Kyowon/data/test/TEST_00509.png\t[GO][GO][GO][GO][GO][GO][GO][GO][GO][GO][GO][GO][GO][GO][GO][GO][GO][GO][GO][GO][GO][GO][GO][GO][GO][GO\n",
            "/content/drive/MyDrive/project/Kyowon/data/test/TEST_00510.png\t[GO][GO][GO][GO][GO][GO][GO][GO][GO][GO][GO][GO][GO][GO][GO][GO][GO][GO][GO][GO][GO][GO][GO][GO][GO][GO\n",
            "/content/drive/MyDrive/project/Kyowon/data/test/TEST_00511.png\t[GO][GO][GO][GO][GO][GO][GO][GO][GO][GO][GO][GO][GO][GO][GO][GO][GO][GO][GO][GO][GO][GO][GO][GO][GO][GO\n",
            "/content/drive/MyDrive/project/Kyowon/data/test/TEST_00512.png\t[GO][GO][GO][GO][GO][GO][GO][GO][GO][GO][GO][GO][GO][GO][GO][GO][GO][GO][GO][GO][GO][GO][GO][GO][GO][GO\n",
            "/content/drive/MyDrive/project/Kyowon/data/test/TEST_00513.png\t[GO][GO][GO][GO][GO][GO][GO][GO][GO][GO][GO][GO][GO][GO][GO][GO][GO][GO][GO][GO][GO][GO][GO][GO][GO][GO\n",
            "/content/drive/MyDrive/project/Kyowon/data/test/TEST_00514.png\t[GO][GO][GO][GO][GO][GO][GO][GO][GO][GO][GO][GO][GO][GO][GO][GO][GO][GO][GO][GO][GO][GO][GO][GO][GO][GO\n",
            "/content/drive/MyDrive/project/Kyowon/data/test/TEST_00515.png\t[GO][GO][GO][GO][GO][GO][GO][GO][GO][GO][GO][GO][GO][GO][GO][GO][GO][GO][GO][GO][GO][GO][GO][GO][GO][GO\n",
            "/content/drive/MyDrive/project/Kyowon/data/test/TEST_00516.png\t[GO][GO][GO][GO][GO][GO][GO][GO][GO][GO][GO][GO][GO][GO][GO][GO][GO][GO][GO][GO][GO][GO][GO][GO][GO][GO\n",
            "/content/drive/MyDrive/project/Kyowon/data/test/TEST_00517.png\t[GO][GO][GO][GO][GO][GO][GO][GO][GO][GO][GO][GO][GO][GO][GO][GO][GO][GO][GO][GO][GO][GO][GO][GO][GO][GO\n",
            "/content/drive/MyDrive/project/Kyowon/data/test/TEST_00518.png\t[GO][GO][GO][GO][GO][GO][GO][GO][GO][GO][GO][GO][GO][GO][GO][GO][GO][GO][GO][GO][GO][GO][GO][GO][GO][GO\n",
            "/content/drive/MyDrive/project/Kyowon/data/test/TEST_00519.png\t[GO][GO][GO][GO][GO][GO][GO][GO][GO][GO][GO][GO][GO][GO][GO][GO][GO][GO][GO][GO][GO][GO][GO][GO][GO][GO\n",
            "/content/drive/MyDrive/project/Kyowon/data/test/TEST_00520.png\t[GO][GO][GO][GO][GO][GO][GO][GO][GO][GO][GO][GO][GO][GO][GO][GO][GO][GO][GO][GO][GO][GO][GO][GO][GO][GO\n",
            "/content/drive/MyDrive/project/Kyowon/data/test/TEST_00521.png\t[GO][GO][GO][GO][GO][GO][GO][GO][GO][GO][GO][GO][GO][GO][GO][GO][GO][GO][GO][GO][GO][GO][GO][GO][GO][GO\n",
            "/content/drive/MyDrive/project/Kyowon/data/test/TEST_00522.png\t[GO][GO][GO][GO][GO][GO][GO][GO][GO][GO][GO][GO][GO][GO][GO][GO][GO][GO][GO][GO][GO][GO][GO][GO][GO][GO\n",
            "/content/drive/MyDrive/project/Kyowon/data/test/TEST_00523.png\t[GO][GO][GO][GO][GO][GO][GO][GO][GO][GO][GO][GO][GO][GO][GO][GO][GO][GO][GO][GO][GO][GO][GO][GO][GO][GO\n",
            "/content/drive/MyDrive/project/Kyowon/data/test/TEST_00524.png\t[GO][GO][GO][GO][GO][GO][GO][GO][GO][GO][GO][GO][GO][GO][GO][GO][GO][GO][GO][GO][GO][GO][GO][GO][GO][GO\n",
            "/content/drive/MyDrive/project/Kyowon/data/test/TEST_00525.png\t[GO][GO][GO][GO][GO][GO][GO][GO][GO][GO][GO][GO][GO][GO][GO][GO][GO][GO][GO][GO][GO][GO][GO][GO][GO][GO\n",
            "/content/drive/MyDrive/project/Kyowon/data/test/TEST_00526.png\t[GO][GO][GO][GO][GO][GO][GO][GO][GO][GO][GO][GO][GO][GO][GO][GO][GO][GO][GO][GO][GO][GO][GO][GO][GO][GO\n",
            "/content/drive/MyDrive/project/Kyowon/data/test/TEST_00527.png\t[GO][GO][GO][GO][GO][GO][GO][GO][GO][GO][GO][GO][GO][GO][GO][GO][GO][GO][GO][GO][GO][GO][GO][GO][GO][GO\n",
            "/content/drive/MyDrive/project/Kyowon/data/test/TEST_00528.png\t[GO][GO][GO][GO][GO][GO][GO][GO][GO][GO][GO][GO][GO][GO][GO][GO][GO][GO][GO][GO][GO][GO][GO][GO][GO][GO\n",
            "/content/drive/MyDrive/project/Kyowon/data/test/TEST_00529.png\t[GO][GO][GO][GO][GO][GO][GO][GO][GO][GO][GO][GO][GO][GO][GO][GO][GO][GO][GO][GO][GO][GO][GO][GO][GO][GO\n",
            "/content/drive/MyDrive/project/Kyowon/data/test/TEST_00530.png\t[GO][GO][GO][GO][GO][GO][GO][GO][GO][GO][GO][GO][GO][GO][GO][GO][GO][GO][GO][GO][GO][GO][GO][GO][GO][GO\n",
            "/content/drive/MyDrive/project/Kyowon/data/test/TEST_00531.png\t[GO][GO][GO][GO][GO][GO][GO][GO][GO][GO][GO][GO][GO][GO][GO][GO][GO][GO][GO][GO][GO][GO][GO][GO][GO][GO\n",
            "/content/drive/MyDrive/project/Kyowon/data/test/TEST_00532.png\t[GO][GO][GO][GO][GO][GO][GO][GO][GO][GO][GO][GO][GO][GO][GO][GO][GO][GO][GO][GO][GO][GO][GO][GO][GO][GO\n",
            "/content/drive/MyDrive/project/Kyowon/data/test/TEST_00533.png\t[GO][GO][GO][GO][GO][GO][GO][GO][GO][GO][GO][GO][GO][GO][GO][GO][GO][GO][GO][GO][GO][GO][GO][GO][GO][GO\n",
            "/content/drive/MyDrive/project/Kyowon/data/test/TEST_00534.png\t[GO][GO][GO][GO][GO][GO][GO][GO][GO][GO][GO][GO][GO][GO][GO][GO][GO][GO][GO][GO][GO][GO][GO][GO][GO][GO\n",
            "/content/drive/MyDrive/project/Kyowon/data/test/TEST_00535.png\t[GO][GO][GO][GO][GO][GO][GO][GO][GO][GO][GO][GO][GO][GO][GO][GO][GO][GO][GO][GO][GO][GO][GO][GO][GO][GO\n",
            "/content/drive/MyDrive/project/Kyowon/data/test/TEST_00536.png\t[GO][GO][GO][GO][GO][GO][GO][GO][GO][GO][GO][GO][GO][GO][GO][GO][GO][GO][GO][GO][GO][GO][GO][GO][GO][GO\n",
            "/content/drive/MyDrive/project/Kyowon/data/test/TEST_00537.png\t[GO][GO][GO][GO][GO][GO][GO][GO][GO][GO][GO][GO][GO][GO][GO][GO][GO][GO][GO][GO][GO][GO][GO][GO][GO][GO\n",
            "/content/drive/MyDrive/project/Kyowon/data/test/TEST_00538.png\t[GO][GO][GO][GO][GO][GO][GO][GO][GO][GO][GO][GO][GO][GO][GO][GO][GO][GO][GO][GO][GO][GO][GO][GO][GO][GO\n",
            "/content/drive/MyDrive/project/Kyowon/data/test/TEST_00539.png\t[GO][GO][GO][GO][GO][GO][GO][GO][GO][GO][GO][GO][GO][GO][GO][GO][GO][GO][GO][GO][GO][GO][GO][GO][GO][GO\n",
            "/content/drive/MyDrive/project/Kyowon/data/test/TEST_00540.png\t[GO][GO][GO][GO][GO][GO][GO][GO][GO][GO][GO][GO][GO][GO][GO][GO][GO][GO][GO][GO][GO][GO][GO][GO][GO][GO\n",
            "/content/drive/MyDrive/project/Kyowon/data/test/TEST_00541.png\t[GO][GO][GO][GO][GO][GO][GO][GO][GO][GO][GO][GO][GO][GO][GO][GO][GO][GO][GO][GO][GO][GO][GO][GO][GO][GO\n",
            "/content/drive/MyDrive/project/Kyowon/data/test/TEST_00542.png\t[GO][GO][GO][GO][GO][GO][GO][GO][GO][GO][GO][GO][GO][GO][GO][GO][GO][GO][GO][GO][GO][GO][GO][GO][GO][GO\n",
            "/content/drive/MyDrive/project/Kyowon/data/test/TEST_00543.png\t[GO][GO][GO][GO][GO][GO][GO][GO][GO][GO][GO][GO][GO][GO][GO][GO][GO][GO][GO][GO][GO][GO][GO][GO][GO][GO\n",
            "/content/drive/MyDrive/project/Kyowon/data/test/TEST_00544.png\t[GO][GO][GO][GO][GO][GO][GO][GO][GO][GO][GO][GO][GO][GO][GO][GO][GO][GO][GO][GO][GO][GO][GO][GO][GO][GO\n",
            "/content/drive/MyDrive/project/Kyowon/data/test/TEST_00545.png\t[GO][GO][GO][GO][GO][GO][GO][GO][GO][GO][GO][GO][GO][GO][GO][GO][GO][GO][GO][GO][GO][GO][GO][GO][GO][GO\n",
            "/content/drive/MyDrive/project/Kyowon/data/test/TEST_00546.png\t[GO][GO][GO][GO][GO][GO][GO][GO][GO][GO][GO][GO][GO][GO][GO][GO][GO][GO][GO][GO][GO][GO][GO][GO][GO][GO\n",
            "/content/drive/MyDrive/project/Kyowon/data/test/TEST_00547.png\t[GO][GO][GO][GO][GO][GO][GO][GO][GO][GO][GO][GO][GO][GO][GO][GO][GO][GO][GO][GO][GO][GO][GO][GO][GO][GO\n",
            "/content/drive/MyDrive/project/Kyowon/data/test/TEST_00548.png\t[GO][GO][GO][GO][GO][GO][GO][GO][GO][GO][GO][GO][GO][GO][GO][GO][GO][GO][GO][GO][GO][GO][GO][GO][GO][GO\n",
            "/content/drive/MyDrive/project/Kyowon/data/test/TEST_00549.png\t[GO][GO][GO][GO][GO][GO][GO][GO][GO][GO][GO][GO][GO][GO][GO][GO][GO][GO][GO][GO][GO][GO][GO][GO][GO][GO\n",
            "/content/drive/MyDrive/project/Kyowon/data/test/TEST_00550.png\t[GO][GO][GO][GO][GO][GO][GO][GO][GO][GO][GO][GO][GO][GO][GO][GO][GO][GO][GO][GO][GO][GO][GO][GO][GO][GO\n",
            "/content/drive/MyDrive/project/Kyowon/data/test/TEST_00551.png\t[GO][GO][GO][GO][GO][GO][GO][GO][GO][GO][GO][GO][GO][GO][GO][GO][GO][GO][GO][GO][GO][GO][GO][GO][GO][GO\n",
            "/content/drive/MyDrive/project/Kyowon/data/test/TEST_00552.png\t[GO][GO][GO][GO][GO][GO][GO][GO][GO][GO][GO][GO][GO][GO][GO][GO][GO][GO][GO][GO][GO][GO][GO][GO][GO][GO\n",
            "/content/drive/MyDrive/project/Kyowon/data/test/TEST_00553.png\t[GO][GO][GO][GO][GO][GO][GO][GO][GO][GO][GO][GO][GO][GO][GO][GO][GO][GO][GO][GO][GO][GO][GO][GO][GO][GO\n",
            "/content/drive/MyDrive/project/Kyowon/data/test/TEST_00554.png\t[GO][GO][GO][GO][GO][GO][GO][GO][GO][GO][GO][GO][GO][GO][GO][GO][GO][GO][GO][GO][GO][GO][GO][GO][GO][GO\n",
            "/content/drive/MyDrive/project/Kyowon/data/test/TEST_00555.png\t[GO][GO][GO][GO][GO][GO][GO][GO][GO][GO][GO][GO][GO][GO][GO][GO][GO][GO][GO][GO][GO][GO][GO][GO][GO][GO\n",
            "/content/drive/MyDrive/project/Kyowon/data/test/TEST_00556.png\t[GO][GO][GO][GO][GO][GO][GO][GO][GO][GO][GO][GO][GO][GO][GO][GO][GO][GO][GO][GO][GO][GO][GO][GO][GO][GO\n",
            "/content/drive/MyDrive/project/Kyowon/data/test/TEST_00557.png\t[GO][GO][GO][GO][GO][GO][GO][GO][GO][GO][GO][GO][GO][GO][GO][GO][GO][GO][GO][GO][GO][GO][GO][GO][GO][GO\n",
            "/content/drive/MyDrive/project/Kyowon/data/test/TEST_00558.png\t[GO][GO][GO][GO][GO][GO][GO][GO][GO][GO][GO][GO][GO][GO][GO][GO][GO][GO][GO][GO][GO][GO][GO][GO][GO][GO\n",
            "/content/drive/MyDrive/project/Kyowon/data/test/TEST_00559.png\t[GO][GO][GO][GO][GO][GO][GO][GO][GO][GO][GO][GO][GO][GO][GO][GO][GO][GO][GO][GO][GO][GO][GO][GO][GO][GO\n",
            "/content/drive/MyDrive/project/Kyowon/data/test/TEST_00560.png\t[GO][GO][GO][GO][GO][GO][GO][GO][GO][GO][GO][GO][GO][GO][GO][GO][GO][GO][GO][GO][GO][GO][GO][GO][GO][GO\n",
            "/content/drive/MyDrive/project/Kyowon/data/test/TEST_00561.png\t[GO][GO][GO][GO][GO][GO][GO][GO][GO][GO][GO][GO][GO][GO][GO][GO][GO][GO][GO][GO][GO][GO][GO][GO][GO][GO\n",
            "/content/drive/MyDrive/project/Kyowon/data/test/TEST_00562.png\t[GO][GO][GO][GO][GO][GO][GO][GO][GO][GO][GO][GO][GO][GO][GO][GO][GO][GO][GO][GO][GO][GO][GO][GO][GO][GO\n",
            "/content/drive/MyDrive/project/Kyowon/data/test/TEST_00563.png\t[GO][GO][GO][GO][GO][GO][GO][GO][GO][GO][GO][GO][GO][GO][GO][GO][GO][GO][GO][GO][GO][GO][GO][GO][GO][GO\n",
            "/content/drive/MyDrive/project/Kyowon/data/test/TEST_00564.png\t[GO][GO][GO][GO][GO][GO][GO][GO][GO][GO][GO][GO][GO][GO][GO][GO][GO][GO][GO][GO][GO][GO][GO][GO][GO][GO\n",
            "/content/drive/MyDrive/project/Kyowon/data/test/TEST_00565.png\t[GO][GO][GO][GO][GO][GO][GO][GO][GO][GO][GO][GO][GO][GO][GO][GO][GO][GO][GO][GO][GO][GO][GO][GO][GO][GO\n",
            "/content/drive/MyDrive/project/Kyowon/data/test/TEST_00566.png\t[GO][GO][GO][GO][GO][GO][GO][GO][GO][GO][GO][GO][GO][GO][GO][GO][GO][GO][GO][GO][GO][GO][GO][GO][GO][GO\n",
            "/content/drive/MyDrive/project/Kyowon/data/test/TEST_00567.png\t[GO][GO][GO][GO][GO][GO][GO][GO][GO][GO][GO][GO][GO][GO][GO][GO][GO][GO][GO][GO][GO][GO][GO][GO][GO][GO\n",
            "/content/drive/MyDrive/project/Kyowon/data/test/TEST_00568.png\t[GO][GO][GO][GO][GO][GO][GO][GO][GO][GO][GO][GO][GO][GO][GO][GO][GO][GO][GO][GO][GO][GO][GO][GO][GO][GO\n",
            "/content/drive/MyDrive/project/Kyowon/data/test/TEST_00569.png\t[GO][GO][GO][GO][GO][GO][GO][GO][GO][GO][GO][GO][GO][GO][GO][GO][GO][GO][GO][GO][GO][GO][GO][GO][GO][GO\n",
            "/content/drive/MyDrive/project/Kyowon/data/test/TEST_00570.png\t[GO][GO][GO][GO][GO][GO][GO][GO][GO][GO][GO][GO][GO][GO][GO][GO][GO][GO][GO][GO][GO][GO][GO][GO][GO][GO\n",
            "/content/drive/MyDrive/project/Kyowon/data/test/TEST_00571.png\t[GO][GO][GO][GO][GO][GO][GO][GO][GO][GO][GO][GO][GO][GO][GO][GO][GO][GO][GO][GO][GO][GO][GO][GO][GO][GO\n",
            "/content/drive/MyDrive/project/Kyowon/data/test/TEST_00572.png\t[GO][GO][GO][GO][GO][GO][GO][GO][GO][GO][GO][GO][GO][GO][GO][GO][GO][GO][GO][GO][GO][GO][GO][GO][GO][GO\n",
            "/content/drive/MyDrive/project/Kyowon/data/test/TEST_00573.png\t[GO][GO][GO][GO][GO][GO][GO][GO][GO][GO][GO][GO][GO][GO][GO][GO][GO][GO][GO][GO][GO][GO][GO][GO][GO][GO\n",
            "/content/drive/MyDrive/project/Kyowon/data/test/TEST_00574.png\t[GO][GO][GO][GO][GO][GO][GO][GO][GO][GO][GO][GO][GO][GO][GO][GO][GO][GO][GO][GO][GO][GO][GO][GO][GO][GO\n",
            "/content/drive/MyDrive/project/Kyowon/data/test/TEST_00575.png\t[GO][GO][GO][GO][GO][GO][GO][GO][GO][GO][GO][GO][GO][GO][GO][GO][GO][GO][GO][GO][GO][GO][GO][GO][GO][GO\n",
            "123123123\n",
            "--------------------------------------------------------------------------------\n",
            "image_path               \tpredicted_labels         \tconfidence score\n",
            "--------------------------------------------------------------------------------\n",
            "/content/drive/MyDrive/project/Kyowon/data/test/TEST_00576.png\t[GO][GO][GO][GO][GO][GO][GO][GO][GO][GO][GO][GO][GO][GO][GO][GO][GO][GO][GO][GO][GO][GO][GO][GO][GO][GO\n",
            "/content/drive/MyDrive/project/Kyowon/data/test/TEST_00577.png\t[GO][GO][GO][GO][GO][GO][GO][GO][GO][GO][GO][GO][GO][GO][GO][GO][GO][GO][GO][GO][GO][GO][GO][GO][GO][GO\n",
            "/content/drive/MyDrive/project/Kyowon/data/test/TEST_00578.png\t[GO][GO][GO][GO][GO][GO][GO][GO][GO][GO][GO][GO][GO][GO][GO][GO][GO][GO][GO][GO][GO][GO][GO][GO][GO][GO\n",
            "/content/drive/MyDrive/project/Kyowon/data/test/TEST_00579.png\t[GO][GO][GO][GO][GO][GO][GO][GO][GO][GO][GO][GO][GO][GO][GO][GO][GO][GO][GO][GO][GO][GO][GO][GO][GO][GO\n",
            "/content/drive/MyDrive/project/Kyowon/data/test/TEST_00580.png\t[GO][GO][GO][GO][GO][GO][GO][GO][GO][GO][GO][GO][GO][GO][GO][GO][GO][GO][GO][GO][GO][GO][GO][GO][GO][GO\n",
            "/content/drive/MyDrive/project/Kyowon/data/test/TEST_00581.png\t[GO][GO][GO][GO][GO][GO][GO][GO][GO][GO][GO][GO][GO][GO][GO][GO][GO][GO][GO][GO][GO][GO][GO][GO][GO][GO\n",
            "/content/drive/MyDrive/project/Kyowon/data/test/TEST_00582.png\t[GO][GO][GO][GO][GO][GO][GO][GO][GO][GO][GO][GO][GO][GO][GO][GO][GO][GO][GO][GO][GO][GO][GO][GO][GO][GO\n",
            "/content/drive/MyDrive/project/Kyowon/data/test/TEST_00583.png\t[GO][GO][GO][GO][GO][GO][GO][GO][GO][GO][GO][GO][GO][GO][GO][GO][GO][GO][GO][GO][GO][GO][GO][GO][GO][GO\n",
            "/content/drive/MyDrive/project/Kyowon/data/test/TEST_00584.png\t[GO][GO][GO][GO][GO][GO][GO][GO][GO][GO][GO][GO][GO][GO][GO][GO][GO][GO][GO][GO][GO][GO][GO][GO][GO][GO\n",
            "/content/drive/MyDrive/project/Kyowon/data/test/TEST_00585.png\t[GO][GO][GO][GO][GO][GO][GO][GO][GO][GO][GO][GO][GO][GO][GO][GO][GO][GO][GO][GO][GO][GO][GO][GO][GO][GO\n",
            "/content/drive/MyDrive/project/Kyowon/data/test/TEST_00586.png\t[GO][GO][GO][GO][GO][GO][GO][GO][GO][GO][GO][GO][GO][GO][GO][GO][GO][GO][GO][GO][GO][GO][GO][GO][GO][GO\n",
            "/content/drive/MyDrive/project/Kyowon/data/test/TEST_00587.png\t[GO][GO][GO][GO][GO][GO][GO][GO][GO][GO][GO][GO][GO][GO][GO][GO][GO][GO][GO][GO][GO][GO][GO][GO][GO][GO\n",
            "/content/drive/MyDrive/project/Kyowon/data/test/TEST_00588.png\t[GO][GO][GO][GO][GO][GO][GO][GO][GO][GO][GO][GO][GO][GO][GO][GO][GO][GO][GO][GO][GO][GO][GO][GO][GO][GO\n",
            "/content/drive/MyDrive/project/Kyowon/data/test/TEST_00589.png\t[GO][GO][GO][GO][GO][GO][GO][GO][GO][GO][GO][GO][GO][GO][GO][GO][GO][GO][GO][GO][GO][GO][GO][GO][GO][GO\n",
            "/content/drive/MyDrive/project/Kyowon/data/test/TEST_00590.png\t[GO][GO][GO][GO][GO][GO][GO][GO][GO][GO][GO][GO][GO][GO][GO][GO][GO][GO][GO][GO][GO][GO][GO][GO][GO][GO\n",
            "/content/drive/MyDrive/project/Kyowon/data/test/TEST_00591.png\t[GO][GO][GO][GO][GO][GO][GO][GO][GO][GO][GO][GO][GO][GO][GO][GO][GO][GO][GO][GO][GO][GO][GO][GO][GO][GO\n",
            "/content/drive/MyDrive/project/Kyowon/data/test/TEST_00592.png\t[GO][GO][GO][GO][GO][GO][GO][GO][GO][GO][GO][GO][GO][GO][GO][GO][GO][GO][GO][GO][GO][GO][GO][GO][GO][GO\n",
            "/content/drive/MyDrive/project/Kyowon/data/test/TEST_00593.png\t[GO][GO][GO][GO][GO][GO][GO][GO][GO][GO][GO][GO][GO][GO][GO][GO][GO][GO][GO][GO][GO][GO][GO][GO][GO][GO\n",
            "/content/drive/MyDrive/project/Kyowon/data/test/TEST_00594.png\t[GO][GO][GO][GO][GO][GO][GO][GO][GO][GO][GO][GO][GO][GO][GO][GO][GO][GO][GO][GO][GO][GO][GO][GO][GO][GO\n",
            "/content/drive/MyDrive/project/Kyowon/data/test/TEST_00595.png\t[GO][GO][GO][GO][GO][GO][GO][GO][GO][GO][GO][GO][GO][GO][GO][GO][GO][GO][GO][GO][GO][GO][GO][GO][GO][GO\n",
            "/content/drive/MyDrive/project/Kyowon/data/test/TEST_00596.png\t[GO][GO][GO][GO][GO][GO][GO][GO][GO][GO][GO][GO][GO][GO][GO][GO][GO][GO][GO][GO][GO][GO][GO][GO][GO][GO\n",
            "/content/drive/MyDrive/project/Kyowon/data/test/TEST_00597.png\t[GO][GO][GO][GO][GO][GO][GO][GO][GO][GO][GO][GO][GO][GO][GO][GO][GO][GO][GO][GO][GO][GO][GO][GO][GO][GO\n",
            "/content/drive/MyDrive/project/Kyowon/data/test/TEST_00598.png\t[GO][GO][GO][GO][GO][GO][GO][GO][GO][GO][GO][GO][GO][GO][GO][GO][GO][GO][GO][GO][GO][GO][GO][GO][GO][GO\n",
            "/content/drive/MyDrive/project/Kyowon/data/test/TEST_00599.png\t[GO][GO][GO][GO][GO][GO][GO][GO][GO][GO][GO][GO][GO][GO][GO][GO][GO][GO][GO][GO][GO][GO][GO][GO][GO][GO\n",
            "/content/drive/MyDrive/project/Kyowon/data/test/TEST_00600.png\t[GO][GO][GO][GO][GO][GO][GO][GO][GO][GO][GO][GO][GO][GO][GO][GO][GO][GO][GO][GO][GO][GO][GO][GO][GO][GO\n",
            "/content/drive/MyDrive/project/Kyowon/data/test/TEST_00601.png\t[GO][GO][GO][GO][GO][GO][GO][GO][GO][GO][GO][GO][GO][GO][GO][GO][GO][GO][GO][GO][GO][GO][GO][GO][GO][GO\n",
            "/content/drive/MyDrive/project/Kyowon/data/test/TEST_00602.png\t[GO][GO][GO][GO][GO][GO][GO][GO][GO][GO][GO][GO][GO][GO][GO][GO][GO][GO][GO][GO][GO][GO][GO][GO][GO][GO\n",
            "/content/drive/MyDrive/project/Kyowon/data/test/TEST_00603.png\t[GO][GO][GO][GO][GO][GO][GO][GO][GO][GO][GO][GO][GO][GO][GO][GO][GO][GO][GO][GO][GO][GO][GO][GO][GO][GO\n",
            "/content/drive/MyDrive/project/Kyowon/data/test/TEST_00604.png\t[GO][GO][GO][GO][GO][GO][GO][GO][GO][GO][GO][GO][GO][GO][GO][GO][GO][GO][GO][GO][GO][GO][GO][GO][GO][GO\n",
            "/content/drive/MyDrive/project/Kyowon/data/test/TEST_00605.png\t[GO][GO][GO][GO][GO][GO][GO][GO][GO][GO][GO][GO][GO][GO][GO][GO][GO][GO][GO][GO][GO][GO][GO][GO][GO][GO\n",
            "/content/drive/MyDrive/project/Kyowon/data/test/TEST_00606.png\t[GO][GO][GO][GO][GO][GO][GO][GO][GO][GO][GO][GO][GO][GO][GO][GO][GO][GO][GO][GO][GO][GO][GO][GO][GO][GO\n",
            "/content/drive/MyDrive/project/Kyowon/data/test/TEST_00607.png\t[GO][GO][GO][GO][GO][GO][GO][GO][GO][GO][GO][GO][GO][GO][GO][GO][GO][GO][GO][GO][GO][GO][GO][GO][GO][GO\n",
            "/content/drive/MyDrive/project/Kyowon/data/test/TEST_00608.png\t[GO][GO][GO][GO][GO][GO][GO][GO][GO][GO][GO][GO][GO][GO][GO][GO][GO][GO][GO][GO][GO][GO][GO][GO][GO][GO\n",
            "/content/drive/MyDrive/project/Kyowon/data/test/TEST_00609.png\t[GO][GO][GO][GO][GO][GO][GO][GO][GO][GO][GO][GO][GO][GO][GO][GO][GO][GO][GO][GO][GO][GO][GO][GO][GO][GO\n",
            "/content/drive/MyDrive/project/Kyowon/data/test/TEST_00610.png\t[GO][GO][GO][GO][GO][GO][GO][GO][GO][GO][GO][GO][GO][GO][GO][GO][GO][GO][GO][GO][GO][GO][GO][GO][GO][GO\n",
            "/content/drive/MyDrive/project/Kyowon/data/test/TEST_00611.png\t[GO][GO][GO][GO][GO][GO][GO][GO][GO][GO][GO][GO][GO][GO][GO][GO][GO][GO][GO][GO][GO][GO][GO][GO][GO][GO\n",
            "/content/drive/MyDrive/project/Kyowon/data/test/TEST_00612.png\t[GO][GO][GO][GO][GO][GO][GO][GO][GO][GO][GO][GO][GO][GO][GO][GO][GO][GO][GO][GO][GO][GO][GO][GO][GO][GO\n",
            "/content/drive/MyDrive/project/Kyowon/data/test/TEST_00613.png\t[GO][GO][GO][GO][GO][GO][GO][GO][GO][GO][GO][GO][GO][GO][GO][GO][GO][GO][GO][GO][GO][GO][GO][GO][GO][GO\n",
            "/content/drive/MyDrive/project/Kyowon/data/test/TEST_00614.png\t[GO][GO][GO][GO][GO][GO][GO][GO][GO][GO][GO][GO][GO][GO][GO][GO][GO][GO][GO][GO][GO][GO][GO][GO][GO][GO\n",
            "/content/drive/MyDrive/project/Kyowon/data/test/TEST_00615.png\t[GO][GO][GO][GO][GO][GO][GO][GO][GO][GO][GO][GO][GO][GO][GO][GO][GO][GO][GO][GO][GO][GO][GO][GO][GO][GO\n",
            "/content/drive/MyDrive/project/Kyowon/data/test/TEST_00616.png\t[GO][GO][GO][GO][GO][GO][GO][GO][GO][GO][GO][GO][GO][GO][GO][GO][GO][GO][GO][GO][GO][GO][GO][GO][GO][GO\n",
            "/content/drive/MyDrive/project/Kyowon/data/test/TEST_00617.png\t[GO][GO][GO][GO][GO][GO][GO][GO][GO][GO][GO][GO][GO][GO][GO][GO][GO][GO][GO][GO][GO][GO][GO][GO][GO][GO\n",
            "/content/drive/MyDrive/project/Kyowon/data/test/TEST_00618.png\t[GO][GO][GO][GO][GO][GO][GO][GO][GO][GO][GO][GO][GO][GO][GO][GO][GO][GO][GO][GO][GO][GO][GO][GO][GO][GO\n",
            "/content/drive/MyDrive/project/Kyowon/data/test/TEST_00619.png\t[GO][GO][GO][GO][GO][GO][GO][GO][GO][GO][GO][GO][GO][GO][GO][GO][GO][GO][GO][GO][GO][GO][GO][GO][GO][GO\n",
            "/content/drive/MyDrive/project/Kyowon/data/test/TEST_00620.png\t[GO][GO][GO][GO][GO][GO][GO][GO][GO][GO][GO][GO][GO][GO][GO][GO][GO][GO][GO][GO][GO][GO][GO][GO][GO][GO\n",
            "/content/drive/MyDrive/project/Kyowon/data/test/TEST_00621.png\t[GO][GO][GO][GO][GO][GO][GO][GO][GO][GO][GO][GO][GO][GO][GO][GO][GO][GO][GO][GO][GO][GO][GO][GO][GO][GO\n",
            "/content/drive/MyDrive/project/Kyowon/data/test/TEST_00622.png\t[GO][GO][GO][GO][GO][GO][GO][GO][GO][GO][GO][GO][GO][GO][GO][GO][GO][GO][GO][GO][GO][GO][GO][GO][GO][GO\n",
            "/content/drive/MyDrive/project/Kyowon/data/test/TEST_00623.png\t[GO][GO][GO][GO][GO][GO][GO][GO][GO][GO][GO][GO][GO][GO][GO][GO][GO][GO][GO][GO][GO][GO][GO][GO][GO][GO\n",
            "/content/drive/MyDrive/project/Kyowon/data/test/TEST_00624.png\t[GO][GO][GO][GO][GO][GO][GO][GO][GO][GO][GO][GO][GO][GO][GO][GO][GO][GO][GO][GO][GO][GO][GO][GO][GO][GO\n",
            "/content/drive/MyDrive/project/Kyowon/data/test/TEST_00625.png\t[GO][GO][GO][GO][GO][GO][GO][GO][GO][GO][GO][GO][GO][GO][GO][GO][GO][GO][GO][GO][GO][GO][GO][GO][GO][GO\n",
            "/content/drive/MyDrive/project/Kyowon/data/test/TEST_00626.png\t[GO][GO][GO][GO][GO][GO][GO][GO][GO][GO][GO][GO][GO][GO][GO][GO][GO][GO][GO][GO][GO][GO][GO][GO][GO][GO\n",
            "/content/drive/MyDrive/project/Kyowon/data/test/TEST_00627.png\t[GO][GO][GO][GO][GO][GO][GO][GO][GO][GO][GO][GO][GO][GO][GO][GO][GO][GO][GO][GO][GO][GO][GO][GO][GO][GO\n",
            "/content/drive/MyDrive/project/Kyowon/data/test/TEST_00628.png\t[GO][GO][GO][GO][GO][GO][GO][GO][GO][GO][GO][GO][GO][GO][GO][GO][GO][GO][GO][GO][GO][GO][GO][GO][GO][GO\n",
            "/content/drive/MyDrive/project/Kyowon/data/test/TEST_00629.png\t[GO][GO][GO][GO][GO][GO][GO][GO][GO][GO][GO][GO][GO][GO][GO][GO][GO][GO][GO][GO][GO][GO][GO][GO][GO][GO\n",
            "/content/drive/MyDrive/project/Kyowon/data/test/TEST_00630.png\t[GO][GO][GO][GO][GO][GO][GO][GO][GO][GO][GO][GO][GO][GO][GO][GO][GO][GO][GO][GO][GO][GO][GO][GO][GO][GO\n",
            "/content/drive/MyDrive/project/Kyowon/data/test/TEST_00631.png\t[GO][GO][GO][GO][GO][GO][GO][GO][GO][GO][GO][GO][GO][GO][GO][GO][GO][GO][GO][GO][GO][GO][GO][GO][GO][GO\n",
            "/content/drive/MyDrive/project/Kyowon/data/test/TEST_00632.png\t[GO][GO][GO][GO][GO][GO][GO][GO][GO][GO][GO][GO][GO][GO][GO][GO][GO][GO][GO][GO][GO][GO][GO][GO][GO][GO\n",
            "/content/drive/MyDrive/project/Kyowon/data/test/TEST_00633.png\t[GO][GO][GO][GO][GO][GO][GO][GO][GO][GO][GO][GO][GO][GO][GO][GO][GO][GO][GO][GO][GO][GO][GO][GO][GO][GO\n",
            "/content/drive/MyDrive/project/Kyowon/data/test/TEST_00634.png\t[GO][GO][GO][GO][GO][GO][GO][GO][GO][GO][GO][GO][GO][GO][GO][GO][GO][GO][GO][GO][GO][GO][GO][GO][GO][GO\n",
            "/content/drive/MyDrive/project/Kyowon/data/test/TEST_00635.png\t[GO][GO][GO][GO][GO][GO][GO][GO][GO][GO][GO][GO][GO][GO][GO][GO][GO][GO][GO][GO][GO][GO][GO][GO][GO][GO\n",
            "/content/drive/MyDrive/project/Kyowon/data/test/TEST_00636.png\t[GO][GO][GO][GO][GO][GO][GO][GO][GO][GO][GO][GO][GO][GO][GO][GO][GO][GO][GO][GO][GO][GO][GO][GO][GO][GO\n",
            "/content/drive/MyDrive/project/Kyowon/data/test/TEST_00637.png\t[GO][GO][GO][GO][GO][GO][GO][GO][GO][GO][GO][GO][GO][GO][GO][GO][GO][GO][GO][GO][GO][GO][GO][GO][GO][GO\n",
            "/content/drive/MyDrive/project/Kyowon/data/test/TEST_00638.png\t[GO][GO][GO][GO][GO][GO][GO][GO][GO][GO][GO][GO][GO][GO][GO][GO][GO][GO][GO][GO][GO][GO][GO][GO][GO][GO\n",
            "/content/drive/MyDrive/project/Kyowon/data/test/TEST_00639.png\t[GO][GO][GO][GO][GO][GO][GO][GO][GO][GO][GO][GO][GO][GO][GO][GO][GO][GO][GO][GO][GO][GO][GO][GO][GO][GO\n",
            "/content/drive/MyDrive/project/Kyowon/data/test/TEST_00640.png\t[GO][GO][GO][GO][GO][GO][GO][GO][GO][GO][GO][GO][GO][GO][GO][GO][GO][GO][GO][GO][GO][GO][GO][GO][GO][GO\n",
            "/content/drive/MyDrive/project/Kyowon/data/test/TEST_00641.png\t[GO][GO][GO][GO][GO][GO][GO][GO][GO][GO][GO][GO][GO][GO][GO][GO][GO][GO][GO][GO][GO][GO][GO][GO][GO][GO\n",
            "/content/drive/MyDrive/project/Kyowon/data/test/TEST_00642.png\t[GO][GO][GO][GO][GO][GO][GO][GO][GO][GO][GO][GO][GO][GO][GO][GO][GO][GO][GO][GO][GO][GO][GO][GO][GO][GO\n",
            "/content/drive/MyDrive/project/Kyowon/data/test/TEST_00643.png\t[GO][GO][GO][GO][GO][GO][GO][GO][GO][GO][GO][GO][GO][GO][GO][GO][GO][GO][GO][GO][GO][GO][GO][GO][GO][GO\n",
            "/content/drive/MyDrive/project/Kyowon/data/test/TEST_00644.png\t[GO][GO][GO][GO][GO][GO][GO][GO][GO][GO][GO][GO][GO][GO][GO][GO][GO][GO][GO][GO][GO][GO][GO][GO][GO][GO\n",
            "/content/drive/MyDrive/project/Kyowon/data/test/TEST_00645.png\t[GO][GO][GO][GO][GO][GO][GO][GO][GO][GO][GO][GO][GO][GO][GO][GO][GO][GO][GO][GO][GO][GO][GO][GO][GO][GO\n",
            "/content/drive/MyDrive/project/Kyowon/data/test/TEST_00646.png\t[GO][GO][GO][GO][GO][GO][GO][GO][GO][GO][GO][GO][GO][GO][GO][GO][GO][GO][GO][GO][GO][GO][GO][GO][GO][GO\n",
            "/content/drive/MyDrive/project/Kyowon/data/test/TEST_00647.png\t[GO][GO][GO][GO][GO][GO][GO][GO][GO][GO][GO][GO][GO][GO][GO][GO][GO][GO][GO][GO][GO][GO][GO][GO][GO][GO\n",
            "/content/drive/MyDrive/project/Kyowon/data/test/TEST_00648.png\t[GO][GO][GO][GO][GO][GO][GO][GO][GO][GO][GO][GO][GO][GO][GO][GO][GO][GO][GO][GO][GO][GO][GO][GO][GO][GO\n",
            "/content/drive/MyDrive/project/Kyowon/data/test/TEST_00649.png\t[GO][GO][GO][GO][GO][GO][GO][GO][GO][GO][GO][GO][GO][GO][GO][GO][GO][GO][GO][GO][GO][GO][GO][GO][GO][GO\n",
            "/content/drive/MyDrive/project/Kyowon/data/test/TEST_00650.png\t[GO][GO][GO][GO][GO][GO][GO][GO][GO][GO][GO][GO][GO][GO][GO][GO][GO][GO][GO][GO][GO][GO][GO][GO][GO][GO\n",
            "/content/drive/MyDrive/project/Kyowon/data/test/TEST_00651.png\t[GO][GO][GO][GO][GO][GO][GO][GO][GO][GO][GO][GO][GO][GO][GO][GO][GO][GO][GO][GO][GO][GO][GO][GO][GO][GO\n",
            "/content/drive/MyDrive/project/Kyowon/data/test/TEST_00652.png\t[GO][GO][GO][GO][GO][GO][GO][GO][GO][GO][GO][GO][GO][GO][GO][GO][GO][GO][GO][GO][GO][GO][GO][GO][GO][GO\n",
            "/content/drive/MyDrive/project/Kyowon/data/test/TEST_00653.png\t[GO][GO][GO][GO][GO][GO][GO][GO][GO][GO][GO][GO][GO][GO][GO][GO][GO][GO][GO][GO][GO][GO][GO][GO][GO][GO\n",
            "/content/drive/MyDrive/project/Kyowon/data/test/TEST_00654.png\t[GO][GO][GO][GO][GO][GO][GO][GO][GO][GO][GO][GO][GO][GO][GO][GO][GO][GO][GO][GO][GO][GO][GO][GO][GO][GO\n",
            "/content/drive/MyDrive/project/Kyowon/data/test/TEST_00655.png\t[GO][GO][GO][GO][GO][GO][GO][GO][GO][GO][GO][GO][GO][GO][GO][GO][GO][GO][GO][GO][GO][GO][GO][GO][GO][GO\n",
            "/content/drive/MyDrive/project/Kyowon/data/test/TEST_00656.png\t[GO][GO][GO][GO][GO][GO][GO][GO][GO][GO][GO][GO][GO][GO][GO][GO][GO][GO][GO][GO][GO][GO][GO][GO][GO][GO\n",
            "/content/drive/MyDrive/project/Kyowon/data/test/TEST_00657.png\t[GO][GO][GO][GO][GO][GO][GO][GO][GO][GO][GO][GO][GO][GO][GO][GO][GO][GO][GO][GO][GO][GO][GO][GO][GO][GO\n",
            "/content/drive/MyDrive/project/Kyowon/data/test/TEST_00658.png\t[GO][GO][GO][GO][GO][GO][GO][GO][GO][GO][GO][GO][GO][GO][GO][GO][GO][GO][GO][GO][GO][GO][GO][GO][GO][GO\n",
            "/content/drive/MyDrive/project/Kyowon/data/test/TEST_00659.png\t[GO][GO][GO][GO][GO][GO][GO][GO][GO][GO][GO][GO][GO][GO][GO][GO][GO][GO][GO][GO][GO][GO][GO][GO][GO][GO\n",
            "/content/drive/MyDrive/project/Kyowon/data/test/TEST_00660.png\t[GO][GO][GO][GO][GO][GO][GO][GO][GO][GO][GO][GO][GO][GO][GO][GO][GO][GO][GO][GO][GO][GO][GO][GO][GO][GO\n",
            "/content/drive/MyDrive/project/Kyowon/data/test/TEST_00661.png\t[GO][GO][GO][GO][GO][GO][GO][GO][GO][GO][GO][GO][GO][GO][GO][GO][GO][GO][GO][GO][GO][GO][GO][GO][GO][GO\n",
            "/content/drive/MyDrive/project/Kyowon/data/test/TEST_00662.png\t[GO][GO][GO][GO][GO][GO][GO][GO][GO][GO][GO][GO][GO][GO][GO][GO][GO][GO][GO][GO][GO][GO][GO][GO][GO][GO\n",
            "/content/drive/MyDrive/project/Kyowon/data/test/TEST_00663.png\t[GO][GO][GO][GO][GO][GO][GO][GO][GO][GO][GO][GO][GO][GO][GO][GO][GO][GO][GO][GO][GO][GO][GO][GO][GO][GO\n",
            "/content/drive/MyDrive/project/Kyowon/data/test/TEST_00664.png\t[GO][GO][GO][GO][GO][GO][GO][GO][GO][GO][GO][GO][GO][GO][GO][GO][GO][GO][GO][GO][GO][GO][GO][GO][GO][GO\n",
            "/content/drive/MyDrive/project/Kyowon/data/test/TEST_00665.png\t[GO][GO][GO][GO][GO][GO][GO][GO][GO][GO][GO][GO][GO][GO][GO][GO][GO][GO][GO][GO][GO][GO][GO][GO][GO][GO\n",
            "/content/drive/MyDrive/project/Kyowon/data/test/TEST_00666.png\t[GO][GO][GO][GO][GO][GO][GO][GO][GO][GO][GO][GO][GO][GO][GO][GO][GO][GO][GO][GO][GO][GO][GO][GO][GO][GO\n",
            "/content/drive/MyDrive/project/Kyowon/data/test/TEST_00667.png\t[GO][GO][GO][GO][GO][GO][GO][GO][GO][GO][GO][GO][GO][GO][GO][GO][GO][GO][GO][GO][GO][GO][GO][GO][GO][GO\n",
            "/content/drive/MyDrive/project/Kyowon/data/test/TEST_00668.png\t[GO][GO][GO][GO][GO][GO][GO][GO][GO][GO][GO][GO][GO][GO][GO][GO][GO][GO][GO][GO][GO][GO][GO][GO][GO][GO\n",
            "/content/drive/MyDrive/project/Kyowon/data/test/TEST_00669.png\t[GO][GO][GO][GO][GO][GO][GO][GO][GO][GO][GO][GO][GO][GO][GO][GO][GO][GO][GO][GO][GO][GO][GO][GO][GO][GO\n",
            "/content/drive/MyDrive/project/Kyowon/data/test/TEST_00670.png\t[GO][GO][GO][GO][GO][GO][GO][GO][GO][GO][GO][GO][GO][GO][GO][GO][GO][GO][GO][GO][GO][GO][GO][GO][GO][GO\n",
            "/content/drive/MyDrive/project/Kyowon/data/test/TEST_00671.png\t[GO][GO][GO][GO][GO][GO][GO][GO][GO][GO][GO][GO][GO][GO][GO][GO][GO][GO][GO][GO][GO][GO][GO][GO][GO][GO\n",
            "/content/drive/MyDrive/project/Kyowon/data/test/TEST_00672.png\t[GO][GO][GO][GO][GO][GO][GO][GO][GO][GO][GO][GO][GO][GO][GO][GO][GO][GO][GO][GO][GO][GO][GO][GO][GO][GO\n",
            "/content/drive/MyDrive/project/Kyowon/data/test/TEST_00673.png\t[GO][GO][GO][GO][GO][GO][GO][GO][GO][GO][GO][GO][GO][GO][GO][GO][GO][GO][GO][GO][GO][GO][GO][GO][GO][GO\n",
            "/content/drive/MyDrive/project/Kyowon/data/test/TEST_00674.png\t[GO][GO][GO][GO][GO][GO][GO][GO][GO][GO][GO][GO][GO][GO][GO][GO][GO][GO][GO][GO][GO][GO][GO][GO][GO][GO\n",
            "/content/drive/MyDrive/project/Kyowon/data/test/TEST_00675.png\t[GO][GO][GO][GO][GO][GO][GO][GO][GO][GO][GO][GO][GO][GO][GO][GO][GO][GO][GO][GO][GO][GO][GO][GO][GO][GO\n",
            "/content/drive/MyDrive/project/Kyowon/data/test/TEST_00676.png\t[GO][GO][GO][GO][GO][GO][GO][GO][GO][GO][GO][GO][GO][GO][GO][GO][GO][GO][GO][GO][GO][GO][GO][GO][GO][GO\n",
            "/content/drive/MyDrive/project/Kyowon/data/test/TEST_00677.png\t[GO][GO][GO][GO][GO][GO][GO][GO][GO][GO][GO][GO][GO][GO][GO][GO][GO][GO][GO][GO][GO][GO][GO][GO][GO][GO\n",
            "/content/drive/MyDrive/project/Kyowon/data/test/TEST_00678.png\t[GO][GO][GO][GO][GO][GO][GO][GO][GO][GO][GO][GO][GO][GO][GO][GO][GO][GO][GO][GO][GO][GO][GO][GO][GO][GO\n",
            "/content/drive/MyDrive/project/Kyowon/data/test/TEST_00679.png\t[GO][GO][GO][GO][GO][GO][GO][GO][GO][GO][GO][GO][GO][GO][GO][GO][GO][GO][GO][GO][GO][GO][GO][GO][GO][GO\n",
            "/content/drive/MyDrive/project/Kyowon/data/test/TEST_00680.png\t[GO][GO][GO][GO][GO][GO][GO][GO][GO][GO][GO][GO][GO][GO][GO][GO][GO][GO][GO][GO][GO][GO][GO][GO][GO][GO\n",
            "/content/drive/MyDrive/project/Kyowon/data/test/TEST_00681.png\t[GO][GO][GO][GO][GO][GO][GO][GO][GO][GO][GO][GO][GO][GO][GO][GO][GO][GO][GO][GO][GO][GO][GO][GO][GO][GO\n",
            "/content/drive/MyDrive/project/Kyowon/data/test/TEST_00682.png\t[GO][GO][GO][GO][GO][GO][GO][GO][GO][GO][GO][GO][GO][GO][GO][GO][GO][GO][GO][GO][GO][GO][GO][GO][GO][GO\n",
            "/content/drive/MyDrive/project/Kyowon/data/test/TEST_00683.png\t[GO][GO][GO][GO][GO][GO][GO][GO][GO][GO][GO][GO][GO][GO][GO][GO][GO][GO][GO][GO][GO][GO][GO][GO][GO][GO\n",
            "/content/drive/MyDrive/project/Kyowon/data/test/TEST_00684.png\t[GO][GO][GO][GO][GO][GO][GO][GO][GO][GO][GO][GO][GO][GO][GO][GO][GO][GO][GO][GO][GO][GO][GO][GO][GO][GO\n",
            "/content/drive/MyDrive/project/Kyowon/data/test/TEST_00685.png\t[GO][GO][GO][GO][GO][GO][GO][GO][GO][GO][GO][GO][GO][GO][GO][GO][GO][GO][GO][GO][GO][GO][GO][GO][GO][GO\n",
            "/content/drive/MyDrive/project/Kyowon/data/test/TEST_00686.png\t[GO][GO][GO][GO][GO][GO][GO][GO][GO][GO][GO][GO][GO][GO][GO][GO][GO][GO][GO][GO][GO][GO][GO][GO][GO][GO\n",
            "/content/drive/MyDrive/project/Kyowon/data/test/TEST_00687.png\t[GO][GO][GO][GO][GO][GO][GO][GO][GO][GO][GO][GO][GO][GO][GO][GO][GO][GO][GO][GO][GO][GO][GO][GO][GO][GO\n",
            "/content/drive/MyDrive/project/Kyowon/data/test/TEST_00688.png\t[GO][GO][GO][GO][GO][GO][GO][GO][GO][GO][GO][GO][GO][GO][GO][GO][GO][GO][GO][GO][GO][GO][GO][GO][GO][GO\n",
            "/content/drive/MyDrive/project/Kyowon/data/test/TEST_00689.png\t[GO][GO][GO][GO][GO][GO][GO][GO][GO][GO][GO][GO][GO][GO][GO][GO][GO][GO][GO][GO][GO][GO][GO][GO][GO][GO\n",
            "/content/drive/MyDrive/project/Kyowon/data/test/TEST_00690.png\t[GO][GO][GO][GO][GO][GO][GO][GO][GO][GO][GO][GO][GO][GO][GO][GO][GO][GO][GO][GO][GO][GO][GO][GO][GO][GO\n",
            "/content/drive/MyDrive/project/Kyowon/data/test/TEST_00691.png\t[GO][GO][GO][GO][GO][GO][GO][GO][GO][GO][GO][GO][GO][GO][GO][GO][GO][GO][GO][GO][GO][GO][GO][GO][GO][GO\n",
            "/content/drive/MyDrive/project/Kyowon/data/test/TEST_00692.png\t[GO][GO][GO][GO][GO][GO][GO][GO][GO][GO][GO][GO][GO][GO][GO][GO][GO][GO][GO][GO][GO][GO][GO][GO][GO][GO\n",
            "/content/drive/MyDrive/project/Kyowon/data/test/TEST_00693.png\t[GO][GO][GO][GO][GO][GO][GO][GO][GO][GO][GO][GO][GO][GO][GO][GO][GO][GO][GO][GO][GO][GO][GO][GO][GO][GO\n",
            "/content/drive/MyDrive/project/Kyowon/data/test/TEST_00694.png\t[GO][GO][GO][GO][GO][GO][GO][GO][GO][GO][GO][GO][GO][GO][GO][GO][GO][GO][GO][GO][GO][GO][GO][GO][GO][GO\n",
            "/content/drive/MyDrive/project/Kyowon/data/test/TEST_00695.png\t[GO][GO][GO][GO][GO][GO][GO][GO][GO][GO][GO][GO][GO][GO][GO][GO][GO][GO][GO][GO][GO][GO][GO][GO][GO][GO\n",
            "/content/drive/MyDrive/project/Kyowon/data/test/TEST_00696.png\t[GO][GO][GO][GO][GO][GO][GO][GO][GO][GO][GO][GO][GO][GO][GO][GO][GO][GO][GO][GO][GO][GO][GO][GO][GO][GO\n",
            "/content/drive/MyDrive/project/Kyowon/data/test/TEST_00697.png\t[GO][GO][GO][GO][GO][GO][GO][GO][GO][GO][GO][GO][GO][GO][GO][GO][GO][GO][GO][GO][GO][GO][GO][GO][GO][GO\n",
            "/content/drive/MyDrive/project/Kyowon/data/test/TEST_00698.png\t[GO][GO][GO][GO][GO][GO][GO][GO][GO][GO][GO][GO][GO][GO][GO][GO][GO][GO][GO][GO][GO][GO][GO][GO][GO][GO\n",
            "/content/drive/MyDrive/project/Kyowon/data/test/TEST_00699.png\t[GO][GO][GO][GO][GO][GO][GO][GO][GO][GO][GO][GO][GO][GO][GO][GO][GO][GO][GO][GO][GO][GO][GO][GO][GO][GO\n",
            "/content/drive/MyDrive/project/Kyowon/data/test/TEST_00700.png\t[GO][GO][GO][GO][GO][GO][GO][GO][GO][GO][GO][GO][GO][GO][GO][GO][GO][GO][GO][GO][GO][GO][GO][GO][GO][GO\n",
            "/content/drive/MyDrive/project/Kyowon/data/test/TEST_00701.png\t[GO][GO][GO][GO][GO][GO][GO][GO][GO][GO][GO][GO][GO][GO][GO][GO][GO][GO][GO][GO][GO][GO][GO][GO][GO][GO\n",
            "/content/drive/MyDrive/project/Kyowon/data/test/TEST_00702.png\t[GO][GO][GO][GO][GO][GO][GO][GO][GO][GO][GO][GO][GO][GO][GO][GO][GO][GO][GO][GO][GO][GO][GO][GO][GO][GO\n",
            "/content/drive/MyDrive/project/Kyowon/data/test/TEST_00703.png\t[GO][GO][GO][GO][GO][GO][GO][GO][GO][GO][GO][GO][GO][GO][GO][GO][GO][GO][GO][GO][GO][GO][GO][GO][GO][GO\n",
            "/content/drive/MyDrive/project/Kyowon/data/test/TEST_00704.png\t[GO][GO][GO][GO][GO][GO][GO][GO][GO][GO][GO][GO][GO][GO][GO][GO][GO][GO][GO][GO][GO][GO][GO][GO][GO][GO\n",
            "/content/drive/MyDrive/project/Kyowon/data/test/TEST_00705.png\t[GO][GO][GO][GO][GO][GO][GO][GO][GO][GO][GO][GO][GO][GO][GO][GO][GO][GO][GO][GO][GO][GO][GO][GO][GO][GO\n",
            "/content/drive/MyDrive/project/Kyowon/data/test/TEST_00706.png\t[GO][GO][GO][GO][GO][GO][GO][GO][GO][GO][GO][GO][GO][GO][GO][GO][GO][GO][GO][GO][GO][GO][GO][GO][GO][GO\n",
            "/content/drive/MyDrive/project/Kyowon/data/test/TEST_00707.png\t[GO][GO][GO][GO][GO][GO][GO][GO][GO][GO][GO][GO][GO][GO][GO][GO][GO][GO][GO][GO][GO][GO][GO][GO][GO][GO\n",
            "/content/drive/MyDrive/project/Kyowon/data/test/TEST_00708.png\t[GO][GO][GO][GO][GO][GO][GO][GO][GO][GO][GO][GO][GO][GO][GO][GO][GO][GO][GO][GO][GO][GO][GO][GO][GO][GO\n",
            "/content/drive/MyDrive/project/Kyowon/data/test/TEST_00709.png\t[GO][GO][GO][GO][GO][GO][GO][GO][GO][GO][GO][GO][GO][GO][GO][GO][GO][GO][GO][GO][GO][GO][GO][GO][GO][GO\n",
            "/content/drive/MyDrive/project/Kyowon/data/test/TEST_00710.png\t[GO][GO][GO][GO][GO][GO][GO][GO][GO][GO][GO][GO][GO][GO][GO][GO][GO][GO][GO][GO][GO][GO][GO][GO][GO][GO\n",
            "/content/drive/MyDrive/project/Kyowon/data/test/TEST_00711.png\t[GO][GO][GO][GO][GO][GO][GO][GO][GO][GO][GO][GO][GO][GO][GO][GO][GO][GO][GO][GO][GO][GO][GO][GO][GO][GO\n",
            "/content/drive/MyDrive/project/Kyowon/data/test/TEST_00712.png\t[GO][GO][GO][GO][GO][GO][GO][GO][GO][GO][GO][GO][GO][GO][GO][GO][GO][GO][GO][GO][GO][GO][GO][GO][GO][GO\n",
            "/content/drive/MyDrive/project/Kyowon/data/test/TEST_00713.png\t[GO][GO][GO][GO][GO][GO][GO][GO][GO][GO][GO][GO][GO][GO][GO][GO][GO][GO][GO][GO][GO][GO][GO][GO][GO][GO\n",
            "/content/drive/MyDrive/project/Kyowon/data/test/TEST_00714.png\t[GO][GO][GO][GO][GO][GO][GO][GO][GO][GO][GO][GO][GO][GO][GO][GO][GO][GO][GO][GO][GO][GO][GO][GO][GO][GO\n",
            "/content/drive/MyDrive/project/Kyowon/data/test/TEST_00715.png\t[GO][GO][GO][GO][GO][GO][GO][GO][GO][GO][GO][GO][GO][GO][GO][GO][GO][GO][GO][GO][GO][GO][GO][GO][GO][GO\n",
            "/content/drive/MyDrive/project/Kyowon/data/test/TEST_00716.png\t[GO][GO][GO][GO][GO][GO][GO][GO][GO][GO][GO][GO][GO][GO][GO][GO][GO][GO][GO][GO][GO][GO][GO][GO][GO][GO\n",
            "/content/drive/MyDrive/project/Kyowon/data/test/TEST_00717.png\t[GO][GO][GO][GO][GO][GO][GO][GO][GO][GO][GO][GO][GO][GO][GO][GO][GO][GO][GO][GO][GO][GO][GO][GO][GO][GO\n",
            "/content/drive/MyDrive/project/Kyowon/data/test/TEST_00718.png\t[GO][GO][GO][GO][GO][GO][GO][GO][GO][GO][GO][GO][GO][GO][GO][GO][GO][GO][GO][GO][GO][GO][GO][GO][GO][GO\n",
            "/content/drive/MyDrive/project/Kyowon/data/test/TEST_00719.png\t[GO][GO][GO][GO][GO][GO][GO][GO][GO][GO][GO][GO][GO][GO][GO][GO][GO][GO][GO][GO][GO][GO][GO][GO][GO][GO\n",
            "/content/drive/MyDrive/project/Kyowon/data/test/TEST_00720.png\t[GO][GO][GO][GO][GO][GO][GO][GO][GO][GO][GO][GO][GO][GO][GO][GO][GO][GO][GO][GO][GO][GO][GO][GO][GO][GO\n",
            "/content/drive/MyDrive/project/Kyowon/data/test/TEST_00721.png\t[GO][GO][GO][GO][GO][GO][GO][GO][GO][GO][GO][GO][GO][GO][GO][GO][GO][GO][GO][GO][GO][GO][GO][GO][GO][GO\n",
            "/content/drive/MyDrive/project/Kyowon/data/test/TEST_00722.png\t[GO][GO][GO][GO][GO][GO][GO][GO][GO][GO][GO][GO][GO][GO][GO][GO][GO][GO][GO][GO][GO][GO][GO][GO][GO][GO\n",
            "/content/drive/MyDrive/project/Kyowon/data/test/TEST_00723.png\t[GO][GO][GO][GO][GO][GO][GO][GO][GO][GO][GO][GO][GO][GO][GO][GO][GO][GO][GO][GO][GO][GO][GO][GO][GO][GO\n",
            "/content/drive/MyDrive/project/Kyowon/data/test/TEST_00724.png\t[GO][GO][GO][GO][GO][GO][GO][GO][GO][GO][GO][GO][GO][GO][GO][GO][GO][GO][GO][GO][GO][GO][GO][GO][GO][GO\n",
            "/content/drive/MyDrive/project/Kyowon/data/test/TEST_00725.png\t[GO][GO][GO][GO][GO][GO][GO][GO][GO][GO][GO][GO][GO][GO][GO][GO][GO][GO][GO][GO][GO][GO][GO][GO][GO][GO\n",
            "/content/drive/MyDrive/project/Kyowon/data/test/TEST_00726.png\t[GO][GO][GO][GO][GO][GO][GO][GO][GO][GO][GO][GO][GO][GO][GO][GO][GO][GO][GO][GO][GO][GO][GO][GO][GO][GO\n",
            "/content/drive/MyDrive/project/Kyowon/data/test/TEST_00727.png\t[GO][GO][GO][GO][GO][GO][GO][GO][GO][GO][GO][GO][GO][GO][GO][GO][GO][GO][GO][GO][GO][GO][GO][GO][GO][GO\n",
            "/content/drive/MyDrive/project/Kyowon/data/test/TEST_00728.png\t[GO][GO][GO][GO][GO][GO][GO][GO][GO][GO][GO][GO][GO][GO][GO][GO][GO][GO][GO][GO][GO][GO][GO][GO][GO][GO\n",
            "/content/drive/MyDrive/project/Kyowon/data/test/TEST_00729.png\t[GO][GO][GO][GO][GO][GO][GO][GO][GO][GO][GO][GO][GO][GO][GO][GO][GO][GO][GO][GO][GO][GO][GO][GO][GO][GO\n",
            "/content/drive/MyDrive/project/Kyowon/data/test/TEST_00730.png\t[GO][GO][GO][GO][GO][GO][GO][GO][GO][GO][GO][GO][GO][GO][GO][GO][GO][GO][GO][GO][GO][GO][GO][GO][GO][GO\n",
            "/content/drive/MyDrive/project/Kyowon/data/test/TEST_00731.png\t[GO][GO][GO][GO][GO][GO][GO][GO][GO][GO][GO][GO][GO][GO][GO][GO][GO][GO][GO][GO][GO][GO][GO][GO][GO][GO\n",
            "/content/drive/MyDrive/project/Kyowon/data/test/TEST_00732.png\t[GO][GO][GO][GO][GO][GO][GO][GO][GO][GO][GO][GO][GO][GO][GO][GO][GO][GO][GO][GO][GO][GO][GO][GO][GO][GO\n",
            "/content/drive/MyDrive/project/Kyowon/data/test/TEST_00733.png\t[GO][GO][GO][GO][GO][GO][GO][GO][GO][GO][GO][GO][GO][GO][GO][GO][GO][GO][GO][GO][GO][GO][GO][GO][GO][GO\n",
            "/content/drive/MyDrive/project/Kyowon/data/test/TEST_00734.png\t[GO][GO][GO][GO][GO][GO][GO][GO][GO][GO][GO][GO][GO][GO][GO][GO][GO][GO][GO][GO][GO][GO][GO][GO][GO][GO\n",
            "/content/drive/MyDrive/project/Kyowon/data/test/TEST_00735.png\t[GO][GO][GO][GO][GO][GO][GO][GO][GO][GO][GO][GO][GO][GO][GO][GO][GO][GO][GO][GO][GO][GO][GO][GO][GO][GO\n",
            "/content/drive/MyDrive/project/Kyowon/data/test/TEST_00736.png\t[GO][GO][GO][GO][GO][GO][GO][GO][GO][GO][GO][GO][GO][GO][GO][GO][GO][GO][GO][GO][GO][GO][GO][GO][GO][GO\n",
            "/content/drive/MyDrive/project/Kyowon/data/test/TEST_00737.png\t[GO][GO][GO][GO][GO][GO][GO][GO][GO][GO][GO][GO][GO][GO][GO][GO][GO][GO][GO][GO][GO][GO][GO][GO][GO][GO\n",
            "/content/drive/MyDrive/project/Kyowon/data/test/TEST_00738.png\t[GO][GO][GO][GO][GO][GO][GO][GO][GO][GO][GO][GO][GO][GO][GO][GO][GO][GO][GO][GO][GO][GO][GO][GO][GO][GO\n",
            "/content/drive/MyDrive/project/Kyowon/data/test/TEST_00739.png\t[GO][GO][GO][GO][GO][GO][GO][GO][GO][GO][GO][GO][GO][GO][GO][GO][GO][GO][GO][GO][GO][GO][GO][GO][GO][GO\n",
            "/content/drive/MyDrive/project/Kyowon/data/test/TEST_00740.png\t[GO][GO][GO][GO][GO][GO][GO][GO][GO][GO][GO][GO][GO][GO][GO][GO][GO][GO][GO][GO][GO][GO][GO][GO][GO][GO\n",
            "/content/drive/MyDrive/project/Kyowon/data/test/TEST_00741.png\t[GO][GO][GO][GO][GO][GO][GO][GO][GO][GO][GO][GO][GO][GO][GO][GO][GO][GO][GO][GO][GO][GO][GO][GO][GO][GO\n",
            "/content/drive/MyDrive/project/Kyowon/data/test/TEST_00742.png\t[GO][GO][GO][GO][GO][GO][GO][GO][GO][GO][GO][GO][GO][GO][GO][GO][GO][GO][GO][GO][GO][GO][GO][GO][GO][GO\n",
            "/content/drive/MyDrive/project/Kyowon/data/test/TEST_00743.png\t[GO][GO][GO][GO][GO][GO][GO][GO][GO][GO][GO][GO][GO][GO][GO][GO][GO][GO][GO][GO][GO][GO][GO][GO][GO][GO\n",
            "/content/drive/MyDrive/project/Kyowon/data/test/TEST_00744.png\t[GO][GO][GO][GO][GO][GO][GO][GO][GO][GO][GO][GO][GO][GO][GO][GO][GO][GO][GO][GO][GO][GO][GO][GO][GO][GO\n",
            "/content/drive/MyDrive/project/Kyowon/data/test/TEST_00745.png\t[GO][GO][GO][GO][GO][GO][GO][GO][GO][GO][GO][GO][GO][GO][GO][GO][GO][GO][GO][GO][GO][GO][GO][GO][GO][GO\n",
            "/content/drive/MyDrive/project/Kyowon/data/test/TEST_00746.png\t[GO][GO][GO][GO][GO][GO][GO][GO][GO][GO][GO][GO][GO][GO][GO][GO][GO][GO][GO][GO][GO][GO][GO][GO][GO][GO\n",
            "/content/drive/MyDrive/project/Kyowon/data/test/TEST_00747.png\t[GO][GO][GO][GO][GO][GO][GO][GO][GO][GO][GO][GO][GO][GO][GO][GO][GO][GO][GO][GO][GO][GO][GO][GO][GO][GO\n",
            "/content/drive/MyDrive/project/Kyowon/data/test/TEST_00748.png\t[GO][GO][GO][GO][GO][GO][GO][GO][GO][GO][GO][GO][GO][GO][GO][GO][GO][GO][GO][GO][GO][GO][GO][GO][GO][GO\n",
            "/content/drive/MyDrive/project/Kyowon/data/test/TEST_00749.png\t[GO][GO][GO][GO][GO][GO][GO][GO][GO][GO][GO][GO][GO][GO][GO][GO][GO][GO][GO][GO][GO][GO][GO][GO][GO][GO\n",
            "/content/drive/MyDrive/project/Kyowon/data/test/TEST_00750.png\t[GO][GO][GO][GO][GO][GO][GO][GO][GO][GO][GO][GO][GO][GO][GO][GO][GO][GO][GO][GO][GO][GO][GO][GO][GO][GO\n",
            "/content/drive/MyDrive/project/Kyowon/data/test/TEST_00751.png\t[GO][GO][GO][GO][GO][GO][GO][GO][GO][GO][GO][GO][GO][GO][GO][GO][GO][GO][GO][GO][GO][GO][GO][GO][GO][GO\n",
            "/content/drive/MyDrive/project/Kyowon/data/test/TEST_00752.png\t[GO][GO][GO][GO][GO][GO][GO][GO][GO][GO][GO][GO][GO][GO][GO][GO][GO][GO][GO][GO][GO][GO][GO][GO][GO][GO\n",
            "/content/drive/MyDrive/project/Kyowon/data/test/TEST_00753.png\t[GO][GO][GO][GO][GO][GO][GO][GO][GO][GO][GO][GO][GO][GO][GO][GO][GO][GO][GO][GO][GO][GO][GO][GO][GO][GO\n",
            "/content/drive/MyDrive/project/Kyowon/data/test/TEST_00754.png\t[GO][GO][GO][GO][GO][GO][GO][GO][GO][GO][GO][GO][GO][GO][GO][GO][GO][GO][GO][GO][GO][GO][GO][GO][GO][GO\n",
            "/content/drive/MyDrive/project/Kyowon/data/test/TEST_00755.png\t[GO][GO][GO][GO][GO][GO][GO][GO][GO][GO][GO][GO][GO][GO][GO][GO][GO][GO][GO][GO][GO][GO][GO][GO][GO][GO\n",
            "/content/drive/MyDrive/project/Kyowon/data/test/TEST_00756.png\t[GO][GO][GO][GO][GO][GO][GO][GO][GO][GO][GO][GO][GO][GO][GO][GO][GO][GO][GO][GO][GO][GO][GO][GO][GO][GO\n",
            "/content/drive/MyDrive/project/Kyowon/data/test/TEST_00757.png\t[GO][GO][GO][GO][GO][GO][GO][GO][GO][GO][GO][GO][GO][GO][GO][GO][GO][GO][GO][GO][GO][GO][GO][GO][GO][GO\n",
            "/content/drive/MyDrive/project/Kyowon/data/test/TEST_00758.png\t[GO][GO][GO][GO][GO][GO][GO][GO][GO][GO][GO][GO][GO][GO][GO][GO][GO][GO][GO][GO][GO][GO][GO][GO][GO][GO\n",
            "/content/drive/MyDrive/project/Kyowon/data/test/TEST_00759.png\t[GO][GO][GO][GO][GO][GO][GO][GO][GO][GO][GO][GO][GO][GO][GO][GO][GO][GO][GO][GO][GO][GO][GO][GO][GO][GO\n",
            "/content/drive/MyDrive/project/Kyowon/data/test/TEST_00760.png\t[GO][GO][GO][GO][GO][GO][GO][GO][GO][GO][GO][GO][GO][GO][GO][GO][GO][GO][GO][GO][GO][GO][GO][GO][GO][GO\n",
            "/content/drive/MyDrive/project/Kyowon/data/test/TEST_00761.png\t[GO][GO][GO][GO][GO][GO][GO][GO][GO][GO][GO][GO][GO][GO][GO][GO][GO][GO][GO][GO][GO][GO][GO][GO][GO][GO\n",
            "/content/drive/MyDrive/project/Kyowon/data/test/TEST_00762.png\t[GO][GO][GO][GO][GO][GO][GO][GO][GO][GO][GO][GO][GO][GO][GO][GO][GO][GO][GO][GO][GO][GO][GO][GO][GO][GO\n",
            "/content/drive/MyDrive/project/Kyowon/data/test/TEST_00763.png\t[GO][GO][GO][GO][GO][GO][GO][GO][GO][GO][GO][GO][GO][GO][GO][GO][GO][GO][GO][GO][GO][GO][GO][GO][GO][GO\n",
            "/content/drive/MyDrive/project/Kyowon/data/test/TEST_00764.png\t[GO][GO][GO][GO][GO][GO][GO][GO][GO][GO][GO][GO][GO][GO][GO][GO][GO][GO][GO][GO][GO][GO][GO][GO][GO][GO\n",
            "/content/drive/MyDrive/project/Kyowon/data/test/TEST_00765.png\t[GO][GO][GO][GO][GO][GO][GO][GO][GO][GO][GO][GO][GO][GO][GO][GO][GO][GO][GO][GO][GO][GO][GO][GO][GO][GO\n",
            "/content/drive/MyDrive/project/Kyowon/data/test/TEST_00766.png\t[GO][GO][GO][GO][GO][GO][GO][GO][GO][GO][GO][GO][GO][GO][GO][GO][GO][GO][GO][GO][GO][GO][GO][GO][GO][GO\n",
            "/content/drive/MyDrive/project/Kyowon/data/test/TEST_00767.png\t[GO][GO][GO][GO][GO][GO][GO][GO][GO][GO][GO][GO][GO][GO][GO][GO][GO][GO][GO][GO][GO][GO][GO][GO][GO][GO\n"
          ]
        }
      ],
      "source": [
        "%cd '/content/dacon-handwritten-recognition/deep-text-recognition-benchmark'\n",
        "!python3 demo.py \\\n",
        "\t--image_folder '/content/drive/MyDrive/project/Kyowon/data/test'  \\\n",
        "\t--Transformation TPS \\\n",
        "\t--FeatureExtraction ResNet \\\n",
        "\t--SequenceModeling BiLSTM \\\n",
        "\t--Prediction Attn \\\n",
        "\t--imgH 64 \\\n",
        "\t--imgW 224 \\\n",
        "\t--PAD \\\n",
        "\t--saved_model './saved_models/TPS-ResNet-BiLSTM-Attn-Seed1111/best_accuracy.pth' # 훈련에 입력한 파라미터에 따라 폴더 경로가 달리짐."
      ]
    },
    {
      "cell_type": "markdown",
      "metadata": {
        "id": "Csw5U7vj0Y5N"
      },
      "source": [
        "참고 사이트\n",
        "1. https://davelogs.tistory.com/77\n",
        "2. https://github.com/DaveLogs/TRDG2DTRB.git\n",
        "3. https://github.com/clovaai/deep-text-recognition-benchmark\n"
      ]
    },
    {
      "cell_type": "code",
      "execution_count": null,
      "metadata": {
        "id": "0ET8WMWZPXh2"
      },
      "outputs": [],
      "source": []
    }
  ],
  "metadata": {
    "accelerator": "GPU",
    "colab": {
      "machine_shape": "hm",
      "provenance": []
    },
    "gpuClass": "standard",
    "kernelspec": {
      "display_name": "Python 3",
      "name": "python3"
    },
    "language_info": {
      "name": "python"
    }
  },
  "nbformat": 4,
  "nbformat_minor": 0
}